{
 "cells": [
  {
   "cell_type": "code",
   "execution_count": null,
   "id": "58b8a069",
   "metadata": {},
   "outputs": [],
   "source": [
    "import numpy as np\n",
    "import matplotlib.pyplot as plt\n",
    "from scipy.optimize import root_scalar\n",
    "from scipy.integrate import solve_ivp\n",
    "import matplotlib.animation as animation\n",
    "import timeit\n",
    "import weno_coefficients\n",
    "from numba import jit, int8, float32\n",
    "from math import factorial\n",
    "import tqdm"
   ]
  },
  {
   "cell_type": "code",
   "execution_count": null,
   "id": "cf9878d1",
   "metadata": {},
   "outputs": [],
   "source": [
    "%matplotlib notebook"
   ]
  },
  {
   "cell_type": "code",
   "execution_count": null,
   "id": "89331731",
   "metadata": {},
   "outputs": [],
   "source": [
    "full_width = (7.68, 4.8)\n",
    "half_width = (3.84, 4.8)\n",
    "plt.rcParams['figure.figsize'] = half_width # 50% of the screen, vertical, assuming a 1x2 plot\n",
    "plt.rcParams['font.size'] = 10\n",
    "save_plots = False"
   ]
  },
  {
   "cell_type": "markdown",
   "id": "17e8755b",
   "metadata": {},
   "source": [
    "# Various plots for the ETK Dublin 2022 meeting"
   ]
  },
  {
   "cell_type": "markdown",
   "id": "e972b7e3",
   "metadata": {},
   "source": [
    "## Toy models"
   ]
  },
  {
   "cell_type": "code",
   "execution_count": null,
   "id": "f195a826",
   "metadata": {},
   "outputs": [],
   "source": [
    "def wave_eqn(x, t):\n",
    "    x_p = x + t\n",
    "    x_m = x - t\n",
    "    width = 0.2\n",
    "    return (np.exp(-(x_p/width)**2)+np.exp(-(x_m/width)**2))/2"
   ]
  },
  {
   "cell_type": "code",
   "execution_count": null,
   "id": "8317bd0c",
   "metadata": {},
   "outputs": [],
   "source": [
    "def adv_eqn(x, t):\n",
    "    X = x - t\n",
    "    width = 0.2\n",
    "    return np.exp(-(X/width)**2)"
   ]
  },
  {
   "cell_type": "code",
   "execution_count": null,
   "id": "297e13b6",
   "metadata": {},
   "outputs": [],
   "source": [
    "plt.figure()\n",
    "x = np.linspace(-1, 1, 1000)\n",
    "for t in np.linspace(0, 0.5, 5):\n",
    "    plt.plot(x, wave_eqn(x, t))\n",
    "plt.show()"
   ]
  },
  {
   "cell_type": "code",
   "execution_count": null,
   "id": "30551e88",
   "metadata": {},
   "outputs": [],
   "source": [
    "plt.figure()\n",
    "for t in np.linspace(0, 0.5, 5):\n",
    "    plt.plot(x, adv_eqn(x, t))\n",
    "plt.show()"
   ]
  },
  {
   "cell_type": "markdown",
   "id": "02dc5ea6",
   "metadata": {},
   "source": [
    "What follows is not the true solution to Burger's equation - it's a frozen coefficient characteristic tracing of the initial data - but it's fine for illustrative purposes."
   ]
  },
  {
   "cell_type": "code",
   "execution_count": null,
   "id": "602e496f",
   "metadata": {},
   "outputs": [],
   "source": [
    "def burgers_eqn(x, t):\n",
    "    width = 0.2\n",
    "    amplitude = 0.5\n",
    "    def residual(x0, xi):\n",
    "        return xi - x0 - t * amplitude * (2 + np.exp(-(x0/width)**2))\n",
    "    y = np.zeros_like(x)\n",
    "    for i in range(len(x)):\n",
    "        sol = root_scalar(residual, x0=x[i]-0.01, x1=x[i]+0.01, args=(x[i],))\n",
    "        X = sol.root\n",
    "        y[i] = np.exp(-(X/width)**2)\n",
    "    return y"
   ]
  },
  {
   "cell_type": "code",
   "execution_count": null,
   "id": "bf9b2d4f",
   "metadata": {},
   "outputs": [],
   "source": [
    "plt.figure()\n",
    "for t in np.linspace(0, 0.5, 5):\n",
    "    plt.plot(x, burgers_eqn(x, t))\n",
    "plt.show()"
   ]
  },
  {
   "cell_type": "code",
   "execution_count": null,
   "id": "a162b931",
   "metadata": {},
   "outputs": [],
   "source": [
    "np.random.seed(1234)\n",
    "A_evals = np.diag(np.random.rand(4))\n",
    "P = np.random.rand(4, 4)\n",
    "b = np.random.rand(4)\n",
    "y0 = np.random.rand(4)\n",
    "\n",
    "def relax_rhs(t, y):\n",
    "    return (P@A_evals@P.T)@(b - y)\n",
    "\n",
    "sol_ivp = solve_ivp(relax_rhs, [0, 10], y0, dense_output=True)"
   ]
  },
  {
   "cell_type": "code",
   "execution_count": null,
   "id": "14563836",
   "metadata": {},
   "outputs": [],
   "source": [
    "plt.figure()\n",
    "t = np.linspace(0, 10, 1000)\n",
    "for i in range(4):\n",
    "    plt.plot(t, sol_ivp.sol(t)[i, :])"
   ]
  },
  {
   "cell_type": "code",
   "execution_count": null,
   "id": "66158c88",
   "metadata": {},
   "outputs": [],
   "source": [
    "plt.close('all')"
   ]
  },
  {
   "cell_type": "markdown",
   "id": "a5cf230b",
   "metadata": {},
   "source": [
    "## MoL"
   ]
  },
  {
   "cell_type": "code",
   "execution_count": null,
   "id": "50e57528",
   "metadata": {},
   "outputs": [],
   "source": [
    "fig, axes = plt.subplots(3, 1)\n",
    "\n",
    "x = np.linspace(0, 1, 500)\n",
    "y1 = np.zeros_like(x)\n",
    "y2 = 1 + 0.1 * np.sin(2*np.pi*(x+0.1))\n",
    "\n",
    "for ax in axes.flatten():\n",
    "    ax.fill_between(x, y1, y2, color='b', alpha=0.1)\n",
    "\n",
    "axes[0].text(0.1, 0.7, r\"${\\cal M}$\", size=16)\n",
    "    \n",
    "x_nodes = np.linspace(0.2, 0.8, 3)\n",
    "axes[1].plot(x_nodes, np.zeros_like(x_nodes), 'kx', lw=2, mew=2, ms=6)\n",
    "for xx in x_nodes:\n",
    "    axes[1].arrow(xx, 0, 0, 0.9+0.1*np.sin(2*np.pi*(xx+0.1)), color='b', lw=2)\n",
    "axes[1].annotate(r\"$\\Delta x$\", xy=(0.2, 0.25), xytext=(0.35, 0.25), arrowprops=dict(arrowstyle=\"->\"),\n",
    "                ha='center', va='center')\n",
    "axes[1].annotate(r\"\", xy=(0.5, 0.25), xytext=(0.38, 0.25), arrowprops=dict(arrowstyle=\"->\"),\n",
    "                ha='center', va='center')\n",
    "\n",
    "t_nodes = np.linspace(0, 0.8, 2)\n",
    "for xx in x_nodes:\n",
    "    axes[2].plot(xx*np.ones_like(t_nodes), t_nodes, 'kx', lw=2, mew=2, ms=6)\n",
    "axes[2].annotate(r\"$\\Delta x$\", xy=(0.2, 0.25), xytext=(0.35, 0.25), arrowprops=dict(arrowstyle=\"->\"),\n",
    "                ha='center', va='center')\n",
    "axes[2].annotate(r\"\", xy=(0.5, 0.25), xytext=(0.38, 0.25), arrowprops=dict(arrowstyle=\"->\"),\n",
    "                ha='center', va='center')\n",
    "axes[2].annotate(r\"$\\Delta t$\", xy=(0.65, 0.0), xytext=(0.65, 0.4), arrowprops=dict(arrowstyle=\"->\"),\n",
    "                ha='center', va='center')\n",
    "axes[2].annotate(r\"\", xy=(0.65, 0.8), xytext=(0.65, 0.48), arrowprops=dict(arrowstyle=\"->\"),\n",
    "                ha='center', va='center')\n",
    "\n",
    "for ax in axes.flatten():\n",
    "    ax.axis('off')\n",
    "\n",
    "fig.tight_layout()\n",
    "if save_plots:\n",
    "    fig.savefig('figures/mol1.svg', bbox_inches='tight')\n",
    "plt.show()"
   ]
  },
  {
   "cell_type": "code",
   "execution_count": null,
   "id": "f022e37e",
   "metadata": {},
   "outputs": [],
   "source": [
    "fig, axes = plt.subplots(3, 1)\n",
    "\n",
    "x = np.linspace(0, 1, 500)\n",
    "y1 = np.zeros_like(x)\n",
    "y2 = 1 + 0.1 * np.sin(2*np.pi*(x+0.1))\n",
    "\n",
    "for ax in axes.flatten():\n",
    "    ax.fill_between(x, y1, y2, color='b', alpha=0.1)\n",
    "\n",
    "axes[0].text(0.1, 0.7, r\"${\\cal M}$\", size=16)\n",
    "    \n",
    "x_nodes = np.linspace(0.2, 0.8, 3)\n",
    "axes[1].plot(x_nodes, np.zeros_like(x_nodes), 'kx', lw=2, mew=2, ms=6)\n",
    "for xx in x_nodes:\n",
    "    axes[1].arrow(xx, 0, 0, 0.9+0.1*np.sin(2*np.pi*(xx+0.1)), color='b', lw=2)\n",
    "axes[1].annotate(r\"$\\Delta x$\", xy=(0.2, 0.25), xytext=(0.35, 0.25), arrowprops=dict(arrowstyle=\"->\"),\n",
    "                ha='center', va='center')\n",
    "axes[1].annotate(r\"\", xy=(0.5, 0.25), xytext=(0.38, 0.25), arrowprops=dict(arrowstyle=\"->\"),\n",
    "                ha='center', va='center')\n",
    "\n",
    "t_nodes = np.linspace(0, 0.8, 2)\n",
    "for xx in x_nodes:\n",
    "    axes[2].plot(xx*np.ones_like(t_nodes), t_nodes, 'kx', lw=2, mew=2, ms=6)\n",
    "axes[2].fill_between([0.2, 0.5, 0.8], [0, 0.8, 0], [0, 0, 0], color='g', alpha=0.5)\n",
    "axes[2].fill_between([0.3, 0.5, 0.7], [0, 0.8, 0], [0, 0, 0], color='y', alpha=0.8)\n",
    "\n",
    "for ax in axes.flatten():\n",
    "    ax.axis('off')\n",
    "\n",
    "fig.tight_layout()\n",
    "if save_plots:\n",
    "    fig.savefig('figures/mol2.svg', bbox_inches='tight')\n",
    "plt.show()"
   ]
  },
  {
   "cell_type": "markdown",
   "id": "883df47a",
   "metadata": {},
   "source": [
    "## Movie"
   ]
  },
  {
   "cell_type": "code",
   "execution_count": null,
   "id": "2231e9c8",
   "metadata": {},
   "outputs": [],
   "source": [
    "fig = plt.figure()\n",
    "gs = fig.add_gridspec(2, 2, hspace=0.05, wspace=0.025)\n",
    "axes = gs.subplots()\n",
    "# fig, axes = plt.subplots(2, 2)\n",
    "line_wave, = axes[0, 0].plot(x, wave_eqn(x, 0))\n",
    "axes[0, 0].set_ylabel('Wave')\n",
    "line_adv,  = axes[1, 0].plot(x, adv_eqn(x, 0))\n",
    "axes[1, 0].set_ylabel('Advection')\n",
    "line_burgers, = axes[0, 1].plot(x, burgers_eqn(x, 0))\n",
    "axes[0, 1].set_ylabel('Burgers')\n",
    "axes[0, 1].yaxis.set_label_position('right')\n",
    "ts = np.linspace(0, 0.01, 1000)\n",
    "lines_relax_0, = axes[1, 1].plot(ts, sol_ivp.sol(ts)[0, :])\n",
    "lines_relax_1, = axes[1, 1].plot(ts, sol_ivp.sol(ts)[1, :])\n",
    "lines_relax_2, = axes[1, 1].plot(ts, sol_ivp.sol(ts)[2, :])\n",
    "lines_relax_3, = axes[1, 1].plot(ts, sol_ivp.sol(ts)[3, :])\n",
    "axes[1, 1].set_ylabel('Relaxation')\n",
    "axes[1, 1].yaxis.set_label_position('right')\n",
    "axes[1, 1].set_xlim(0, 10)\n",
    "axes[1, 1].set_ylim(0, 1)\n",
    "for ax in axes.flatten():\n",
    "    ax.set_xticks([])\n",
    "    ax.set_yticks([])\n",
    "# axes[1, 0].set_xlabel(\"$x$\")\n",
    "# axes[1, 1].set_xlabel(\"$t$\")\n",
    "\n",
    "i_total = 100\n",
    "def animate(i):\n",
    "    line_wave.set_data(x, wave_eqn(x, 0.5 * i / i_total))\n",
    "    line_adv.set_data(x, adv_eqn(x, 0.5 * i / i_total))\n",
    "    line_burgers.set_data(x, burgers_eqn(x, 0.5 * i / i_total))\n",
    "    ts = np.linspace(0, 10 * i / i_total, 1000)\n",
    "    lines_relax_0.set_data(ts, sol_ivp.sol(ts)[0, :])\n",
    "    lines_relax_1.set_data(ts, sol_ivp.sol(ts)[1, :])\n",
    "    lines_relax_2.set_data(ts, sol_ivp.sol(ts)[2, :])\n",
    "    lines_relax_3.set_data(ts, sol_ivp.sol(ts)[3, :])\n",
    "    return line_wave, line_adv, line_burgers, lines_relax_0, lines_relax_1, lines_relax_2, lines_relax_3\n",
    "\n",
    "anim = animation.FuncAnimation(fig, animate, interval=20, blit=True, frames=i_total)\n",
    "if save_plots:\n",
    "    anim.save('figures/toy_models.mp4')\n",
    "plt.show()"
   ]
  },
  {
   "cell_type": "markdown",
   "id": "7c006f61",
   "metadata": {},
   "source": [
    "## Phase errors"
   ]
  },
  {
   "cell_type": "markdown",
   "id": "13309bd9",
   "metadata": {},
   "source": [
    "The phase errors take the form from Hesthaven. The damping errors are put in by hand and are an assumption based on data from Table 8.1 in Hesthaven using the one-norm results. Look around p170."
   ]
  },
  {
   "cell_type": "code",
   "execution_count": null,
   "id": "733ce1f3",
   "metadata": {},
   "outputs": [],
   "source": [
    "print(1-np.exp(-(1/16)**2*90), 1-np.exp(-(1/4096)**2*90))\n",
    "print(1-np.exp(-(1/16)**4*5000), 1-np.exp(-(1/4096)**4*5000))"
   ]
  },
  {
   "cell_type": "code",
   "execution_count": null,
   "id": "11405184",
   "metadata": {},
   "outputs": [],
   "source": [
    "x = np.linspace(0, 2*np.pi, 1000)\n",
    "\n",
    "a = 1\n",
    "a2 = lambda l, h : a * (1 - (l*h)**2 / 6)\n",
    "a4 = lambda l, h : a * (1 - (l*h)**4 / 30)\n",
    "a6 = lambda l, h : a * (1 - (l*h)**6 / 140)\n",
    "\n",
    "damping2 = lambda h, t : np.exp(-h**2*90*t)\n",
    "damping4 = lambda h, t : np.exp(-h**4*5000*t)\n",
    "\n",
    "dxs = [0.1, 0.05]\n",
    "ls  = [2, 20]\n",
    "\n",
    "\n",
    "fig = plt.figure(figsize=full_width)\n",
    "gs = fig.add_gridspec(2, 2, hspace=0.05, wspace=0.025)\n",
    "axes = gs.subplots()\n",
    "for ax in axes.flatten():\n",
    "    ax.set_xticks([])\n",
    "    ax.set_yticks([])\n",
    "    ax.set_xlim(0, 2*np.pi)\n",
    "lines_exact = []\n",
    "lines_damp2 = []\n",
    "lines_damp4 = []\n",
    "for r, l in enumerate(ls):\n",
    "    axes[r, 0].set_ylabel(rf\"$\\ell={l}$\")\n",
    "    for c, dx in enumerate(dxs):\n",
    "        axes[1, c].set_xlabel(rf\"$\\Delta x={dx}$\")\n",
    "        l_e, = axes[r, c].plot(x, np.sin(l*x), 'k-', label=\"Exact\")\n",
    "        lines_exact.append(l_e)\n",
    "        l_d2, = axes[r, c].plot(x, np.sin(l*x), 'r--', label=r\"$2^{{nd}}$ order\")\n",
    "        lines_damp2.append(l_d2)\n",
    "        l_d4, = axes[r, c].plot(x, np.sin(l*x), 'g--', label=r\"$4^{{th}}$ order\")\n",
    "        lines_damp4.append(l_d4)\n",
    "axes[0, 0].legend(loc='upper left')\n",
    "\n",
    "i_total = 200\n",
    "t_end = 5\n",
    "def animate(i):\n",
    "    lines = []\n",
    "    for r, l in enumerate(ls):\n",
    "        for c, dx in enumerate(dxs):\n",
    "            t = t_end*i/i_total\n",
    "            lines_exact[c+2*r].set_data(x, np.sin(l*(x - a*t)))\n",
    "            lines_damp2[c+2*r].set_data(x, damping2(dx, t) * np.sin(l*(x - a2(l, dx)*t)))\n",
    "            lines_damp4[c+2*r].set_data(x, damping4(dx, t) * np.sin(l*(x - a4(l, dx)*t)))\n",
    "\n",
    "anim = animation.FuncAnimation(fig, animate, interval=100, blit=True, frames=i_total)\n",
    "if save_plots:\n",
    "    anim.save('figures/damping.mp4')\n",
    "plt.show()"
   ]
  },
  {
   "cell_type": "markdown",
   "id": "c5f020de",
   "metadata": {},
   "source": [
    "Phase error analysis. Again Hesthaven p170 on. \n",
    "\n",
    "Take a single wave mode with wavelength $\\lambda$ or wave number $\\ell = 2 \\pi / \\lambda$, propagating at speed $c$. Define the points per wavelength $p = 2 \\pi / (\\ell \\, \\Delta x)$ and the number of periods to solve the problem with end-time $T$, $\\nu = \\ell c T / (2 \\pi)$. Then the phase errors with different schemes are\n",
    "$$\n",
    "\\begin{aligned}\n",
    "e_2 &= \\frac{\\pi \\nu}{3} \\left( \\frac{2 \\pi}{p} \\right)^2, \\\\\n",
    "e_4 &= \\frac{\\pi \\nu}{15} \\left( \\frac{2 \\pi}{p} \\right)^4, \\\\\n",
    "e_6 &= \\frac{\\pi \\nu}{70} \\left( \\frac{2 \\pi}{p} \\right)^6.\n",
    "\\end{aligned}\n",
    "$$\n",
    "\n",
    "We are interested in gravitational waves of around one kHz over simulations times of around one second, $\\nu = 1000$. The wavelength or equivalently wave number depends on whether we're focusing on the spacetime or the fluid, but we can approximate them as roughly $\\pi / 10^4 \\textrm{m}^{-1}$ for the neutron star case, or $\\pi / (c 10^{-4}) \\textrm{m}^{-1}$ for the gravitational wave case."
   ]
  },
  {
   "cell_type": "markdown",
   "id": "54c9c4d0",
   "metadata": {},
   "source": [
    "From this we can reverse-engineer the required grid resolution, assuming a maximum phase error of $\\epsilon$, as\n",
    "$$\n",
    "\\begin{aligned}\n",
    "\\Delta x &\\le \\frac{2 \\pi}{\\ell} \\frac{1}{202} \\left[ \\epsilon \\right]^{1/2} \\\\\n",
    "\\Delta x &\\le \\frac{2 \\pi}{\\ell} \\frac{1}{51} \\left[ \\epsilon \\right]^{1/4} \\\\\n",
    "\\Delta x &\\le \\frac{2 \\pi}{\\ell} \\frac{1}{19} \\left[ \\epsilon \\right]^{1/6}\n",
    "\\end{aligned}\n",
    "$$\n",
    "depending on the order, which gives, assuming a $1\\%$ phase error:"
   ]
  },
  {
   "cell_type": "code",
   "execution_count": null,
   "id": "daf407f0",
   "metadata": {},
   "outputs": [],
   "source": [
    "# dx2 = lambda phase_error, ell: 2*np.pi/(202*ell) * (phase_error)**(1/2)\n",
    "# dx4 = lambda phase_error, ell: 2*np.pi/(51*ell) * (phase_error)**(1/4)\n",
    "# dx6 = lambda phase_error, ell: 2*np.pi/(19*ell) * (phase_error)**(1/6)\n",
    "dx2 = lambda phase_error, ell, nu: 1/(ell) * (3*phase_error/(nu*np.pi))**(1/2)\n",
    "dx4 = lambda phase_error, ell, nu: 1/(ell) * (15*phase_error/(nu*np.pi))**(1/4)\n",
    "dx6 = lambda phase_error, ell, nu: 1/(ell) * (70*phase_error/(nu*np.pi))**(1/6)\n",
    "\n",
    "ell_ns = np.pi/1e4\n",
    "ell_gw = np.pi/(3e8/1e4)\n",
    "\n",
    "nu=1000\n",
    "phase_error = 1e-2\n",
    "print(dx2(phase_error,ell_ns,nu), dx4(phase_error,ell_ns,nu), dx6(phase_error,ell_ns,nu))\n",
    "print(dx2(phase_error,ell_gw,nu), dx4(phase_error,ell_gw,nu), dx6(phase_error,ell_gw,nu))"
   ]
  },
  {
   "cell_type": "markdown",
   "id": "60a68c65",
   "metadata": {},
   "source": [
    "Now guess that ET/CE will need phase errors closer to $0.1\\%$, and that we need accurate GWs at ten kHz, meaning $\\nu = 10^4$:"
   ]
  },
  {
   "cell_type": "code",
   "execution_count": null,
   "id": "ae33acf1",
   "metadata": {},
   "outputs": [],
   "source": [
    "phase_error = 1e-4\n",
    "nu=1e4\n",
    "print(dx2(phase_error,ell_ns,nu), dx4(phase_error,ell_ns,nu), dx6(phase_error,ell_ns,nu))\n",
    "print(dx2(phase_error,ell_gw,nu), dx4(phase_error,ell_gw,nu), dx6(phase_error,ell_gw,nu))"
   ]
  },
  {
   "cell_type": "markdown",
   "id": "56b46672",
   "metadata": {},
   "source": [
    "Rule of thumb: 10 metres is the best people have done; 100 metres is (I think) about standard for medium to long term simulations."
   ]
  },
  {
   "cell_type": "code",
   "execution_count": null,
   "id": "724781db",
   "metadata": {},
   "outputs": [],
   "source": [
    "plt.close('all')"
   ]
  },
  {
   "cell_type": "markdown",
   "id": "734dee7a",
   "metadata": {},
   "source": [
    "## Actual solvers"
   ]
  },
  {
   "cell_type": "markdown",
   "id": "65e0d4de",
   "metadata": {},
   "source": [
    "### ODE solvers"
   ]
  },
  {
   "cell_type": "code",
   "execution_count": null,
   "id": "fd7db318",
   "metadata": {},
   "outputs": [],
   "source": [
    "def ssperk33(f, yn, dt):\n",
    "    y1 = yn + dt * f(yn)\n",
    "    y2 = (3 * yn + y1 + dt * f(y1)) / 4\n",
    "    return (yn + 2 * y2 + 2 * dt * f(y2)) / 3\n",
    "\n",
    "def ssperk104(f, yn, dt):\n",
    "    y1 = yn + dt * f(yn) / 6\n",
    "    y2 = y1 + dt * f(y1) / 6\n",
    "    y3 = y2 + dt * f(y2) / 6\n",
    "    y4 = y3 + dt * f(y3) / 6\n",
    "    y5 = (9 * yn + 6 * y4 + dt * f(y4)) / 15\n",
    "    y6 = y5 + dt * f(y5) / 6\n",
    "    y7 = y6 + dt * f(y6) / 6\n",
    "    y8 = y7 + dt * f(y7) / 6\n",
    "    y9 = y8 + dt * f(y8) / 6\n",
    "    return (2 * yn + 18 * y4 + 30 * y9 + 3 * dt * f(y4) + 5 * dt * f(y9)) / 50"
   ]
  },
  {
   "cell_type": "markdown",
   "id": "edc54980",
   "metadata": {},
   "source": [
    "### Setup"
   ]
  },
  {
   "cell_type": "markdown",
   "id": "b01501a3",
   "metadata": {},
   "source": [
    "#### Grid"
   ]
  },
  {
   "cell_type": "code",
   "execution_count": null,
   "id": "fbf4918f",
   "metadata": {},
   "outputs": [],
   "source": [
    "def grid(N, gz, a=0.0, b=2*np.pi):\n",
    "    dx = (b-a) / N\n",
    "    x = np.arange(a-(gz-1/2)*dx, b+(gz)*dx, dx)\n",
    "    return dx, x"
   ]
  },
  {
   "cell_type": "markdown",
   "id": "e62ba95e",
   "metadata": {},
   "source": [
    "#### Initial conditions"
   ]
  },
  {
   "cell_type": "code",
   "execution_count": null,
   "id": "5d7bede5",
   "metadata": {},
   "outputs": [],
   "source": [
    "def ics_smooth(x, a=0.0, b=2*np.pi, t=0):\n",
    "    L = b - a\n",
    "    X = L*x/(2*np.pi) - t\n",
    "    y = np.sin(X - np.sin(X)/np.pi)\n",
    "    dy = (L/(2*np.pi) - np.cos(X)*L/(2*np.pi**2))*np.cos(X - np.sin(X)/np.pi)\n",
    "    return y, dy\n",
    "\n",
    "def ics_discontinuous(x, a=0.0, b=2*np.pi, t=0):\n",
    "    L = b - a\n",
    "    x_norm = np.mod(x - t, L)\n",
    "    y = np.zeros_like(x)\n",
    "    dy = np.zeros_like(x)\n",
    "    for i, xx in enumerate(x_norm):\n",
    "        if (xx > a + L/8) and (xx < a + L/4):\n",
    "            y[i] = (xx - (a+L/8)) / (L/8)\n",
    "            dy[i] = 8/L\n",
    "        elif (xx > a + L/4) and (xx < a + 3*L/8):\n",
    "            y[i] = -(xx - (a+3*L/8)) / (L/8)\n",
    "            dy[i] = -8/L\n",
    "        elif (abs(xx - (a+3*L/4)) < L/8):\n",
    "            y[i] = 1\n",
    "    return y, dy"
   ]
  },
  {
   "cell_type": "markdown",
   "id": "20f27eb6",
   "metadata": {},
   "source": [
    "#### Solver"
   ]
  },
  {
   "cell_type": "code",
   "execution_count": null,
   "id": "8a1e9cab",
   "metadata": {},
   "outputs": [],
   "source": [
    "def solve_periodic(rhs, stepper, y0, dt, t_end=2*np.pi):\n",
    "    y = y0.copy()\n",
    "    t = 0\n",
    "    while t < t_end:\n",
    "        if t+dt > t_end:\n",
    "            dt = t_end - t \n",
    "        t += dt\n",
    "        y = stepper(rhs, y, dt)\n",
    "    return y"
   ]
  },
  {
   "cell_type": "markdown",
   "id": "c974ef48",
   "metadata": {},
   "source": [
    "#### Errors"
   ]
  },
  {
   "cell_type": "code",
   "execution_count": null,
   "id": "ce5929ae",
   "metadata": {},
   "outputs": [],
   "source": [
    "def compute_errors(y, y_exact, dx):\n",
    "    return np.sqrt(dx) * np.linalg.norm(y - y_exact, 2)\n",
    "\n",
    "def solve_and_errors(stepper, rhs_generator, N, gz, cfl=0.4, t_end=2*np.pi, a=0.0, b=2*np.pi, ics=ics_smooth,\n",
    "                     generator_arg=\"dx\"):\n",
    "    dx, x = grid(N, gz, a, b)\n",
    "    y0, dy = ics(x, a, b)\n",
    "    dt = cfl * dx\n",
    "    if generator_arg == \"dx\":\n",
    "        rhs = rhs_generator(dx)\n",
    "    else:\n",
    "        rhs = rhs_generator(N)\n",
    "    y = solve_periodic(rhs, stepper, y0, dt, t_end)\n",
    "    errors = compute_errors(y, y0, dx)\n",
    "    return x, y, dx, errors"
   ]
  },
  {
   "cell_type": "markdown",
   "id": "919a0096",
   "metadata": {},
   "source": [
    "#### Timing kernel"
   ]
  },
  {
   "cell_type": "code",
   "execution_count": null,
   "id": "2c9cfb19",
   "metadata": {},
   "outputs": [],
   "source": [
    "def time_kernel(stepper, rhs_generator, N, gz, cfl=0.4, t_end=2*np.pi, a=0.0, b=2*np.pi, ics=ics_smooth,\n",
    "                 generator_arg=\"dx\"):\n",
    "    dx, x = grid(N, gz, a, b)\n",
    "    y0, dy = ics(x, a, b)\n",
    "    dt = cfl * dx\n",
    "    if generator_arg == \"dx\":\n",
    "        rhs = rhs_generator(dx)\n",
    "    else:\n",
    "        rhs = rhs_generator(N)\n",
    "    y = solve_periodic(rhs, stepper, y0, dt, t_end)\n",
    "    return compute_errors(y, y0, dx)"
   ]
  },
  {
   "cell_type": "markdown",
   "id": "d326eece",
   "metadata": {},
   "source": [
    "#### Movie for one method"
   ]
  },
  {
   "cell_type": "code",
   "execution_count": null,
   "id": "8b9745eb",
   "metadata": {},
   "outputs": [],
   "source": [
    "def movie(stepper, rhs_generator, N, gz, name, cfl=0.4, t_end=2*np.pi, a=0.0, b=2*np.pi, ics=ics_smooth,\n",
    "         generator_arg=\"dx\"):\n",
    "    dx, x = grid(N, gz, a, b)\n",
    "    y0, dy = ics(x, a, b)\n",
    "    y = y0.copy()\n",
    "    dt = cfl * dx\n",
    "    Nframes = int(t_end / dt)+1\n",
    "    if generator_arg == \"dx\":\n",
    "        rhs = rhs_generator(dx)\n",
    "    else:\n",
    "        rhs = rhs_generator(N)\n",
    "    \n",
    "    \n",
    "    class Mov:\n",
    "        def __init__(self, ax):\n",
    "            self.ax = ax\n",
    "            self.name = name\n",
    "            self.x = x\n",
    "            self.y = y0.copy()\n",
    "            self.dt = cfl * dx\n",
    "            self.stepper = stepper\n",
    "            self.rhs = rhs\n",
    "            self.t = 0\n",
    "            self.t_end = t_end\n",
    "            _, x_exact = grid(1000, 1)\n",
    "            self.x_exact = x_exact\n",
    "            self.ics = ics\n",
    "            self.lines_exact, = self.ax.plot(x_exact, self.ics(x_exact)[0], 'b-', label=\"Exact\")\n",
    "            self.lines, = self.ax.plot(x, self.y, 'kx--', label=self.name)\n",
    "            self.ax.set_xlim(0, 2*np.pi)\n",
    "            self.ax.set_xticks([0, 0.5*np.pi, np.pi, 1.5*np.pi, 2*np.pi], [\"0\", r\"$\\pi$/2\", r\"$\\pi$\", r\"3$\\pi$/2\", r\"2$\\pi$\"])\n",
    "            self.ax.set_xlabel(r\"$x$\")\n",
    "            self.ax.legend(loc='upper left')\n",
    "            self.time_text = self.ax.set_title(r\"$t=0$\")\n",
    "\n",
    "        def update(self, i):\n",
    "            if self.t+self.dt > self.t_end:\n",
    "                self.dt = self.t_end - self.t\n",
    "            self.t += self.dt\n",
    "            self.y = self.stepper(self.rhs, self.y, self.dt)\n",
    "            self.lines_exact.set_data(self.x_exact, self.ics(self.x_exact, t=self.t)[0])\n",
    "            self.lines.set_data(self.x, self.y)\n",
    "            self.time_text.set_text(rf\"$t={self.t:.2f}$\")\n",
    "            return self.lines_exact, self.lines, self.time_text\n",
    "\n",
    "    fig, ax = plt.subplots()\n",
    "    mov = Mov(ax)\n",
    "\n",
    "    anim = animation.FuncAnimation(fig, mov.update, interval=100, blit=True, frames=Nframes)\n",
    "    return anim"
   ]
  },
  {
   "cell_type": "markdown",
   "id": "0901f98a",
   "metadata": {},
   "source": [
    "#### Error over time"
   ]
  },
  {
   "cell_type": "code",
   "execution_count": null,
   "id": "6ffda2e8",
   "metadata": {},
   "outputs": [],
   "source": [
    "def errors_over_time(stepper, rhs_generator, N, gz, cfl=0.4, t_end=2*np.pi, a=0.0, b=2*np.pi, ics=ics_smooth,\n",
    "                     generator_arg=\"dx\"):\n",
    "    dx, x = grid(N, gz, a, b)\n",
    "    y0, dy = ics(x, a, b)\n",
    "    dt = cfl * dx\n",
    "    if generator_arg == \"dx\":\n",
    "        rhs = rhs_generator(dx)\n",
    "    else:\n",
    "        rhs = rhs_generator(N)\n",
    "    y = y0.copy()\n",
    "    t = 0\n",
    "    ts = [t]\n",
    "    errors = [0.0]\n",
    "    while t < t_end:\n",
    "        if t+dt > t_end:\n",
    "            dt = t_end - t \n",
    "        t += dt\n",
    "        y = stepper(rhs, y, dt)\n",
    "        ts.append(t)\n",
    "        errors.append(compute_errors(y, ics(x, a, b, t)[0], dx))\n",
    "    return np.array(ts), np.array(errors)"
   ]
  },
  {
   "cell_type": "markdown",
   "id": "ac02b279",
   "metadata": {},
   "source": [
    "#### Finite difference RHSs"
   ]
  },
  {
   "cell_type": "markdown",
   "id": "03bdaa8f",
   "metadata": {},
   "source": [
    "These are the RHS generators for central finite differencing of second and fourth order. Both assume two ghost zones."
   ]
  },
  {
   "cell_type": "code",
   "execution_count": null,
   "id": "738b4053",
   "metadata": {},
   "outputs": [],
   "source": [
    "def rhs_advection_2(dx):\n",
    "    def rhs(y):\n",
    "        dydt = np.zeros_like(y)\n",
    "        dydt[2:-2] = -(y[3:-1] - y[1:-3]) / (2*dx)\n",
    "        dydt[0] = dydt[-4]\n",
    "        dydt[1] = dydt[-3]\n",
    "        dydt[-2] = dydt[2]\n",
    "        dydt[-1] = dydt[3]\n",
    "        return dydt\n",
    "    return rhs\n",
    "\n",
    "def rhs_advection_4(dx):\n",
    "    def rhs(y):\n",
    "        dydt = np.zeros_like(y)\n",
    "        dydt[2:-2] = -(-y[4:] + 8*y[3:-1] - 8*y[1:-3] + y[:-4]) / (12*dx)\n",
    "        dydt[0] = dydt[-4]\n",
    "        dydt[1] = dydt[-3]\n",
    "        dydt[-2] = dydt[2]\n",
    "        dydt[-1] = dydt[3]\n",
    "        return dydt\n",
    "    return rhs"
   ]
  },
  {
   "cell_type": "markdown",
   "id": "5ac2ea8e",
   "metadata": {},
   "source": [
    "#### Spectral RHSs"
   ]
  },
  {
   "cell_type": "markdown",
   "id": "22c36f67",
   "metadata": {},
   "source": [
    "This is the RHS generator for a spectral method. Ghost zones are built in."
   ]
  },
  {
   "cell_type": "code",
   "execution_count": null,
   "id": "17b951a5",
   "metadata": {},
   "outputs": [],
   "source": [
    "def setup_spectral_D(N, a=0.0, b=2*np.pi):\n",
    "    assert (np.allclose(a, 0) and np.allclose(b, 2*np.pi))\n",
    "    assert (N % 2 == 1)\n",
    "    D = np.zeros((N, N))\n",
    "    for i in range(N):\n",
    "        for j in range(N):\n",
    "            if i != j:\n",
    "                D[i, j] = (-1)**(i+j) / (2 * np.sin(np.pi*(i-j)/(N)))\n",
    "    return D\n",
    "\n",
    "def rhs_spectral(N):\n",
    "    D = setup_spectral_D(N)\n",
    "    def rhs(y):\n",
    "        return -D@y\n",
    "    return rhs"
   ]
  },
  {
   "cell_type": "markdown",
   "id": "77fb9a77",
   "metadata": {},
   "source": [
    "#### WENO method"
   ]
  },
  {
   "cell_type": "code",
   "execution_count": null,
   "id": "d43007e4",
   "metadata": {},
   "outputs": [],
   "source": [
    "@jit(float32[:](int8,float32[:]))\n",
    "def weno(order, q):\n",
    "    \"\"\"\n",
    "    Do WENO reconstruction\n",
    "\n",
    "    Parameters\n",
    "    ----------\n",
    "\n",
    "    order : int\n",
    "        The stencil width\n",
    "    q : numpy array\n",
    "        Scalar data to reconstruct\n",
    "\n",
    "    Returns\n",
    "    -------\n",
    "\n",
    "    qL : numpy array\n",
    "        Reconstructed data - boundary points are zero\n",
    "    \"\"\"\n",
    "    C = weno_coefficients.C_all[order]\n",
    "    a = weno_coefficients.a_all[order]\n",
    "    sigma = weno_coefficients.sigma_all[order]\n",
    "\n",
    "    qL = np.zeros_like(q)\n",
    "    beta = np.zeros((order, len(q)))\n",
    "    w = np.zeros_like(beta)\n",
    "    nx = len(q) - 2 * order\n",
    "    epsilon = 1e-16\n",
    "    for i in range(order, nx+order):\n",
    "        q_stencils = np.zeros(order)\n",
    "        alpha = np.zeros(order)\n",
    "        for k in range(order):\n",
    "            for l in range(order):\n",
    "                for m in range(l+1):\n",
    "                    beta[k, i] += sigma[k, l, m] * q[i+k-l] * q[i+k-m]\n",
    "            alpha[k] = C[k] / (epsilon + beta[k, i]**2)\n",
    "            for l in range(order):\n",
    "                q_stencils[k] += a[k, l] * q[i+k-l]\n",
    "        w[:, i] = alpha / np.sum(alpha)\n",
    "        qL[i] = np.dot(w[:, i], q_stencils)\n",
    "\n",
    "    return qL"
   ]
  },
  {
   "cell_type": "code",
   "execution_count": null,
   "id": "d1ec19ae",
   "metadata": {},
   "outputs": [],
   "source": [
    "# This is reconstruction as a centered FD method would do it.\n",
    "\n",
    "def reconstruction_fd(order, q):\n",
    "    C = weno_coefficients.C_all[order]\n",
    "    a = weno_coefficients.a_all[order]\n",
    "    qr = np.zeros_like(q)\n",
    "    for i in range(order, len(q)-order):\n",
    "        q_stencils = np.zeros(order)\n",
    "        alpha = np.zeros(order)\n",
    "        w = np.zeros(order)\n",
    "        for k in range(order):\n",
    "            alpha[k] = C[k]\n",
    "            for l in range(order):\n",
    "                q_stencils[k] += a[k, l] * q[i+k-l]\n",
    "        w = alpha / np.sum(alpha)\n",
    "        qr[i] = np.dot(w, q_stencils)\n",
    "    return qr"
   ]
  },
  {
   "cell_type": "code",
   "execution_count": null,
   "id": "f535fa15",
   "metadata": {},
   "outputs": [],
   "source": [
    "def rhs_advection_weno(dx, order=3):\n",
    "    def rhs(y):\n",
    "        dydt = np.zeros_like(y)\n",
    "        flux = np.zeros_like(y)\n",
    "        f = y.copy()\n",
    "        alpha = 1\n",
    "        fp = (f + alpha * y) / 2\n",
    "        fm = (f - alpha * y) / 2\n",
    "        fpr = np.zeros_like(y)\n",
    "        fml = np.zeros_like(y)\n",
    "        fpr[1:] = weno(order, fp[:-1])\n",
    "        fml[-1::-1] = weno(order, fm[-1::-1])\n",
    "        flux[1:-1] = fpr[1:-1] + fml[1:-1]\n",
    "        dydt[1:-1] = (flux[1:-1] - flux[2:]) / dx\n",
    "        for k in range(order+1):\n",
    "            dydt[k] = dydt[-(2*(order+1)-k)]\n",
    "            dydt[-(k+1)] = dydt[2*(order+1)-k-1]\n",
    "        return dydt\n",
    "    return rhs"
   ]
  },
  {
   "cell_type": "code",
   "execution_count": null,
   "id": "43b6589b",
   "metadata": {},
   "outputs": [],
   "source": []
  },
  {
   "cell_type": "markdown",
   "id": "37395f34",
   "metadata": {},
   "source": [
    "## Finite differences"
   ]
  },
  {
   "cell_type": "markdown",
   "id": "6e323725",
   "metadata": {},
   "source": [
    "Check the initial data:"
   ]
  },
  {
   "cell_type": "code",
   "execution_count": null,
   "id": "07ca50e1",
   "metadata": {},
   "outputs": [],
   "source": [
    "dx, x = grid(1000, 1)\n",
    "y, dy = ics_smooth(x)\n",
    "plt.figure()\n",
    "plt.plot(x, y)\n",
    "plt.plot(x, ics_smooth(x, t=1)[0])\n",
    "plt.xticks([0, 0.5*np.pi, np.pi, 1.5*np.pi, 2*np.pi], [\"0\", r\"$\\pi$/2\", r\"$\\pi$\", r\"3$\\pi$/2\", r\"2$\\pi$\"])\n",
    "plt.xlim(0, 2*np.pi)"
   ]
  },
  {
   "cell_type": "code",
   "execution_count": null,
   "id": "07fcbac4",
   "metadata": {},
   "outputs": [],
   "source": [
    "dx, x = grid(1000, 1)\n",
    "y, dy = ics_discontinuous(x)\n",
    "plt.figure()\n",
    "plt.plot(x, y)\n",
    "plt.plot(x, ics_discontinuous(x, t=1)[0])\n",
    "plt.xticks([0, 0.5*np.pi, np.pi, 1.5*np.pi, 2*np.pi], [\"0\", r\"$\\pi$/2\", r\"$\\pi$\", r\"3$\\pi$/2\", r\"2$\\pi$\"])\n",
    "plt.xlim(0, 2*np.pi)"
   ]
  },
  {
   "cell_type": "code",
   "execution_count": null,
   "id": "9eeca394",
   "metadata": {},
   "outputs": [],
   "source": [
    "N = 20\n",
    "gz = 2\n",
    "x, y2, dx, error2 = solve_and_errors(ssperk33, rhs_advection_2, N, gz)\n",
    "x, y4, dx, error4 = solve_and_errors(ssperk104, rhs_advection_4, N, gz)"
   ]
  },
  {
   "cell_type": "code",
   "execution_count": null,
   "id": "19dea357",
   "metadata": {},
   "outputs": [],
   "source": [
    "plt.figure()\n",
    "_, x_exact = grid(1000, 1)\n",
    "plt.plot(x_exact, ics_smooth(x_exact)[0], 'b-', label=\"Exact\")\n",
    "plt.plot(x, y2, 'kx--', label=\"Second order\")\n",
    "plt.plot(x, y4, 'r+--', label=\"Fourth order\")\n",
    "plt.xlim(0, 2*np.pi)\n",
    "plt.xticks([0, 0.5*np.pi, np.pi, 1.5*np.pi, 2*np.pi], [\"0\", r\"$\\pi$/2\", r\"$\\pi$\", r\"3$\\pi$/2\", r\"2$\\pi$\"])\n",
    "plt.xlabel(r\"$x$\")\n",
    "plt.legend()\n",
    "plt.show()"
   ]
  },
  {
   "cell_type": "code",
   "execution_count": null,
   "id": "5c76519a",
   "metadata": {},
   "outputs": [],
   "source": [
    "anim=movie(ssperk33, rhs_advection_2, 20, 2, \"Second order\")\n",
    "plt.show()"
   ]
  },
  {
   "cell_type": "markdown",
   "id": "5f5b0a9a",
   "metadata": {},
   "source": [
    "Question: how does the error increase with time? Answer: linearly."
   ]
  },
  {
   "cell_type": "code",
   "execution_count": null,
   "id": "493c4a66",
   "metadata": {},
   "outputs": [],
   "source": [
    "# This shows errors increasing linearly with time\n",
    "\n",
    "fig, axes = plt.subplots(2, 1, sharex=True)\n",
    "for N in [100, 200, 400]:\n",
    "    ts2, errors2 = errors_over_time(ssperk33, rhs_advection_2, N, gz, t_end=20*np.pi)\n",
    "    axes[0].plot(ts2[1:], errors2[1:]*N**2/ts2[1:], label=rf\"$N={N}$\")\n",
    "    ts4, errors4 = errors_over_time(ssperk104, rhs_advection_4, N, gz, t_end=20*np.pi)\n",
    "    axes[1].plot(ts4[1:], errors4[1:]*N**4/ts2[1:], label=rf\"$N={N}$\")\n",
    "axes[1].set_xlabel(\"t\")\n",
    "axes[1].set_xlim(0, 20*np.pi)\n",
    "axes[1].set_xticks([0, 10*np.pi, 20*np.pi], [r\"$0$\", r\"$10\\pi$\", r\"$20\\pi$\"])\n",
    "axes[0].set_ylabel(\"Second order\\n\"+r\"$N^2 t^{-1} \\|$Error$\\|_2$\")\n",
    "axes[1].set_ylabel(\"Fourth order\\n\"+r\"$N^4 t^{-1} \\|$Error$\\|_2$\")\n",
    "for ax in axes.flatten():\n",
    "    ax.legend(loc='upper left')\n",
    "fig.tight_layout()\n",
    "plt.show()"
   ]
  },
  {
   "cell_type": "markdown",
   "id": "62126f4c",
   "metadata": {},
   "source": [
    "Question: how does the error at fixed end-time vary with the timestep (effectively the CFL)? Answer: very little, until the ODE solver is the limiting factor (and for FD methods that really doesn't happen until very high order or resolution). The following commented code will show that (it's slow)."
   ]
  },
  {
   "cell_type": "code",
   "execution_count": null,
   "id": "7620a785",
   "metadata": {},
   "outputs": [],
   "source": [
    "# cfls = 0.4*2.0**(-np.arange(1, 6))\n",
    "# errors2 = np.zeros(len(cfls))\n",
    "# errors4 = np.zeros(len(cfls))\n",
    "# times2 = np.zeros(len(cfls))\n",
    "# times4 = np.zeros(len(cfls))\n",
    "# N = 400\n",
    "# t_end = 4*np.pi\n",
    "# for j, cfl in enumerate(tqdm.tqdm(cfls)):\n",
    "#     x, y2, dx, error2 = solve_and_errors(ssperk33, rhs_advection_2, N, gz, cfl=cfl, t_end=t_end)\n",
    "#     x, y4, dx, error4 = solve_and_errors(ssperk104, rhs_advection_4, N, gz, cfl=cfl, t_end=t_end)\n",
    "#     errors2[j] = error2\n",
    "#     errors4[j] = error4\n",
    "#     times2[j] = timeit.timeit(f\"time_kernel(ssperk33, rhs_advection_2, {N}, {gz}, cfl={cfl}, t_end={t_end})\",\n",
    "#                              globals=globals(), number=4)\n",
    "#     times4[j] = timeit.timeit(f\"time_kernel(ssperk104, rhs_advection_4, {N}, {gz}, cfl={cfl}, t_end={t_end})\",\n",
    "#                              globals=globals(), number=4)\n",
    "\n",
    "# p2 = np.polyfit(np.log(cfls), np.log(errors2), 1)\n",
    "# p4 = np.polyfit(np.log(cfls), np.log(errors4), 1)\n",
    "# p2_cost = np.polyfit(np.log(times2), np.log(errors2), 1)\n",
    "# p4_cost = np.polyfit(np.log(times4), np.log(errors4), 1)\n",
    "\n",
    "# print(times4, errors4)"
   ]
  },
  {
   "cell_type": "markdown",
   "id": "03fc4360",
   "metadata": {},
   "source": [
    "If we do a high-resolution spectral run so the solver is limited by the timestep, we do see improvements by reducing the CFL. Balancing this against the increase in cost is not easy."
   ]
  },
  {
   "cell_type": "code",
   "execution_count": null,
   "id": "c9dfcf87",
   "metadata": {},
   "outputs": [],
   "source": [
    "cfls = 0.4*2.0**(-np.arange(1, 6))\n",
    "errors_spectral = np.zeros(len(cfls))\n",
    "times_spectral = np.zeros(len(cfls))\n",
    "N = 101\n",
    "t_end = 4*np.pi\n",
    "for j, cfl in enumerate(tqdm.tqdm(cfls)):\n",
    "    x, y_s, dx, error_s = solve_and_errors(ssperk104, rhs_spectral, N, 0, cfl=cfl, t_end=t_end, generator_arg='N')\n",
    "    errors_spectral[j] = error_s\n",
    "    times_spectral[j] = timeit.timeit(f\"time_kernel(ssperk104, rhs_spectral, {N}, 0, cfl={cfl}, t_end={t_end}, generator_arg='N')\",\n",
    "                             globals=globals(), number=4)\n",
    "    \n",
    "p_spectral = np.polyfit(np.log(cfls[:-1]), np.log(errors_spectral[:-1]), 1)\n",
    "p_spectral_cost = np.polyfit(np.log(times_spectral[:-1]), np.log(errors_spectral[:-1]), 1)\n",
    "\n",
    "print(times_spectral, errors_spectral)"
   ]
  },
  {
   "cell_type": "code",
   "execution_count": null,
   "id": "8806d091",
   "metadata": {},
   "outputs": [],
   "source": [
    "fig, axes = plt.subplots(2, 1)\n",
    "axes[0].loglog(cfls, errors_spectral, 'go', label=\"Spectral\")\n",
    "axes[0].loglog(cfls[:-1], np.exp(p_spectral[1])*cfls[:-1]**(p_spectral[0]), 'g--', label=rf\"$\\propto (\\Delta t / \\Delta x)^{{{p_spectral[0]:.1f}}}$\")\n",
    "axes[0].legend()\n",
    "axes[0].set_xlabel(r\"$\\Delta t / \\Delta x$\")\n",
    "axes[0].set_ylabel(r\"$\\|$Error$\\|_2$\")\n",
    "axes[1].loglog(times_spectral, errors_spectral, 'go', label='Spectral')\n",
    "axes[1].loglog(times_spectral[:-1], np.exp(p_spectral_cost[1])*times_spectral[:-1]**p_spectral_cost[0], 'g--', label=rf\"$\\propto t^{{{p_spectral_cost[0]:.1f}}}$\")\n",
    "axes[1].legend()\n",
    "axes[1].set_xlabel(r\"Time [s]\")\n",
    "axes[1].set_ylabel(r\"$\\|$Error$\\|_2$\")\n",
    "fig.tight_layout()\n",
    "plt.show()"
   ]
  },
  {
   "cell_type": "code",
   "execution_count": null,
   "id": "ad0182fb",
   "metadata": {},
   "outputs": [],
   "source": [
    "plt.close('all')"
   ]
  },
  {
   "cell_type": "markdown",
   "id": "3292a142",
   "metadata": {},
   "source": [
    "## Finite differencing convergence plots"
   ]
  },
  {
   "cell_type": "code",
   "execution_count": null,
   "id": "c651eaf3",
   "metadata": {},
   "outputs": [],
   "source": [
    "Ns_fd = 2**np.arange(5, 10)\n",
    "errors2 = np.zeros(len(Ns_fd))\n",
    "errors4 = np.zeros(len(Ns_fd))\n",
    "times2 = np.zeros(len(Ns_fd))\n",
    "times4 = np.zeros(len(Ns_fd))\n",
    "dxs_fd = np.zeros_like(errors2)\n",
    "cfl = 0.4\n",
    "t_end = 4*np.pi\n",
    "for j, N in enumerate(tqdm.tqdm(Ns_fd)):\n",
    "    x, y2, dx, error2 = solve_and_errors(ssperk33, rhs_advection_2, N, gz, t_end=t_end)\n",
    "    x, y4, dx, error4 = solve_and_errors(ssperk104, rhs_advection_4, N, gz, t_end=t_end)\n",
    "    dxs_fd[j] = dx\n",
    "    errors2[j] = error2\n",
    "    errors4[j] = error4\n",
    "    times2[j] = timeit.timeit(f\"time_kernel(ssperk33, rhs_advection_2, {N}, {gz}, t_end={t_end})\",\n",
    "                             globals=globals(), number=4)\n",
    "    times4[j] = timeit.timeit(f\"time_kernel(ssperk104, rhs_advection_4, {N}, {gz}, t_end={t_end})\",\n",
    "                             globals=globals(), number=4)\n",
    "\n",
    "p2 = np.polyfit(np.log(Ns_fd), np.log(errors2), 1)\n",
    "p4 = np.polyfit(np.log(Ns_fd), np.log(errors4), 1)\n",
    "p2_cost = np.polyfit(np.log(times2), np.log(errors2), 1)\n",
    "p4_cost = np.polyfit(np.log(times4), np.log(errors4), 1)"
   ]
  },
  {
   "cell_type": "code",
   "execution_count": null,
   "id": "84252165",
   "metadata": {},
   "outputs": [],
   "source": [
    "fig, axes = plt.subplots(2, 1)\n",
    "axes[0].loglog(Ns_fd, errors2, 'bx', label=\"Second order\")\n",
    "axes[0].loglog(Ns_fd, np.exp(p2[1])*Ns_fd**(-2.0), 'b--', label=r\"$\\propto N^{-2}$\")\n",
    "axes[0].loglog(Ns_fd, errors4, 'r+', label=\"Fourth order\")\n",
    "axes[0].loglog(Ns_fd, np.exp(p4[1])*Ns_fd**(-4.0), 'r--', label=r\"$\\propto N^{-4}$\")\n",
    "axes[0].legend()\n",
    "axes[0].set_xlabel(r\"$N$\")\n",
    "axes[0].set_ylabel(r\"$\\|$Error$\\|_2$\")\n",
    "axes[1].loglog(times2, errors2, 'bx', label='Second order')\n",
    "axes[1].loglog(times2, np.exp(p2_cost[1])*times2**p2_cost[0], 'b--', label=rf\"$\\propto t^{{{p2_cost[0]:.1f}}}$\")\n",
    "axes[1].loglog(times4, errors4, 'r+', label='Fourth order')\n",
    "axes[1].loglog(times4, np.exp(p4_cost[1])*times4**p4_cost[0], 'r--', label=rf\"$\\propto t^{{{p4_cost[0]:.1f}}}$\")\n",
    "axes[1].legend()\n",
    "axes[1].set_xlabel(r\"Time [s]\")\n",
    "axes[1].set_ylabel(r\"$\\|$Error$\\|_2$\")\n",
    "fig.tight_layout()\n",
    "if save_plots:\n",
    "    fig.savefig('figures/fd_costs.svg', bbox_inches='tight')\n",
    "plt.show()"
   ]
  },
  {
   "cell_type": "markdown",
   "id": "47e3f99f",
   "metadata": {},
   "source": [
    "## Spectral"
   ]
  },
  {
   "cell_type": "markdown",
   "id": "8e8c9560",
   "metadata": {},
   "source": [
    "Spectral derivatives converge quickly."
   ]
  },
  {
   "cell_type": "code",
   "execution_count": null,
   "id": "4217aa25",
   "metadata": {},
   "outputs": [],
   "source": [
    "Ns_deriv_spectral = np.arange(8, 30, 2)+1\n",
    "errors_deriv_spectral = np.zeros(len(Ns_deriv_spectral))\n",
    "for j, N in enumerate(Ns_deriv_spectral):\n",
    "    dx, x = grid(N, 0)\n",
    "    y, dy = ics_smooth(x)\n",
    "    D = setup_spectral_D(N)\n",
    "    errors_deriv_spectral[j] = np.sqrt(dx) * np.linalg.norm(D@y - dy, 2)\n",
    "\n",
    "Ns_deriv_fd = 2**np.arange(5, 10)\n",
    "errors_deriv_fd2 = np.zeros(len(Ns_deriv_fd))\n",
    "errors_deriv_fd4 = np.zeros(len(Ns_deriv_fd))\n",
    "for j, N in enumerate(Ns_deriv_fd):\n",
    "    dx, x = grid(N, 2)\n",
    "    y, dy = ics_smooth(x)\n",
    "    errors_deriv_fd2[j] = np.sqrt(dx) * np.linalg.norm(rhs_advection_2(dx)(y) + dy, 2)\n",
    "    errors_deriv_fd4[j] = np.sqrt(dx) * np.linalg.norm(rhs_advection_4(dx)(y) + dy, 2)\n",
    "\n",
    "p_deriv_spectral = np.polyfit(Ns_deriv_spectral[:-3], np.log(errors_deriv_spectral[:-3]), 1)"
   ]
  },
  {
   "cell_type": "code",
   "execution_count": null,
   "id": "8b5498e1",
   "metadata": {},
   "outputs": [],
   "source": [
    "fig = plt.figure(figsize=(7.68, 4.8))\n",
    "gs = fig.add_gridspec(1, 2, hspace=0.05, wspace=0.025)\n",
    "axes = gs.subplots()\n",
    "\n",
    "axes[0].loglog(Ns_deriv_fd, errors_deriv_fd2, 'kx', label='Second order')\n",
    "axes[0].loglog(Ns_deriv_fd, errors_deriv_fd2[0]*(Ns_deriv_fd/Ns_deriv_fd[0])**(-2.0), 'k--', label=r\"$\\propto N^{-2}$\")\n",
    "axes[0].loglog(Ns_deriv_fd, errors_deriv_fd4, 'r+', label='Fourth order')\n",
    "axes[0].loglog(Ns_deriv_fd, errors_deriv_fd4[0]*(Ns_deriv_fd/Ns_deriv_fd[0])**(-4.0), 'r--', label=r\"$\\propto N^{-4}$\")\n",
    "axes[0].loglog(2*Ns_deriv_spectral, errors_deriv_spectral, 'go', label='Spectral')\n",
    "axes[1].semilogy(2*Ns_deriv_spectral, errors_deriv_spectral, 'go', label='Spectral')\n",
    "axes[1].semilogy(2*Ns_deriv_spectral[:-3], np.exp(p_deriv_spectral[1]+Ns_deriv_spectral[:-3]*p_deriv_spectral[0]), \n",
    "                 'g--', label=rf\"$\\sim e^{{{p_deriv_spectral[0]:.1f}N}}$\")\n",
    "axes[1].set_yticks([])\n",
    "axes[0].set_ylabel(r\"$\\|$Error$\\|_2$\")\n",
    "axes[0].legend()\n",
    "axes[1].legend()\n",
    "for ax in axes.flatten():\n",
    "    ax.set_xlabel(r\"$N$\")\n",
    "if save_plots:\n",
    "    fig.savefig('figures/spectral_deriv.svg', bbox_inches='tight')\n",
    "plt.show()"
   ]
  },
  {
   "cell_type": "markdown",
   "id": "dc1102ac",
   "metadata": {},
   "source": [
    "But the evolution can be limited by other factors."
   ]
  },
  {
   "cell_type": "code",
   "execution_count": null,
   "id": "5c3af839",
   "metadata": {},
   "outputs": [],
   "source": [
    "dx, x = grid(5, 0)\n",
    "y, dy = ics_smooth(x)\n",
    "rhs = rhs_spectral(5)\n",
    "dydt = rhs(y)"
   ]
  },
  {
   "cell_type": "code",
   "execution_count": null,
   "id": "3d0dd109",
   "metadata": {},
   "outputs": [],
   "source": [
    "Ns_fd = 2**np.arange(5, 10)\n",
    "Ns_spectral = 2**np.arange(2, 7) + 1\n",
    "errors2 = np.zeros(len(Ns_fd))\n",
    "errors4 = np.zeros(len(Ns_fd))\n",
    "errors_spectral = np.zeros(len(Ns_spectral))\n",
    "times2 = np.zeros(len(Ns_fd))\n",
    "times4 = np.zeros(len(Ns_fd))\n",
    "times_spectral = np.zeros(len(Ns_spectral))\n",
    "cfl = 0.4\n",
    "t_end = 4*np.pi\n",
    "for j, N in enumerate(tqdm.tqdm(Ns_fd)):\n",
    "    x, y2, dx, error2 = solve_and_errors(ssperk33, rhs_advection_2, N, gz, t_end=t_end)\n",
    "    x, y4, dx, error4 = solve_and_errors(ssperk104, rhs_advection_4, N, gz, t_end=t_end)\n",
    "    errors2[j] = error2\n",
    "    errors4[j] = error4\n",
    "    times2[j] = timeit.timeit(f\"time_kernel(ssperk33, rhs_advection_2, {N}, {gz}, t_end={t_end})\",\n",
    "                             globals=globals(), number=4)\n",
    "    times4[j] = timeit.timeit(f\"time_kernel(ssperk104, rhs_advection_4, {N}, {gz}, t_end={t_end})\",\n",
    "                             globals=globals(), number=4)\n",
    "\n",
    "for j, N in enumerate(tqdm.tqdm(Ns_spectral)):\n",
    "    x, y_s, dx, error_s = solve_and_errors(ssperk104, rhs_spectral, N, 0, t_end=t_end, generator_arg='N')\n",
    "    errors_spectral[j] = error_s\n",
    "    times_spectral[j] = timeit.timeit(f\"time_kernel(ssperk104, rhs_spectral, {N}, 0, t_end={t_end}, generator_arg='N')\",\n",
    "                             globals=globals(), number=4)\n",
    "    \n",
    "p2 = np.polyfit(np.log(Ns_fd), np.log(errors2), 1)\n",
    "p4 = np.polyfit(np.log(Ns_fd), np.log(errors4), 1)\n",
    "p_spectral = np.polyfit(np.log(Ns_spectral), np.log(errors_spectral), 1)\n",
    "p2_cost = np.polyfit(np.log(times2), np.log(errors2), 1)\n",
    "p4_cost = np.polyfit(np.log(times4), np.log(errors4), 1)\n",
    "p_spectral_cost = np.polyfit(np.log(times_spectral), np.log(errors_spectral), 1)"
   ]
  },
  {
   "cell_type": "code",
   "execution_count": null,
   "id": "10913a8f",
   "metadata": {},
   "outputs": [],
   "source": [
    "fig, axes = plt.subplots(2, 1)\n",
    "axes[0].loglog(Ns_fd, errors2, 'bx', label=\"Second order\")\n",
    "axes[0].loglog(Ns_fd, np.exp(p2[1])*Ns_fd**(-2.0), 'b--', label=r\"$\\propto N^{-2}$\")\n",
    "axes[0].loglog(Ns_fd, errors4, 'r+', label=\"Fourth order\")\n",
    "axes[0].loglog(Ns_fd, np.exp(p4[1])*Ns_fd**(-4.0), 'r--', label=r\"$\\propto N^{-4}$\")\n",
    "axes[0].loglog(Ns_spectral, errors_spectral, 'go', label=\"Spectral\")\n",
    "axes[0].loglog(Ns_spectral, np.exp(p_spectral[1])*Ns_spectral**(-4.0), 'g--', label=r\"$\\propto N^{-4}$\")\n",
    "axes[0].legend()\n",
    "axes[0].set_xlabel(r\"$N$\")\n",
    "axes[0].set_ylabel(r\"$\\|$Error$\\|_2$\")\n",
    "axes[1].loglog(times2, errors2, 'bx', label='Second order')\n",
    "axes[1].loglog(times2, np.exp(p2_cost[1])*times2**p2_cost[0], 'b--', label=rf\"$\\propto t^{{{p2_cost[0]:.1f}}}$\")\n",
    "axes[1].loglog(times4, errors4, 'r+', label='Fourth order')\n",
    "axes[1].loglog(times4, np.exp(p4_cost[1])*times4**p4_cost[0], 'r--', label=rf\"$\\propto t^{{{p4_cost[0]:.1f}}}$\")\n",
    "axes[1].loglog(times_spectral, errors_spectral, 'go', label='Spectral')\n",
    "axes[1].loglog(times_spectral, np.exp(p_spectral_cost[1])*times_spectral**p_spectral_cost[0], 'g--', \n",
    "               label=rf\"$\\propto t^{{{p_spectral_cost[0]:.1f}}}$\")\n",
    "axes[1].legend()\n",
    "axes[1].set_xlabel(r\"Time [s]\")\n",
    "axes[1].set_ylabel(r\"$\\|$Error$\\|_2$\")\n",
    "fig.tight_layout()\n",
    "if save_plots:\n",
    "    fig.savefig('figures/spectral_costs.svg', bbox_inches='tight')\n",
    "plt.show()"
   ]
  },
  {
   "cell_type": "code",
   "execution_count": null,
   "id": "190790f2",
   "metadata": {},
   "outputs": [],
   "source": [
    "plt.close('all')"
   ]
  },
  {
   "cell_type": "markdown",
   "id": "77244969",
   "metadata": {},
   "source": [
    "## Discontinuous data"
   ]
  },
  {
   "cell_type": "markdown",
   "id": "cc200a70",
   "metadata": {},
   "source": [
    "Gibbs' oscillations are an issue here."
   ]
  },
  {
   "cell_type": "code",
   "execution_count": null,
   "id": "44e03722",
   "metadata": {},
   "outputs": [],
   "source": [
    "x_exact = np.linspace(0, 2*np.pi, 1000)\n",
    "y_exact, dy_exact = ics_discontinuous(x_exact)\n",
    "\n",
    "fig, axes = plt.subplots(3, 1, sharex=True)\n",
    "\n",
    "axes[0].plot(x_exact, y_exact, 'b-', label='Exact')\n",
    "axes[0].set_xlim(0, 2*np.pi)\n",
    "axes[0].set_ylim(-0.1, 1.1)\n",
    "axes[0].set_ylabel(r\"$y$\")\n",
    "Ns = [41, 101]\n",
    "for j, N in enumerate(Ns):\n",
    "    ax = axes[j+1]\n",
    "    ax.plot(x_exact, dy_exact, 'b-', label='Exact')\n",
    "    dx, x = grid(N, 0)\n",
    "    D = setup_spectral_D(N)\n",
    "    y, dy = ics_discontinuous(x)\n",
    "    ax.plot(x, -rhs_advection_2(dx)(y), 'r--', label='FD')\n",
    "    ax.plot(x, D@y, 'k:', label='Spectral')\n",
    "    ax.set_xlim(0, 2*np.pi)\n",
    "    ax.set_ylabel(rf\"$N={N}: \\partial_x y$\")\n",
    "    ax.set_ylim(-2, 2)\n",
    "    \n",
    "axes[2].set_xticks([0, 0.5*np.pi, np.pi, 1.5*np.pi, 2*np.pi], [\"0\", r\"$\\pi$/2\", r\"$\\pi$\", r\"3$\\pi$/2\", r\"2$\\pi$\"])\n",
    "# axes[2].set_xlabel(r\"$x$\")\n",
    "axes[2].legend(bbox_to_anchor=(-0.02, -0.5), loc='lower left', ncol=3)\n",
    "fig.tight_layout()\n",
    "if save_plots:\n",
    "    fig.savefig('figures/gibbs1.svg', bbox_inches='tight')\n",
    "plt.show()"
   ]
  },
  {
   "cell_type": "markdown",
   "id": "d5933cb1",
   "metadata": {},
   "source": [
    "We usually get around this problem by thinking about the weak form and shifting to finite volume methods:"
   ]
  },
  {
   "cell_type": "code",
   "execution_count": null,
   "id": "042aa111",
   "metadata": {},
   "outputs": [],
   "source": [
    "# Fluxes, telescoping\n",
    "fig, axes = plt.subplots(3, 1)\n",
    "for ax in axes:\n",
    "    ax.spines['top'].set_visible(False)\n",
    "    ax.spines['right'].set_visible(False)\n",
    "    ax.spines['left'].set_visible(False)\n",
    "    ax.set_xticks(np.arange(-1, 1+0.01, 1))\n",
    "    ax.set_yticks([])\n",
    "    ax.set_xticklabels([r\"$x_{i-1}$\", r\"$x_{i}$\", r\"$x_{i+1}$\", ])\n",
    "    ax.set_yticklabels([])\n",
    "\n",
    "f = lambda x: np.where(x < -0.2,\n",
    "                        np.exp(np.sin(x/3)),\n",
    "                        np.cos(x/2))    \n",
    "\n",
    "for num in np.arange(-2, 3, 2):\n",
    "    axes[0].axvline(x=0.5+num/2, ymin=0, ymax=0.9, color='b', ls='--', lw=1)\n",
    "x_left = np.linspace(-1.2, -0.2-1e-8)\n",
    "x_right = np.linspace(-0.2+1e-8, 1.2)\n",
    "axes[0].plot(x_left, f(x_left), 'k-', lw=2)\n",
    "axes[0].plot(x_right, f(x_right), 'k-', lw=2)\n",
    "axes[0].plot([-0.2, -0.2], [f(x_left[-1]), f(x_right[0])], 'k:', lw=2)\n",
    "axes[0].set_xlim(-1.2, 1.2)\n",
    "axes[0].set_ylim(0.6, 1.1)\n",
    "\n",
    "\n",
    "for num in np.arange(-2, 3, 2):\n",
    "    axes[1].axvline(x=0.5+num/2, ymin=0, ymax=0.9, color='b', ls='--', lw=1)\n",
    "axes[1].plot([-1.5, -0.5],\n",
    "             f(np.array([-1, -1])),\n",
    "             'k-', lw=3)\n",
    "axes[1].plot([-0.5, 0.5],\n",
    "             f(np.array([0, 0])),\n",
    "             'k-', lw=3)\n",
    "axes[1].plot([0.5, 1.5],\n",
    "             f(np.array([1, 1])),\n",
    "             'k-', lw=3)\n",
    "axes[1].set_xlim(-1.2, 1.2)\n",
    "axes[1].set_ylim(0.6, 1.1)\n",
    "\n",
    "\n",
    "for num in np.arange(-2, 3, 2):\n",
    "    axes[2].axvline(x=0.5+num/2, ymin=0, ymax=0.9, color='b', ls='--', lw=1)\n",
    "axes[2].plot([-1.5, -0.5],\n",
    "             f(np.array([-1, -1])),\n",
    "             'k-', lw=3)\n",
    "axes[2].plot([-0.5, 0.5],\n",
    "             f(np.array([0, 0])),\n",
    "             'k-', lw=3)\n",
    "axes[2].plot([0.5, 1.5],\n",
    "             f(np.array([1, 1])),\n",
    "             'k-', lw=3)\n",
    "axes[2].annotate(r\"$f_{i-1/2}$\", xy=[-0.65, 0.8], xytext=[-0.35, 0.8],\n",
    "                verticalalignment='center',\n",
    "                arrowprops=dict(arrowstyle='<|-', color='k', ls='-', lw=3))\n",
    "axes[2].annotate(r\"$f_{i+1/2}$\", xy=[0.35, 0.8], xytext=[0.65, 0.8],\n",
    "                verticalalignment='center',\n",
    "                arrowprops=dict(arrowstyle='<|-', color='k', ls='-', lw=3))\n",
    "axes[2].set_xlim(-1.2, 1.2)\n",
    "axes[2].set_ylim(0.6, 1.1)\n",
    "\n",
    "fig.tight_layout()\n",
    "\n",
    "if save_plots:\n",
    "    fig.savefig('figures/weak_solutions1.svg', bbox_inches='tight')"
   ]
  },
  {
   "cell_type": "markdown",
   "id": "01f32a5e",
   "metadata": {},
   "source": [
    "But using adaptive algorithms (slope limiting, PPM, WENO, etc) we can reconstruct low regularity data without oscillations."
   ]
  },
  {
   "cell_type": "code",
   "execution_count": null,
   "id": "0bbb8115",
   "metadata": {},
   "outputs": [],
   "source": [
    "x_exact = np.linspace(0, 2*np.pi, 1000)\n",
    "y_exact, dy_exact = ics_discontinuous(x_exact)\n",
    "\n",
    "for N in [21, 81]:\n",
    "    dx, x = grid(N, 0)\n",
    "    y, dy = ics_discontinuous(x)\n",
    "\n",
    "    fig = plt.figure(constrained_layout=True)\n",
    "    gs = fig.add_gridspec(2, 2)\n",
    "    ax_main = fig.add_subplot(gs[0, :])\n",
    "    ax1 = fig.add_subplot(gs[1, 0])\n",
    "    ax2 = fig.add_subplot(gs[1, 1])\n",
    "    for ax in [ax_main, ax1, ax2]:\n",
    "        ax.plot(x_exact, y_exact, 'k-', label=\"Exact\")\n",
    "        ax.plot(x+dx/2, reconstruction_fd(2, y), 'ro--', label=\"Central\")\n",
    "        ax.plot(x+dx/2, weno(3, y), 'bx--', label=\"WENO\")\n",
    "        ax.set_yticks([])\n",
    "    ax_main.set_xlim(0, 2*np.pi)\n",
    "    ax_main.set_xticks([0, 0.5*np.pi, np.pi, 1.5*np.pi, 2*np.pi], [\"0\", r\"$\\pi$/2\", r\"$\\pi$\", r\"3$\\pi$/2\", r\"2$\\pi$\"])\n",
    "    ax_main.legend(loc='upper left')\n",
    "    ax1.set_xlim(0.6*np.pi, 0.9*np.pi)\n",
    "    ax1.set_ylim(-0.05, 0.2)\n",
    "    ax2.set_xlim(1.1*np.pi, 1.4*np.pi)\n",
    "    for ax in [ax1, ax2]:\n",
    "        ax.set_xlabel(r\"$x$\")\n",
    "    if save_plots:\n",
    "        fig.savefig(f\"figures/recon{N}.svg\", bbox_inches='tight')\n",
    "    plt.show()"
   ]
  },
  {
   "cell_type": "markdown",
   "id": "3d46ab90",
   "metadata": {},
   "source": [
    "The evolution with WENO works; with other methods, the oscillations just spread."
   ]
  },
  {
   "cell_type": "code",
   "execution_count": null,
   "id": "36cc34f2",
   "metadata": {},
   "outputs": [],
   "source": [
    "x_exact = np.linspace(0, 2*np.pi, 1000)\n",
    "y_exact, dy_exact = ics_discontinuous(x_exact)\n",
    "\n",
    "Ns = [100, 400]\n",
    "fig, axes = plt.subplots(2, 1, sharex=True)\n",
    "plt.subplots_adjust(hspace=0.01)\n",
    "for j, N in enumerate(Ns):\n",
    "    x, y4, dx, error4 = solve_and_errors(ssperk104, rhs_advection_4, N, gz, ics=ics_discontinuous)\n",
    "    xw, yw, dx, errorw = solve_and_errors(ssperk104, rhs_advection_weno, N, 4, ics=ics_discontinuous)\n",
    "    \n",
    "    \n",
    "    axes[j].plot(x_exact, y_exact, 'k-', label=\"Exact\")\n",
    "    axes[j].plot(x, y4, 'b--', label='Fourth order')\n",
    "    axes[j].plot(xw, yw, 'r--', label=\"WENO\")\n",
    "    axes[j].legend(loc='upper left')\n",
    "    axes[j].set_xlim(0, 2*np.pi)\n",
    "    axes[j].set_ylim(-0.25, 1.25)\n",
    "    axes[j].set_ylabel(rf\"$N=${N}\")\n",
    "    axes[j].set_yticks([0, 0.5, 1], [\"0.0\", \"0.5\", \"1.0\"])\n",
    "\n",
    "axes[-1].set_xlabel(r\"$x$\")\n",
    "axes[-1].set_xticks([0, 0.5*np.pi, np.pi, 1.5*np.pi, 2*np.pi], [\"0\", r\"$\\pi$/2\", r\"$\\pi$\", r\"3$\\pi$/2\", r\"2$\\pi$\"])\n",
    "fig.tight_layout()\n",
    "if save_plots:\n",
    "    fig.savefig('figures/gibbs2.svg', bbox_inches='tight')\n",
    "plt.show()"
   ]
  },
  {
   "cell_type": "markdown",
   "id": "230a960e",
   "metadata": {},
   "source": [
    "But for smooth solutions the cost is prohibitive."
   ]
  },
  {
   "cell_type": "code",
   "execution_count": null,
   "id": "fa3330f2",
   "metadata": {},
   "outputs": [],
   "source": [
    "Ns_fd = 2**np.arange(5, 10)\n",
    "errors4 = np.zeros(len(Ns_fd))\n",
    "errorsw = np.zeros(len(Ns_fd))\n",
    "times4 = np.zeros(len(Ns_fd))\n",
    "timesw = np.zeros(len(Ns_fd))\n",
    "cfl = 0.4\n",
    "t_end = 4*np.pi\n",
    "for j, N in enumerate(tqdm.tqdm(Ns_fd)):\n",
    "    x, y4, dx, error4 = solve_and_errors(ssperk104, rhs_advection_4, N, 2, t_end=t_end)\n",
    "    x, y4, dx, errorw = solve_and_errors(ssperk104, rhs_advection_weno, N, 4, t_end=t_end)\n",
    "    errors4[j] = error4\n",
    "    errorsw[j] = errorw\n",
    "    times4[j] = timeit.timeit(f\"time_kernel(ssperk104, rhs_advection_4, {N}, 2, t_end={t_end})\",\n",
    "                             globals=globals(), number=4)\n",
    "    timesw[j] = timeit.timeit(f\"time_kernel(ssperk104, rhs_advection_weno, {N}, 4, t_end={t_end})\",\n",
    "                             globals=globals(), number=4)\n",
    "\n",
    "p4 = np.polyfit(np.log(Ns_fd), np.log(errors4), 1)\n",
    "pw = np.polyfit(np.log(Ns_fd), np.log(errorsw), 1)\n",
    "p4_cost = np.polyfit(np.log(times4), np.log(errors4), 1)\n",
    "pw_cost = np.polyfit(np.log(timesw), np.log(errorsw), 1)"
   ]
  },
  {
   "cell_type": "code",
   "execution_count": null,
   "id": "633783bc",
   "metadata": {},
   "outputs": [],
   "source": [
    "fig, axes = plt.subplots(2, 1)\n",
    "axes[0].loglog(Ns_fd, errors4, 'r+', label=\"Fourth order\")\n",
    "axes[0].loglog(Ns_fd, np.exp(p4[1])*Ns_fd**(-4.0), 'r--', label=r\"$\\propto N^{-4}$\")\n",
    "axes[0].loglog(Ns_fd, errorsw, 'k^', label=\"WENO\")\n",
    "axes[0].loglog(Ns_fd, np.exp(pw[1])*Ns_fd**(-4.0), 'k--', label=r\"$\\propto N^{-4}$\")\n",
    "axes[0].legend()\n",
    "axes[0].set_xlabel(r\"$N$\")\n",
    "axes[0].set_ylabel(r\"$\\|$Error$\\|_2$\")\n",
    "axes[1].loglog(times4, errors4, 'r+', label='Fourth order')\n",
    "axes[1].loglog(times4, np.exp(p4_cost[1])*times4**p4_cost[0], 'r--', label=rf\"$\\propto t^{{{p4_cost[0]:.1f}}}$\")\n",
    "axes[1].loglog(timesw, errorsw, 'k^', label='WENO')\n",
    "axes[1].loglog(timesw, np.exp(pw_cost[1])*timesw**pw_cost[0], 'k--', label=rf\"$\\propto t^{{{pw_cost[0]:.1f}}}$\")\n",
    "axes[1].legend()\n",
    "axes[1].set_xlabel(r\"Time [s]\")\n",
    "axes[1].set_ylabel(r\"$\\|$Error$\\|_2$\")\n",
    "fig.tight_layout()\n",
    "if save_plots:\n",
    "    fig.savefig('figures/weno_cost.svg', bbox_inches='tight')\n",
    "plt.show()"
   ]
  },
  {
   "cell_type": "code",
   "execution_count": null,
   "id": "5c2122e9",
   "metadata": {},
   "outputs": [],
   "source": [
    "plt.close('all')"
   ]
  },
  {
   "cell_type": "markdown",
   "id": "eff79838",
   "metadata": {},
   "source": [
    "# Old stuff"
   ]
  },
  {
   "cell_type": "code",
   "execution_count": null,
   "id": "f7c9b82d",
   "metadata": {},
   "outputs": [],
   "source": [
    "1/0"
   ]
  },
  {
   "cell_type": "code",
   "execution_count": null,
   "id": "8c2adf29",
   "metadata": {},
   "outputs": [],
   "source": [
    "def setup_advection(N, gz):\n",
    "    dx = 2.0*np.pi / N\n",
    "    x = np.arange(-np.pi-(gz-1/2)*dx, np.pi+(gz)*dx, dx)\n",
    "    y = np.sin(x - np.sin(x)/np.pi)\n",
    "    return x, dx, y\n",
    "\n",
    "def rhs_advection_2(dx):\n",
    "    def rhs(y):\n",
    "        dydt = np.zeros_like(y)\n",
    "        dydt[2:-2] = (y[3:-1] - y[1:-3]) / (2*dx)\n",
    "        dydt[0] = dydt[-4]\n",
    "        dydt[1] = dydt[-3]\n",
    "        dydt[-2] = dydt[2]\n",
    "        dydt[-1] = dydt[3]\n",
    "        return dydt\n",
    "    return rhs\n",
    "\n",
    "def rhs_advection_4(dx):\n",
    "    def rhs(y):\n",
    "        dydt = np.zeros_like(y)\n",
    "        dydt[2:-2] = (-y[4:] + 8*y[3:-1] - 8*y[1:-3] + y[:-4]) / (12*dx)\n",
    "        dydt[0] = dydt[-4]\n",
    "        dydt[1] = dydt[-3]\n",
    "        dydt[-2] = dydt[2]\n",
    "        dydt[-1] = dydt[3]\n",
    "        return dydt\n",
    "    return rhs\n",
    "\n",
    "def time_fd(stepper, rhs_gen, cfl, N, t_end=20*np.pi):\n",
    "    x, dx, y = setup_advection(N, 2)\n",
    "    dt = cfl * dx\n",
    "    rhs = rhs_gen(dx)\n",
    "    y0 = y.copy()\n",
    "    t = 0\n",
    "    while t < t_end:\n",
    "        if t+dt > t_end:\n",
    "            dt = t_end - t \n",
    "        t += dt\n",
    "        y = stepper(rhs, y, dt)\n",
    "    errors = np.sqrt(dx) * np.linalg.norm(y - y0, 2)\n",
    "    return dx, errors"
   ]
  },
  {
   "cell_type": "code",
   "execution_count": null,
   "id": "77ca68c4",
   "metadata": {},
   "outputs": [],
   "source": [
    "N=100\n",
    "t_end = 20*np.pi\n",
    "cfl = 0.4\n",
    "x, dx, y2 = setup_advection(N, 2)\n",
    "dt = cfl * dx\n",
    "y0 = y2.copy()\n",
    "y4 = y2.copy()\n",
    "rhs2 = rhs_advection_2(dx)\n",
    "rhs4 = rhs_advection_4(dx)\n",
    "t = 0\n",
    "while t < t_end:\n",
    "    if t+dt > t_end:\n",
    "        dt = t_end - t \n",
    "    t += dt\n",
    "    y2 = ssperk33(rhs2, y2, dt)\n",
    "    y4 = ssperk104(rhs4, y4, dt)"
   ]
  },
  {
   "cell_type": "code",
   "execution_count": null,
   "id": "1e433787",
   "metadata": {},
   "outputs": [],
   "source": [
    "plt.figure()\n",
    "plt.plot(x, y0, 'b-')\n",
    "plt.plot(x, y2, 'kx')\n",
    "plt.plot(x, y4, 'ro')"
   ]
  },
  {
   "cell_type": "code",
   "execution_count": null,
   "id": "6d0bb6e5",
   "metadata": {},
   "outputs": [],
   "source": [
    "Ns_fd = 2**np.arange(5, 10)\n",
    "errors2 = np.zeros(len(Ns_fd))\n",
    "errors4 = np.zeros(len(Ns_fd))\n",
    "times2 = np.zeros(len(Ns_fd))\n",
    "times4 = np.zeros(len(Ns_fd))\n",
    "dxs_fd = np.zeros_like(errors2)\n",
    "t_end = 20*np.pi\n",
    "cfl = 0.4\n",
    "for j, N in enumerate(Ns_fd):\n",
    "#     x, dx, y2 = setup_advection(N, 2)\n",
    "#     dxs_fd[j] = dx\n",
    "#     dt = cfl * dx\n",
    "#     Nt = int(t_end / dt)\n",
    "#     y0 = y2.copy()\n",
    "#     y4 = y2.copy()\n",
    "#     rhs2 = rhs_advection_2(dx)\n",
    "#     rhs4 = rhs_advection_4(dx)\n",
    "#     for i in range(Nt):\n",
    "#         y2 = ssperk33(rhs2, y2, dt)\n",
    "#         y4 = ssperk104(rhs4, y4, dt)\n",
    "#     errors2[j] = np.sqrt(dx) * np.linalg.norm(y2 - y0, 2)\n",
    "#     errors4[j] = np.sqrt(dx) * np.linalg.norm(y4 - y0, 2)\n",
    "    dxs_fd[j], errors2[j] = time_fd(ssperk33, rhs_advection_2, cfl, N)\n",
    "    dxs_fd[j], errors4[j] = time_fd(ssperk104, rhs_advection_4, cfl, N)\n",
    "    times2[j] = timeit.timeit(f\"time_fd(ssperk33, rhs_advection_2, {cfl}, {N})\",\n",
    "                             globals=globals(), number=4)\n",
    "    times4[j] = timeit.timeit(f\"time_fd(ssperk104, rhs_advection_4, {cfl}, {N})\",\n",
    "                             globals=globals(), number=4)"
   ]
  },
  {
   "cell_type": "code",
   "execution_count": null,
   "id": "731caabf",
   "metadata": {},
   "outputs": [],
   "source": [
    "plt.figure()\n",
    "p2 = np.polyfit(np.log(dxs_fd), np.log(errors2), 1)\n",
    "plt.loglog(dxs_fd, errors2, 'kx', label=\"Second order\")\n",
    "plt.loglog(dxs_fd, np.exp(p2[1])*dxs_fd**p2[0], 'b-', label=rf\"$\\propto \\Delta x^{{{p2[0]:.1f}}}$\")\n",
    "p4 = np.polyfit(np.log(dxs_fd), np.log(errors4), 1)\n",
    "plt.loglog(dxs_fd, errors4, 'r+', label=\"Fourth order\")\n",
    "plt.loglog(dxs_fd, np.exp(p4[1])*dxs_fd**p4[0], 'g-', label=rf\"$\\propto \\Delta x^{{{p4[0]:.1f}}}$\")\n",
    "plt.legend()\n",
    "plt.show()"
   ]
  },
  {
   "cell_type": "code",
   "execution_count": null,
   "id": "64804ee5",
   "metadata": {},
   "outputs": [],
   "source": [
    "plt.figure()\n",
    "p2 = np.polyfit(np.log(Ns_fd), np.log(errors2), 1)\n",
    "plt.loglog(Ns_fd, errors2, 'kx', label=\"Second order\")\n",
    "# plt.loglog(Ns, np.exp(p2[1])*Ns_fd**p2[0], 'b-', label=rf\"$\\propto N^{{{p2[0]:.2f}}}$\")\n",
    "plt.loglog(Ns_fd, np.exp(p2[1])*Ns_fd**(-2.0), 'b-', label=r\"$\\propto N^{-2}$\")\n",
    "p4 = np.polyfit(np.log(Ns_fd), np.log(errors4), 1)\n",
    "plt.loglog(Ns_fd, errors4, 'r+', label=\"Fourth order\")\n",
    "# plt.loglog(Ns, np.exp(p4[1])*Ns_fd**p4[0], 'g-', label=rf\"$\\propto N^{{{p4[0]:.2f}}}$\")\n",
    "plt.loglog(Ns_fd, np.exp(p4[1])*Ns_fd**(-4.0), 'g-', label=r\"$\\propto N^{-4}$\")\n",
    "plt.legend()\n",
    "plt.show()"
   ]
  },
  {
   "cell_type": "code",
   "execution_count": null,
   "id": "d7ead7fb",
   "metadata": {},
   "outputs": [],
   "source": [
    "plt.figure()\n",
    "p2_cost = np.polyfit(np.log(times2), np.log(errors2), 1)\n",
    "p4_cost = np.polyfit(np.log(times4), np.log(errors4), 1)\n",
    "plt.loglog(times2, errors2, 'kx', label='Second order')\n",
    "plt.loglog(times2, np.exp(p2_cost[1])*times2**p2_cost[0], 'b-', label=rf\"$\\propto t^{{{p2_cost[0]:.1f}}}$\")\n",
    "plt.loglog(times4, errors4, 'r+', label='Fourth order')\n",
    "plt.loglog(times4, np.exp(p4_cost[1])*times4**p4_cost[0], 'g-', label=rf\"$\\propto t^{{{p4_cost[0]:.1f}}}$\")\n",
    "plt.legend()\n",
    "plt.xlabel(\"Time [s]\")\n",
    "plt.ylabel(r\"$\\|$Error$\\|_2$\")\n",
    "plt.show()"
   ]
  },
  {
   "cell_type": "markdown",
   "id": "d6623a2c",
   "metadata": {},
   "source": [
    "## Spectral"
   ]
  },
  {
   "cell_type": "code",
   "execution_count": null,
   "id": "c2962dc1",
   "metadata": {},
   "outputs": [],
   "source": [
    "def setup_spectral_advection(N):\n",
    "#     dx = 1.0 / N\n",
    "#     x = np.arange(-1, 1, dx)\n",
    "    dx = 2*np.pi/(2*N+1)\n",
    "    x = np.arange(0, 2*np.pi, dx)\n",
    "    y = np.sin(x - np.sin(x)/np.pi)\n",
    "    D = np.zeros((2*N+1, 2*N+1))\n",
    "    for i in range(2*N+1):\n",
    "        for j in range(2*N+1):\n",
    "            if i != j:\n",
    "                D[i, j] = (-1)**(i+j) / (2 * np.sin(np.pi*(i-j)/(2*N+1)))\n",
    "    return x, dx, y, D"
   ]
  },
  {
   "cell_type": "code",
   "execution_count": null,
   "id": "3f3dbdb2",
   "metadata": {},
   "outputs": [],
   "source": [
    "x, dx, y, D = setup_spectral_advection(5)"
   ]
  },
  {
   "cell_type": "code",
   "execution_count": null,
   "id": "cfc4d5de",
   "metadata": {},
   "outputs": [],
   "source": [
    "dx2, x2 = grid(11, 0)\n",
    "print(dx, dx2)\n",
    "print(x[0], x2[0])\n",
    "print(D@np.sin(x2)-np.cos(x2))"
   ]
  },
  {
   "cell_type": "code",
   "execution_count": null,
   "id": "0225f9ed",
   "metadata": {},
   "outputs": [],
   "source": [
    "D@np.sin(x)-np.cos(x)"
   ]
  },
  {
   "cell_type": "code",
   "execution_count": null,
   "id": "6ddcc239",
   "metadata": {},
   "outputs": [],
   "source": [
    "D@y - (1 - np.cos(x)/np.pi)*np.cos(x - np.sin(x)/np.pi)"
   ]
  },
  {
   "cell_type": "code",
   "execution_count": null,
   "id": "3284f08f",
   "metadata": {},
   "outputs": [],
   "source": [
    "# Errors of derivative\n",
    "Ns_deriv_spectral = np.arange(4, 15)\n",
    "errors_deriv_spectral = np.zeros(len(Ns_deriv_spectral))\n",
    "for j, N in enumerate(Ns_deriv_spectral):\n",
    "    x, dx, y, D = setup_spectral_advection(N)\n",
    "    errors_deriv_spectral[j] = np.sqrt(dx) * np.linalg.norm(D@y - (1 - np.cos(x)/np.pi)*np.cos(x - np.sin(x)/np.pi), 2)\n",
    "\n",
    "Ns_deriv_fd = 2**np.arange(5, 10)\n",
    "errors_deriv_fd2 = np.zeros(len(Ns_deriv_fd))\n",
    "errors_deriv_fd4 = np.zeros(len(Ns_deriv_fd))\n",
    "for j, N in enumerate(Ns_deriv_fd):\n",
    "    x, dx, y = setup_advection(N, 2)\n",
    "    errors_deriv_fd2[j] = np.sqrt(dx) * np.linalg.norm(rhs_advection_2(dx)(y) - \n",
    "                                                       (1 - np.cos(x)/np.pi)*np.cos(x - np.sin(x)/np.pi), 2)\n",
    "    errors_deriv_fd4[j] = np.sqrt(dx) * np.linalg.norm(rhs_advection_4(dx)(y) - \n",
    "                                                       (1 - np.cos(x)/np.pi)*np.cos(x - np.sin(x)/np.pi), 2)\n",
    "\n",
    "\n",
    "p_deriv_spectral = np.polyfit(2*Ns_deriv_spectral[:-3], np.log(errors_deriv_spectral[:-3]), 1)\n",
    "fig = plt.figure()\n",
    "gs = fig.add_gridspec(1, 2, hspace=0.05, wspace=0.025)\n",
    "axes = gs.subplots()\n",
    "\n",
    "axes[0].loglog(Ns_deriv_fd, errors_deriv_fd2, 'kx', label='Second order')\n",
    "axes[0].loglog(Ns_deriv_fd, errors_deriv_fd2[0]*(Ns_deriv_fd/Ns_deriv_fd[0])**(-2.0), 'k--', label=r\"$\\propto N^{-2}$\")\n",
    "axes[0].loglog(Ns_deriv_fd, errors_deriv_fd4, 'r+', label='Fourth order')\n",
    "axes[0].loglog(Ns_deriv_fd, errors_deriv_fd4[0]*(Ns_deriv_fd/Ns_deriv_fd[0])**(-4.0), 'r--', label=r\"$\\propto N^{-4}$\")\n",
    "axes[0].loglog(2*Ns_deriv_spectral, errors_deriv_spectral, 'go', label='Spectral')\n",
    "axes[1].semilogy(2*Ns_deriv_spectral, errors_deriv_spectral, 'go', label='Spectral')\n",
    "axes[1].semilogy(2*Ns_deriv_spectral[:-3], np.exp(p_deriv_spectral[1]+2*Ns_deriv_spectral[:-3]*p_deriv_spectral[0]), \n",
    "                 'g--', label=rf\"$\\sim e^{{{p_deriv_spectral[0]:.1f}N}}$\")\n",
    "axes[1].set_yticks([])\n",
    "axes[0].set_ylabel(r\"$\\|$Error$\\|_2$\")\n",
    "axes[0].legend()\n",
    "axes[1].legend()\n",
    "for ax in axes.flatten():\n",
    "    ax.set_xlabel(r\"$N$\")\n",
    "plt.show()"
   ]
  },
  {
   "cell_type": "code",
   "execution_count": null,
   "id": "66630816",
   "metadata": {},
   "outputs": [],
   "source": [
    "def rhs_spectral(D):\n",
    "    def rhs(y):\n",
    "        return -D@y\n",
    "    return rhs\n",
    "\n",
    "def time_spectral(cfl, N):\n",
    "    x, dx, y, D = setup_spectral_advection(N)\n",
    "    dt = cfl * dx\n",
    "    y0 = y.copy()\n",
    "    rhs = rhs_spectral(D)\n",
    "    t = 0\n",
    "    while t < t_end:\n",
    "        if t+dt > t_end:\n",
    "            dt = t_end - t \n",
    "        t += dt\n",
    "        y = ssperk104(rhs, y, dt)\n",
    "    errors = np.sqrt(dx) * np.linalg.norm(y - y0, 2)\n",
    "    return errors"
   ]
  },
  {
   "cell_type": "code",
   "execution_count": null,
   "id": "935e0773",
   "metadata": {},
   "outputs": [],
   "source": [
    "cfl = 0.4\n",
    "t_end = 20*np.pi\n",
    "\n",
    "\n",
    "Ns_spectral = 2**np.arange(1, 7)\n",
    "errors_spectral = np.zeros(len(Ns_spectral))\n",
    "times_spectral = np.zeros_like(errors_spectral)\n",
    "for j, N in enumerate(Ns_spectral):\n",
    "#     x, dx, y, D = setup_spectral_advection(N)\n",
    "#     dt = cfl * dx\n",
    "#     y0 = y.copy()\n",
    "#     rhs = rhs_spectral(D)\n",
    "#     t = 0\n",
    "#     while t < t_end:\n",
    "#         if t+dt > t_end:\n",
    "#             dt = t_end - t \n",
    "#         t += dt\n",
    "#         y = ssperk104(rhs, y, dt)\n",
    "#     errors_spectral[j] = np.sqrt(dx) * np.linalg.norm(y - y0, 2)\n",
    "    errors_spectral[j] = time_spectral(cfl, N)\n",
    "    times_spectral[j] = timeit.timeit(f\"time_spectral({cfl}, {N})\",\n",
    "                                        globals=globals(), number=5)"
   ]
  },
  {
   "cell_type": "code",
   "execution_count": null,
   "id": "78b00ceb",
   "metadata": {},
   "outputs": [],
   "source": [
    "plt.figure()\n",
    "p4_spectral = np.polyfit(np.log(2*Ns_spectral), np.log(errors_spectral), 1)\n",
    "# plt.loglog(Ns, np.exp(p4[1])*Ns**p4[0], 'g-', label=rf\"$\\propto N^{{{p4[0]:.2f}}}$\")\n",
    "plt.loglog(2*Ns_spectral, np.exp(p4_spectral[1])*(2*Ns_spectral)**(-4.0), 'g-', label=r\"$\\propto N^{-4}$\")\n",
    "plt.loglog(2*Ns_spectral, errors_spectral, 'kx', label=\"Spectral\")\n",
    "plt.legend()"
   ]
  },
  {
   "cell_type": "code",
   "execution_count": null,
   "id": "28024544",
   "metadata": {},
   "outputs": [],
   "source": [
    "plt.figure()\n",
    "p2 = np.polyfit(np.log(Ns_fd), np.log(errors2), 1)\n",
    "plt.loglog(Ns_fd, errors2, 'kx', label=\"Second order\")\n",
    "# plt.loglog(Ns, np.exp(p2[1])*Ns_fd**p2[0], 'b-', label=rf\"$\\propto N^{{{p2[0]:.2f}}}$\")\n",
    "plt.loglog(Ns_fd, np.exp(p2[1])*Ns_fd**(-2.0), 'k--', label=r\"$\\propto N^{-2}$\")\n",
    "p4 = np.polyfit(np.log(Ns_fd), np.log(errors4), 1)\n",
    "plt.loglog(Ns_fd, errors4, 'r+', label=\"Fourth order\")\n",
    "# plt.loglog(Ns, np.exp(p4[1])*Ns_fd**p4[0], 'g-', label=rf\"$\\propto N^{{{p4[0]:.2f}}}$\")\n",
    "plt.loglog(Ns_fd, np.exp(p4[1])*Ns_fd**(-4.0), 'r--', label=r\"$\\propto N^{-4}$\")\n",
    "plt.loglog(2*Ns_spectral, errors_spectral, 'go', label=\"Spectral\")\n",
    "plt.loglog(2*Ns_spectral, np.exp(p4_spectral[1])*(2*Ns_spectral)**(-4.0), 'g--', label=r\"$\\propto N^{-4}$\")\n",
    "plt.legend()\n",
    "plt.show()"
   ]
  },
  {
   "cell_type": "code",
   "execution_count": null,
   "id": "e47762e3",
   "metadata": {},
   "outputs": [],
   "source": [
    "plt.figure()\n",
    "p_spectral_cost = np.polyfit(np.log(times_spectral[1:-1]), np.log(errors_spectral[1:-1]), 1)\n",
    "plt.loglog(times2, errors2, 'kx', label='Second order')\n",
    "plt.loglog(times2, np.exp(p2_cost[1])*times2**p2_cost[0], 'k--', label=rf\"$\\propto t^{{{p2_cost[0]:.1f}}}$\")\n",
    "plt.loglog(times4, errors4, 'r+', label='Fourth order')\n",
    "plt.loglog(times4, np.exp(p4_cost[1])*times4**p4_cost[0], 'r--', label=rf\"$\\propto t^{{{p4_cost[0]:.1f}}}$\")\n",
    "plt.loglog(times_spectral, errors_spectral, 'go', label='Spectral')\n",
    "plt.loglog(times_spectral[1:-1], np.exp(p_spectral_cost[1])*times_spectral[1:-1]**p_spectral_cost[0], 'g--', label=rf\"$\\propto t^{{{p_spectral_cost[0]:.1f}}}$\")\n",
    "plt.legend()\n",
    "plt.xlabel(\"Time [s]\")\n",
    "plt.ylabel(r\"$\\|$Error$\\|_2$\")\n",
    "plt.show()"
   ]
  },
  {
   "cell_type": "markdown",
   "id": "cf82b315",
   "metadata": {},
   "source": [
    "## Discontinuous data"
   ]
  },
  {
   "cell_type": "code",
   "execution_count": null,
   "id": "2c69ea9d",
   "metadata": {},
   "outputs": [],
   "source": [
    "def disc_id(x):\n",
    "    y = np.zeros_like(x)\n",
    "    dy = np.zeros_like(x)\n",
    "    for i, xx in enumerate(x):\n",
    "        if (xx > 0.25*np.pi) and (xx < 0.5 * np.pi):\n",
    "            y[i] = (xx - 0.25*np.pi) / (0.25*np.pi)\n",
    "            dy[i] = 4/np.pi\n",
    "        elif (xx > 0.5*np.pi) and (xx < 0.75 * np.pi):\n",
    "            y[i] = -(xx - 0.75*np.pi) / (0.25*np.pi)\n",
    "            dy[i] = -4/np.pi\n",
    "        elif (abs(xx - 1.5*np.pi) < 0.25*np.pi):\n",
    "#             y[i] = 1 - ((xx - 1.5*np.pi)/(0.25*np.pi))**2\n",
    "            y[i] = 1\n",
    "    return y, dy\n",
    "\n",
    "def setup_spectral_disc(N):\n",
    "    dx = 2*np.pi/(2*N+1)\n",
    "    x = np.arange(0, 2*np.pi, dx)\n",
    "    y, dy = disc_id(x)\n",
    "    D = np.zeros((2*N+1, 2*N+1))\n",
    "    for i in range(2*N+1):\n",
    "        for j in range(2*N+1):\n",
    "            if i != j:\n",
    "                D[i, j] = (-1)**(i+j) / (2 * np.sin(np.pi*(i-j)/(2*N+1)))\n",
    "    return x, dx, y, dy, D"
   ]
  },
  {
   "cell_type": "code",
   "execution_count": null,
   "id": "cbaabeff",
   "metadata": {},
   "outputs": [],
   "source": [
    "# plt.figure()\n",
    "x_exact = np.linspace(0, 2*np.pi, 1000)\n",
    "# plt.plot(x, disc_id(x_exact))\n",
    "fig, axes = plt.subplots(3, 1, sharex=True)\n",
    "x, dx, y, dy, D = setup_spectral_disc(20)\n",
    "axes[0].plot(x_exact, disc_id(x_exact)[0], 'b-')\n",
    "axes[1].plot(x_exact, disc_id(x_exact)[1], 'b-', label='Exact')\n",
    "axes[1].plot(x, rhs_advection_2(dx)(y), 'r--', label='Second order')\n",
    "axes[1].plot(x, D@y, 'k--', label='Spectral')\n",
    "axes[0].set_xlim(0, 2*np.pi)\n",
    "axes[1].set_xlim(0, 2*np.pi)\n",
    "axes[0].set_ylim(-0.1, 1.1)\n",
    "axes[1].set_ylim(-1.5, 1.5)\n",
    "# axes[0].set_xlabel(r\"$x$\")\n",
    "# axes[1].set_xlabel(r\"$x$\")\n",
    "axes[0].set_ylabel(r\"$y$\")\n",
    "axes[1].set_ylabel(r\"$\\partial_x y$\")\n",
    "# axes[1].yaxis.set_label_position('right')\n",
    "axes[1].legend()\n",
    "x, dx, y, dy, D = setup_spectral_disc(50)\n",
    "axes[2].plot(x_exact, disc_id(x_exact)[1], 'b-', label='Exact')\n",
    "axes[2].plot(x, rhs_advection_2(dx)(y), 'r--', label='Second order')\n",
    "axes[2].plot(x, D@y, 'k--', label='Spectral')\n",
    "axes[2].set_xlim(0, 2*np.pi)\n",
    "axes[2].set_xticks([0, 0.5*np.pi, np.pi, 1.5*np.pi, 2*np.pi], [\"0\", r\"$\\pi$/2\", r\"$\\pi$\", r\"3$\\pi$/2\", r\"2$\\pi$\"])\n",
    "axes[2].set_ylim(-1.5, 1.5)\n",
    "axes[2].set_xlabel(r\"$x$\")\n",
    "axes[2].set_ylabel(r\"$\\partial_x y$\")\n",
    "# axes[2].yaxis.set_label_position('right')\n",
    "axes[2].legend()\n",
    "fig.tight_layout()\n",
    "plt.show()"
   ]
  },
  {
   "cell_type": "markdown",
   "id": "17eea74b",
   "metadata": {},
   "source": [
    "### WENO"
   ]
  },
  {
   "cell_type": "code",
   "execution_count": null,
   "id": "cf358bfc",
   "metadata": {},
   "outputs": [],
   "source": [
    "@jit(float32[:](int8,float32[:]))\n",
    "def weno(order, q):\n",
    "    \"\"\"\n",
    "    Do WENO reconstruction\n",
    "\n",
    "    Parameters\n",
    "    ----------\n",
    "\n",
    "    order : int\n",
    "        The stencil width\n",
    "    q : numpy array\n",
    "        Scalar data to reconstruct\n",
    "\n",
    "    Returns\n",
    "    -------\n",
    "\n",
    "    qL : numpy array\n",
    "        Reconstructed data - boundary points are zero\n",
    "    \"\"\"\n",
    "    C = weno_coefficients.C_all[order]\n",
    "    a = weno_coefficients.a_all[order]\n",
    "    sigma = weno_coefficients.sigma_all[order]\n",
    "\n",
    "    qL = np.zeros_like(q)\n",
    "    beta = np.zeros((order, len(q)))\n",
    "    w = np.zeros_like(beta)\n",
    "    nx = len(q) - 2 * order\n",
    "    epsilon = 1e-16\n",
    "    for i in range(order, nx+order):\n",
    "        q_stencils = np.zeros(order)\n",
    "        alpha = np.zeros(order)\n",
    "        for k in range(order):\n",
    "            for l in range(order):\n",
    "                for m in range(l+1):\n",
    "                    beta[k, i] += sigma[k, l, m] * q[i+k-l] * q[i+k-m]\n",
    "            alpha[k] = C[k] / (epsilon + beta[k, i]**2)\n",
    "            for l in range(order):\n",
    "                q_stencils[k] += a[k, l] * q[i+k-l]\n",
    "        w[:, i] = alpha / np.sum(alpha)\n",
    "        qL[i] = np.dot(w[:, i], q_stencils)\n",
    "\n",
    "    return qL"
   ]
  },
  {
   "cell_type": "code",
   "execution_count": null,
   "id": "d7eaa191",
   "metadata": {},
   "outputs": [],
   "source": [
    "def reconstruction_fd(order, q):\n",
    "    C = weno_coefficients.C_all[order]\n",
    "    a = weno_coefficients.a_all[order]\n",
    "    qr = np.zeros_like(q)\n",
    "    for i in range(order, len(q)-order):\n",
    "        q_stencils = np.zeros(order)\n",
    "        alpha = np.zeros(order)\n",
    "        w = np.zeros(order)\n",
    "        for k in range(order):\n",
    "            alpha[k] = C[k]\n",
    "            for l in range(order):\n",
    "                q_stencils[k] += a[k, l] * q[i+k-l]\n",
    "        w = alpha / np.sum(alpha)\n",
    "        qr[i] = np.dot(w, q_stencils)\n",
    "    return qr"
   ]
  },
  {
   "cell_type": "code",
   "execution_count": null,
   "id": "b698a1c2",
   "metadata": {},
   "outputs": [],
   "source": [
    "x, dx, y, dy, D = setup_spectral_disc(20)\n",
    "\n",
    "\n",
    "fig = plt.figure(constrained_layout=True)\n",
    "gs = fig.add_gridspec(2, 2)\n",
    "ax_main = fig.add_subplot(gs[0, :])\n",
    "ax1 = fig.add_subplot(gs[1, 0])\n",
    "ax2 = fig.add_subplot(gs[1, 1])\n",
    "# plt.figure()\n",
    "for ax in [ax_main, ax1, ax2]:\n",
    "    ax.plot(x_exact, disc_id(x_exact)[0], 'k-', label=\"Exact\")\n",
    "    ax.plot(x+dx/2, reconstruction_fd(2, y), 'ro--', label=\"Central\")\n",
    "    ax.plot(x+dx/2, weno(3, y), 'bx--', label=\"WENO\")\n",
    "    ax.set_yticks([])\n",
    "ax_main.set_xlim(0, 2*np.pi)\n",
    "ax_main.set_xticks([0, 0.5*np.pi, np.pi, 1.5*np.pi, 2*np.pi], [\"0\", r\"$\\pi$/2\", r\"$\\pi$\", r\"3$\\pi$/2\", r\"2$\\pi$\"])\n",
    "ax_main.legend()\n",
    "ax1.set_xlim(0.6*np.pi, 0.9*np.pi)\n",
    "ax1.set_ylim(-0.05, 0.2)\n",
    "ax2.set_xlim(1.1*np.pi, 1.4*np.pi)\n",
    "# ax2.yaxis.tick_right()\n",
    "for ax in [ax1, ax2]:\n",
    "    ax.set_xlabel(r\"$x$\")\n",
    "plt.show()"
   ]
  },
  {
   "cell_type": "code",
   "execution_count": null,
   "id": "8834464c",
   "metadata": {},
   "outputs": [],
   "source": [
    "x, dx, y, dy, D = setup_spectral_disc(50)\n",
    "\n",
    "\n",
    "fig = plt.figure(constrained_layout=True)\n",
    "gs = fig.add_gridspec(2, 2)\n",
    "ax_main = fig.add_subplot(gs[0, :])\n",
    "ax1 = fig.add_subplot(gs[1, 0])\n",
    "ax2 = fig.add_subplot(gs[1, 1])\n",
    "# plt.figure()\n",
    "for ax in [ax_main, ax1, ax2]:\n",
    "    ax.plot(x_exact, disc_id(x_exact)[0], 'k-', label=\"Exact\")\n",
    "    ax.plot(x+dx/2, reconstruction_fd(2, y), 'ro--', label=\"Central\")\n",
    "    ax.plot(x+dx/2, weno(3, y), 'bx--', label=\"WENO\")\n",
    "    ax.set_yticks([])\n",
    "ax_main.set_xlim(0, 2*np.pi)\n",
    "ax_main.set_xticks([0, 0.5*np.pi, np.pi, 1.5*np.pi, 2*np.pi], [\"0\", r\"$\\pi$/2\", r\"$\\pi$\", r\"3$\\pi$/2\", r\"2$\\pi$\"])\n",
    "ax_main.legend()\n",
    "ax1.set_xlim(0.6*np.pi, 0.9*np.pi)\n",
    "ax1.set_ylim(-0.05, 0.2)\n",
    "ax2.set_xlim(1.1*np.pi, 1.4*np.pi)\n",
    "# ax2.yaxis.tick_right()\n",
    "for ax in [ax1, ax2]:\n",
    "    ax.set_xlabel(r\"$x$\")\n",
    "plt.show()"
   ]
  },
  {
   "cell_type": "markdown",
   "id": "de5e7561",
   "metadata": {},
   "source": [
    "So that shows the reconstruction issues. Now do an actual evolution. Use the exact upwind flux for WENO."
   ]
  },
  {
   "cell_type": "code",
   "execution_count": null,
   "id": "8563f979",
   "metadata": {},
   "outputs": [],
   "source": [
    "def setup_advection_disc(N, gz):\n",
    "    dx = 2.0*np.pi / N\n",
    "    x = np.arange(-(gz-1/2)*dx, 2*np.pi+(gz)*dx, dx)\n",
    "    y, dy = disc_id(x)\n",
    "    return x, dx, y\n",
    "\n",
    "def rhs_advection_weno(order, dx):\n",
    "    def rhs(y):\n",
    "        dydt = np.zeros_like(y)\n",
    "        flux = np.zeros_like(y)\n",
    "        f = y.copy()\n",
    "        alpha = 1\n",
    "        fp = (f + alpha * y) / 2\n",
    "        fm = (f - alpha * y) / 2\n",
    "        fpr = np.zeros_like(y)\n",
    "        fml = np.zeros_like(y)\n",
    "        fpr[1:] = weno(order, fp[:-1])\n",
    "        fml[-1::-1] = weno(order, fm[-1::-1])\n",
    "        flux[1:-1] = fpr[1:-1] + fml[1:-1]\n",
    "        dydt[1:-1] = (flux[1:-1] - flux[2:]) / dx\n",
    "        for k in range(order+1):\n",
    "            dydt[k] = dydt[-(2*(order+1)-k)]\n",
    "            dydt[-(k+1)] = dydt[2*(order+1)-k-1]\n",
    "        return dydt\n",
    "    return rhs\n",
    "\n",
    "def time_weno(order, stepper, cfl, N, t_end=2*np.pi):\n",
    "    x, dx, y = setup_advection(N, order+1)\n",
    "    dt = cfl * dx\n",
    "    rhs = rhs_advection_weno(order, dx)\n",
    "    y0 = y.copy()\n",
    "    t = 0\n",
    "    while t < t_end:\n",
    "        if t+dt > t_end:\n",
    "            dt = t_end - t \n",
    "        t += dt\n",
    "        y = stepper(rhs, y, dt)\n",
    "    errors = np.sqrt(dx) * np.linalg.norm(y - y0, 2)\n",
    "    return dx, errors"
   ]
  },
  {
   "cell_type": "code",
   "execution_count": null,
   "id": "d10c0c03",
   "metadata": {},
   "outputs": [],
   "source": [
    "order = 3\n",
    "stepper = ssperk104\n",
    "cfl = 0.4\n",
    "N = 50\n",
    "x, dx, y = setup_advection(N, order+1)\n",
    "dt = cfl * dx\n",
    "rhs = rhs_advection_weno(order, dx)\n",
    "y0 = y.copy()\n",
    "t = 0\n",
    "t_end = 2*np.pi\n",
    "while t < t_end:\n",
    "    if t+dt > t_end:\n",
    "        dt = t_end - t \n",
    "    t += dt\n",
    "    y = stepper(rhs, y, dt)"
   ]
  },
  {
   "cell_type": "code",
   "execution_count": null,
   "id": "6bf94d18",
   "metadata": {},
   "outputs": [],
   "source": [
    "plt.figure()\n",
    "plt.plot(x, y0, 'k-')\n",
    "plt.plot(x, y, 'bx--')\n",
    "plt.show()"
   ]
  },
  {
   "cell_type": "code",
   "execution_count": null,
   "id": "8ec85bec",
   "metadata": {},
   "outputs": [],
   "source": [
    "Ns_weno = 2**np.arange(5, 10)\n",
    "dxs_weno = np.zeros(len(Ns_weno))\n",
    "errors_weno = np.zeros(len(Ns_weno))\n",
    "times_weno = np.zeros(len(Ns_weno))\n",
    "errors4 = np.zeros(len(Ns_weno))\n",
    "times4 = np.zeros(len(Ns_weno))\n",
    "for j, N in enumerate(Ns_weno):\n",
    "    dxs_weno[j], errors_weno[j] = time_weno(3, ssperk104, cfl, N)\n",
    "    dxs_weno[j], errors4[j] = time_fd(ssperk104, rhs_advection_4, cfl, N, t_end=2*np.pi)\n",
    "    times_weno[j] = timeit.timeit(f\"time_weno(3, ssperk104, {cfl}, {N})\",\n",
    "                             globals=globals(), number=4)\n",
    "    times4[j] = timeit.timeit(f\"time_fd(ssperk104, rhs_advection_4, {cfl}, {N}, t_end=2*np.pi)\",\n",
    "                             globals=globals(), number=4)"
   ]
  },
  {
   "cell_type": "code",
   "execution_count": null,
   "id": "61bec466",
   "metadata": {},
   "outputs": [],
   "source": [
    "fig, axes = plt.subplots(1, 2, sharey=True)\n",
    "p_weno = np.polyfit(np.log(Ns_weno), np.log(errors_weno), 1)\n",
    "p_weno_time = np.polyfit(np.log(times_weno), np.log(errors_weno), 1)\n",
    "p4 = np.polyfit(np.log(Ns_weno), np.log(errors4), 1)\n",
    "p4_time = np.polyfit(np.log(times4), np.log(errors4), 1)\n",
    "axes[0].loglog(Ns_weno, errors_weno, 'kx', label=\"WENO\")\n",
    "axes[0].loglog(Ns_weno, np.exp(p_weno[1])*Ns_weno**(p_weno[0]), 'k--',\n",
    "               label=rf\"$\\propto \\Delta x^{{{p_weno[0]:.1f}}}$\")\n",
    "axes[0].loglog(Ns_weno, errors4, 'b+', label=\"Fourth order\")\n",
    "axes[0].loglog(Ns_weno, np.exp(p4[1])*Ns_weno**(p4[0]), 'b--',\n",
    "               label=rf\"$\\propto \\Delta x^{{{p2[0]:.1f}}}$\")\n",
    "axes[1].loglog(times_weno, errors_weno, 'kx', label=\"WENO\")\n",
    "axes[1].loglog(times_weno, np.exp(p_weno_time[1])*times_weno**(p_weno_time[0]), 'k--',\n",
    "               label=rf\"$\\propto \\Delta x^{{{p_weno_time[0]:.1f}}}$\")\n",
    "axes[1].loglog(times4, errors4, 'b+', label=\"Fourth order\")\n",
    "axes[1].loglog(times4, np.exp(p4_time[1])*times4**(p4_time[0]), 'b--',\n",
    "               label=rf\"$\\propto \\Delta x^{{{p4_time[0]:.1f}}}$\")\n",
    "axes[0].legend()\n",
    "axes[1].legend()\n",
    "axes[0].set_xlabel(r\"$N$\")\n",
    "axes[1].set_xlabel(r\"Time [s]\")\n",
    "axes[0].set_ylabel(r\"$\\|$Error$\\|_2$\")\n",
    "plt.show()"
   ]
  },
  {
   "cell_type": "markdown",
   "id": "1da21514",
   "metadata": {},
   "source": [
    "So the accuracy of the methods (WENO5 vs central fourth order) is essentially identical and likely dominated by the time solver. But the cost..."
   ]
  },
  {
   "cell_type": "code",
   "execution_count": null,
   "id": "bbe13641",
   "metadata": {},
   "outputs": [],
   "source": [
    "Ns = [100, 400]\n",
    "fig, axes = plt.subplots(2, 1, sharex=True, figsize=(7.68, 9.6))\n",
    "plt.subplots_adjust(hspace=0.01)\n",
    "for j, N in enumerate(Ns):\n",
    "    x, dx, y = setup_advection_disc(N, 2)\n",
    "    dt = cfl * dx\n",
    "    rhs4 = rhs_advection_4(dx)\n",
    "    y0 = y.copy()\n",
    "    y4 = y.copy()\n",
    "    xw, dx, yw = setup_advection_disc(N, 4)\n",
    "    rhsw = rhs_advection_weno(3, dx)\n",
    "    t = 0\n",
    "    t_end = 2*np.pi\n",
    "    while t < t_end:\n",
    "        if t+dt > t_end:\n",
    "            dt = t_end - t \n",
    "        t += dt\n",
    "        y4 = ssperk104(rhs4, y4, dt)\n",
    "        yw = ssperk104(rhsw, yw, dt)\n",
    "    \n",
    "    axes[j].plot(x, y0, 'k-', label=\"Exact\")\n",
    "    axes[j].plot(x, y4, 'b--', label='Fourth order')\n",
    "    axes[j].plot(xw, yw, 'r--', label=\"WENO\")\n",
    "    axes[j].legend(loc='upper left')\n",
    "    axes[j].set_xlim(0, 2*np.pi)\n",
    "    axes[j].set_ylim(-0.25, 1.25)\n",
    "    axes[j].set_ylabel(rf\"$N=${N}\")\n",
    "\n",
    "axes[-1].set_xlabel(r\"$x$\")\n",
    "axes[-1].set_xticks([0, 0.5*np.pi, np.pi, 1.5*np.pi, 2*np.pi], [\"0\", r\"$\\pi$/2\", r\"$\\pi$\", r\"3$\\pi$/2\", r\"2$\\pi$\"])\n",
    "plt.show()"
   ]
  },
  {
   "cell_type": "markdown",
   "id": "c4e06509",
   "metadata": {},
   "source": [
    "So central differencing methods have Gibbs' oscillations which don't converge, whilst WENO methods avoid the oscillations."
   ]
  },
  {
   "cell_type": "code",
   "execution_count": null,
   "id": "2853331a",
   "metadata": {},
   "outputs": [],
   "source": []
  }
 ],
 "metadata": {
  "kernelspec": {
   "display_name": "Python 3 (ipykernel)",
   "language": "python",
   "name": "python3"
  },
  "language_info": {
   "codemirror_mode": {
    "name": "ipython",
    "version": 3
   },
   "file_extension": ".py",
   "mimetype": "text/x-python",
   "name": "python",
   "nbconvert_exporter": "python",
   "pygments_lexer": "ipython3",
   "version": "3.8.13"
  }
 },
 "nbformat": 4,
 "nbformat_minor": 5
}
