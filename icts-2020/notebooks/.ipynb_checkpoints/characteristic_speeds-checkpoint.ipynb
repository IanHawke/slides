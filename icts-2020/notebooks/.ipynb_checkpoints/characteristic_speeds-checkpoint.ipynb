{
 "cells": [
  {
   "cell_type": "markdown",
   "metadata": {},
   "source": [
    "# Computing characteristic speeds"
   ]
  },
  {
   "cell_type": "markdown",
   "metadata": {},
   "source": [
    "We start from a hyperbolic conservation law, restricted to one normal direction that we will call $x$, written as\n",
    "$$\n",
    "  \\partial_t {\\bf q} + \\partial_x {\\bf f}({\\bf q}) = {\\bf 0}.\n",
    "$$\n",
    "The characteristic speeds are the eigenvalues of the Jacobian matrix\n",
    "$$\n",
    "  J = \\frac{\\partial {\\bf f}}{\\partial {\\bf q}}.\n",
    "$$\n",
    "They are directly relevant for the development of the numerical methods. In particular, they set the maximum timestep through the CFL limit."
   ]
  },
  {
   "cell_type": "markdown",
   "metadata": {},
   "source": [
    "We will compute the eigenvalues *numerically* for some systems using automatic differentiation."
   ]
  },
  {
   "cell_type": "markdown",
   "metadata": {},
   "source": [
    "## Modules"
   ]
  },
  {
   "cell_type": "code",
   "execution_count": 1,
   "metadata": {},
   "outputs": [],
   "source": [
    "import jax\n",
    "from jax import numpy as np\n",
    "from matplotlib import pyplot"
   ]
  },
  {
   "cell_type": "code",
   "execution_count": 2,
   "metadata": {},
   "outputs": [],
   "source": [
    "%matplotlib inline"
   ]
  },
  {
   "cell_type": "markdown",
   "metadata": {},
   "source": [
    "## Advection"
   ]
  },
  {
   "cell_type": "markdown",
   "metadata": {},
   "source": [
    "The simplest case:\n",
    "$$\n",
    "\\begin{aligned}\n",
    "  {\\bf q} &= q \\\\ {\\bf f} &= v q \\\\ v &= 1, \\text{constant}.\n",
    "\\end{aligned}\n",
    "$$"
   ]
  },
  {
   "cell_type": "code",
   "execution_count": 3,
   "metadata": {},
   "outputs": [],
   "source": [
    "def flux_advection(q):\n",
    "    return q"
   ]
  },
  {
   "cell_type": "code",
   "execution_count": 45,
   "metadata": {},
   "outputs": [],
   "source": [
    "J_advection = jax.jacfwd(flux_advection)"
   ]
  },
  {
   "cell_type": "code",
   "execution_count": 46,
   "metadata": {},
   "outputs": [
    {
     "data": {
      "text/plain": [
       "array(1.)"
      ]
     },
     "execution_count": 46,
     "metadata": {},
     "output_type": "execute_result"
    }
   ],
   "source": [
    "J_advection(1.0)"
   ]
  },
  {
   "cell_type": "code",
   "execution_count": 47,
   "metadata": {},
   "outputs": [
    {
     "data": {
      "image/png": "[encoded data removed]",
      "text/plain": [
       "<Figure size 432x288 with 1 Axes>"
      ]
     },
     "metadata": {
      "needs_background": "light"
     },
     "output_type": "display_data"
    }
   ],
   "source": [
    "qs = np.linspace(1, 2)\n",
    "evals = []\n",
    "for q in qs:\n",
    "    evals.append(J_advection(q))\n",
    "pyplot.plot(qs, evals)\n",
    "pyplot.xlabel(r'$q$')\n",
    "pyplot.ylabel(r'$\\lambda$')\n",
    "pyplot.show()"
   ]
  },
  {
   "cell_type": "markdown",
   "metadata": {},
   "source": [
    "## Burgers"
   ]
  },
  {
   "cell_type": "markdown",
   "metadata": {},
   "source": [
    "Still a scalar problem.\n",
    "$$\n",
    "\\begin{aligned}\n",
    "  {\\bf q} &= q \\\\ {\\bf f} &= \\tfrac{1}{2} q^2.\n",
    "\\end{aligned}\n",
    "$$"
   ]
  },
  {
   "cell_type": "code",
   "execution_count": 12,
   "metadata": {},
   "outputs": [],
   "source": [
    "def flux_burgers(q):\n",
    "    return 0.5 * q**2"
   ]
  },
  {
   "cell_type": "code",
   "execution_count": 48,
   "metadata": {},
   "outputs": [],
   "source": [
    "J_burgers = jax.jacfwd(flux_burgers)"
   ]
  },
  {
   "cell_type": "code",
   "execution_count": 49,
   "metadata": {},
   "outputs": [
    {
     "data": {
      "text/plain": [
       "DeviceArray(1.5, dtype=float32)"
      ]
     },
     "execution_count": 49,
     "metadata": {},
     "output_type": "execute_result"
    }
   ],
   "source": [
    "J_burgers(1.5)"
   ]
  },
  {
   "cell_type": "code",
   "execution_count": 50,
   "metadata": {},
   "outputs": [
    {
     "data": {
      "image/png": "[encoded data removed]",
      "text/plain": [
       "<Figure size 432x288 with 1 Axes>"
      ]
     },
     "metadata": {
      "needs_background": "light"
     },
     "output_type": "display_data"
    }
   ],
   "source": [
    "qs = np.linspace(1, 2)\n",
    "evals = []\n",
    "for q in qs:\n",
    "    evals.append(J_burgers(q))\n",
    "pyplot.plot(qs, evals)\n",
    "pyplot.xlabel(r'$q$')\n",
    "pyplot.ylabel(r'$\\lambda$')\n",
    "pyplot.show()"
   ]
  },
  {
   "cell_type": "markdown",
   "metadata": {},
   "source": [
    "## Shallow water"
   ]
  },
  {
   "cell_type": "markdown",
   "metadata": {},
   "source": [
    "A $2 \\times 2$ system:\n",
    "$$\n",
    "\\begin{aligned}\n",
    "  {\\bf q} &= \\begin{pmatrix} \\phi \\\\ \\phi u \\end{pmatrix} \\\\ {\\bf f} &= \\begin{pmatrix} \\phi u \\\\ \\phi u^2 + \\tfrac{1}{2} \\phi^2 \\end{pmatrix}.\n",
    "\\end{aligned}\n",
    "$$"
   ]
  },
  {
   "cell_type": "code",
   "execution_count": 51,
   "metadata": {},
   "outputs": [],
   "source": [
    "def flux_sw(q):\n",
    "    phi, phi_u = q\n",
    "    u = phi_u / phi\n",
    "    return np.array([phi_u, phi_u * u + 0.5 * phi**2])"
   ]
  },
  {
   "cell_type": "code",
   "execution_count": 52,
   "metadata": {},
   "outputs": [],
   "source": [
    "J_sw = jax.jacfwd(flux_sw)"
   ]
  },
  {
   "cell_type": "code",
   "execution_count": 53,
   "metadata": {},
   "outputs": [
    {
     "data": {
      "text/plain": [
       "[DeviceArray([0., 0.], dtype=float32), DeviceArray([1., 2.], dtype=float32)]"
      ]
     },
     "execution_count": 53,
     "metadata": {},
     "output_type": "execute_result"
    }
   ],
   "source": [
    "J_sw([1.0, 1.0])"
   ]
  },
  {
   "cell_type": "code",
   "execution_count": 54,
   "metadata": {},
   "outputs": [
    {
     "data": {
      "text/plain": [
       "DeviceArray([2.+0.j, 0.+0.j], dtype=complex64)"
      ]
     },
     "execution_count": 54,
     "metadata": {},
     "output_type": "execute_result"
    }
   ],
   "source": [
    "np.linalg.eigvals(J_sw([1.0, 1.0]))"
   ]
  },
  {
   "cell_type": "code",
   "execution_count": 55,
   "metadata": {},
   "outputs": [
    {
     "name": "stderr",
     "output_type": "stream",
     "text": [
      "/Users/ih3/anaconda3/envs/icts/lib/python3.8/site-packages/numpy/core/_asarray.py:85: ComplexWarning: Casting complex values to real discards the imaginary part\n",
      "  return array(a, dtype, copy=False, order=order)\n",
      "/Users/ih3/anaconda3/envs/icts/lib/python3.8/site-packages/numpy/core/_asarray.py:85: ComplexWarning: Casting complex values to real discards the imaginary part\n",
      "  return array(a, dtype, copy=False, order=order)\n"
     ]
    },
    {
     "data": {
      "image/png": "[encoded data removed]",
      "text/plain": [
       "<Figure size 432x288 with 1 Axes>"
      ]
     },
     "metadata": {
      "needs_background": "light"
     },
     "output_type": "display_data"
    }
   ],
   "source": [
    "phis = np.linspace(0.1, 2)\n",
    "evals = []\n",
    "for phi in phis:\n",
    "    evals.append(np.linalg.eigvals(J_sw([phi, phi*1])))\n",
    "pyplot.plot(phis, np.array(evals)[:,0], '-x', label=r\"$\\lambda_1$\")\n",
    "pyplot.plot(phis, np.array(evals)[:,1], '-x', label=r\"$\\lambda_2$\")\n",
    "pyplot.plot(phis, np.sqrt(phis)+1, label=r\"$u + \\sqrt{\\phi}$\")\n",
    "pyplot.plot(phis,-np.sqrt(phis)+1, label=r\"$u - \\sqrt{\\phi}$\")\n",
    "pyplot.xlabel(r'$\\phi$')\n",
    "pyplot.ylabel(r'$\\lambda$')\n",
    "pyplot.legend()\n",
    "pyplot.show()"
   ]
  },
  {
   "cell_type": "markdown",
   "metadata": {},
   "source": [
    "## Newtonian Euler equations"
   ]
  },
  {
   "cell_type": "markdown",
   "metadata": {},
   "source": [
    "A $3 \\times 3$ system, using the simplified EOS $p = (\\gamma - 1) \\rho \\epsilon$ with $\\gamma = 5/3$:\n",
    "$$\n",
    "\\begin{aligned}\n",
    "  {\\bf q} &= \\begin{pmatrix} \\rho \\\\ \\rho u \\\\ \\rho (\\epsilon + u^2 / 2) \\end{pmatrix} \\\\ {\\bf f} &= \\begin{pmatrix} \\rho u \\\\ \\rho u^2 + p \\\\ ( \\rho (\\epsilon + u^2 / 2) + p) u \\end{pmatrix}.\n",
    "\\end{aligned}\n",
    "$$"
   ]
  },
  {
   "cell_type": "code",
   "execution_count": 61,
   "metadata": {},
   "outputs": [],
   "source": [
    "def p(rho, epsilon):\n",
    "    return 2 * rho * epsilon / 3\n",
    "\n",
    "def flux_euler(q):\n",
    "    rho, S, E = q\n",
    "    u = S / rho\n",
    "    epsilon = (E - S * u / 2) / rho\n",
    "    return np.array([S, S*u + p(rho, epsilon), (E + p(rho, epsilon)) * u])"
   ]
  },
  {
   "cell_type": "code",
   "execution_count": 62,
   "metadata": {},
   "outputs": [],
   "source": [
    "J_euler = jax.jacfwd(flux_euler)"
   ]
  },
  {
   "cell_type": "code",
   "execution_count": 67,
   "metadata": {},
   "outputs": [
    {
     "name": "stderr",
     "output_type": "stream",
     "text": [
      "/Users/ih3/anaconda3/envs/icts/lib/python3.8/site-packages/numpy/core/_asarray.py:85: ComplexWarning: Casting complex values to real discards the imaginary part\n",
      "  return array(a, dtype, copy=False, order=order)\n",
      "/Users/ih3/anaconda3/envs/icts/lib/python3.8/site-packages/numpy/core/_asarray.py:85: ComplexWarning: Casting complex values to real discards the imaginary part\n",
      "  return array(a, dtype, copy=False, order=order)\n",
      "/Users/ih3/anaconda3/envs/icts/lib/python3.8/site-packages/numpy/core/_asarray.py:85: ComplexWarning: Casting complex values to real discards the imaginary part\n",
      "  return array(a, dtype, copy=False, order=order)\n"
     ]
    },
    {
     "data": {
      "image/png": "[encoded data removed]",
      "text/plain": [
       "<Figure size 432x288 with 1 Axes>"
      ]
     },
     "metadata": {
      "needs_background": "light"
     },
     "output_type": "display_data"
    }
   ],
   "source": [
    "u = 1.0\n",
    "rho = 1.0\n",
    "epss = np.linspace(0.1, 10, 200)\n",
    "cs = np.sqrt(5/3*p(rho, epss)/rho)\n",
    "evals = []\n",
    "for epsilon in epss:\n",
    "    evals.append(np.linalg.eigvals(J_euler([rho, rho*u, rho*(epsilon + u**2 / 2)])))\n",
    "pyplot.plot(epss, np.array(evals)[:,0], '-o', label=r\"$\\lambda_-$\")\n",
    "pyplot.plot(epss, np.array(evals)[:,1], '-o', label=r\"$\\lambda_0$\")\n",
    "pyplot.plot(epss, np.array(evals)[:,2], '-o', label=r\"$\\lambda_+$\")\n",
    "pyplot.plot(epss, u-cs, label=r\"$u - c_s$\")\n",
    "pyplot.plot(epss, u*np.ones_like(rhos), label=r\"$u$\")\n",
    "pyplot.plot(epss, u+cs, label=r\"$u + c_s$\")\n",
    "pyplot.xlabel(r'$\\epsilon$')\n",
    "pyplot.ylabel(r'$\\lambda$')\n",
    "pyplot.legend()\n",
    "fig.tight_layout()\n",
    "pyplot.show()"
   ]
  },
  {
   "cell_type": "code",
   "execution_count": null,
   "metadata": {},
   "outputs": [],
   "source": []
  }
 ],
 "metadata": {
  "kernelspec": {
   "display_name": "Python 3",
   "language": "python",
   "name": "python3"
  },
  "language_info": {
   "codemirror_mode": {
    "name": "ipython",
    "version": 3
   },
   "file_extension": ".py",
   "mimetype": "text/x-python",
   "name": "python",
   "nbconvert_exporter": "python",
   "pygments_lexer": "ipython3",
   "version": "3.8.2"
  }
 },
 "nbformat": 4,
 "nbformat_minor": 4
}
