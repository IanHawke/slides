{
 "cells": [
  {
   "cell_type": "code",
   "execution_count": null,
   "id": "60984b25",
   "metadata": {},
   "outputs": [],
   "source": [
    "import numpy as np\n",
    "import matplotlib.pyplot as plt\n",
    "import networkx"
   ]
  },
  {
   "cell_type": "code",
   "execution_count": null,
   "id": "4799a72e",
   "metadata": {},
   "outputs": [],
   "source": [
    "%matplotlib inline"
   ]
  },
  {
   "cell_type": "markdown",
   "id": "5f11c65d",
   "metadata": {},
   "source": [
    "<section class=\"section1\"><h1>Dijkstra's algorithm</h1>\n",
    "<p>Here we will assume that a graph is given by a dictionary of weighted edges. The keys are the <code>(start, end)</code> pair for the edge, and the values are the weights. For example,</p>\n",
    "</section>"
   ]
  },
  {
   "cell_type": "code",
   "execution_count": null,
   "id": "a7234c69",
   "metadata": {},
   "outputs": [],
   "source": [
    "G = {\n",
    "    (0, 1): 2,\n",
    "    (0, 3): 3,\n",
    "    (1, 2): 7,\n",
    "    (1, 3): 4,\n",
    "    (2, 1): 4,\n",
    "    (2, 3): 2,\n",
    "    (2, 4): 2,\n",
    "    (2, 5): 1,\n",
    "    (3, 1): 7,\n",
    "    (3, 2): 1,\n",
    "    (3, 4): 8,\n",
    "    (4, 2): 7,\n",
    "    (4, 3): 6,\n",
    "    (4, 5): 2,\n",
    "    (5, 2): 8,\n",
    "    }"
   ]
  },
  {
   "cell_type": "markdown",
   "id": "de4bad7f",
   "metadata": {},
   "source": [
    "<section class=\"section2\"><h2>Utilities</h2>\n",
    "<p>First write functions to convert from the graph-as-dictionary to get the nodes list, adjacency list, and adjacency matrix.</p>\n",
    "</section>"
   ]
  },
  {
   "cell_type": "code",
   "execution_count": null,
   "id": "2b142fe7",
   "metadata": {},
   "outputs": [],
   "source": [
    "def get_nodes(G):\n",
    "    \"\"\"\n",
    "    Get the list of nodes of a graph from the dictionary.\n",
    "    \n",
    "    Parameters\n",
    "    ----------\n",
    "    G : dictionary\n",
    "        Describes the graph as edge-weight pair.\n",
    "    \n",
    "    Returns\n",
    "    -------\n",
    "    V : list\n",
    "        The nodes\n",
    "    \"\"\"\n",
    "    nodes = []\n",
    "    for (s, e) in G.keys():\n",
    "        nodes.append(s)\n",
    "        nodes.append(e)\n",
    "    # Items in sets are unique. So, convert to set then to list, then sort.\n",
    "    V = sorted(list(set(nodes)))\n",
    "    return V"
   ]
  },
  {
   "cell_type": "code",
   "execution_count": null,
   "id": "b7c35ade",
   "metadata": {},
   "outputs": [],
   "source": [
    "get_nodes(G)"
   ]
  },
  {
   "cell_type": "code",
   "execution_count": null,
   "id": "daff43af",
   "metadata": {},
   "outputs": [],
   "source": [
    "[0, 1, 2, 3, 4, 5]\n",
    "\n"
   ]
  },
  {
   "cell_type": "markdown",
   "id": "503a0e95",
   "metadata": {},
   "source": [
    "<p>Now get the adjacency list. This is a list of lists. The <code>i</code>th entry gives the nodes that can be reached by a single edge starting from <code>i</code>.</p>"
   ]
  },
  {
   "cell_type": "code",
   "execution_count": null,
   "id": "925d83a6",
   "metadata": {},
   "outputs": [],
   "source": [
    "def adjacency_list(G):\n",
    "    \"\"\"\n",
    "    Get the adjacency list of a graph from the dictionary.\n",
    "    \n",
    "    Parameters\n",
    "    ----------\n",
    "    G : dictionary\n",
    "        Describes the graph as edge-weight pair.\n",
    "    \n",
    "    Returns\n",
    "    -------\n",
    "    adjacency_list : list\n",
    "        The list as described\n",
    "    \"\"\"\n",
    "    V = get_nodes(G)\n",
    "    adjacency_list = []\n",
    "    for v in V:\n",
    "        nodes = []\n",
    "        for w in V:\n",
    "            if (v, w) in G:\n",
    "                nodes.append(w)\n",
    "        adjacency_list.append(nodes)\n",
    "    return adjacency_list"
   ]
  },
  {
   "cell_type": "code",
   "execution_count": null,
   "id": "f4c3bf02",
   "metadata": {},
   "outputs": [],
   "source": [
    "adjacency_list(G)"
   ]
  },
  {
   "cell_type": "code",
   "execution_count": null,
   "id": "2a2095d0",
   "metadata": {},
   "outputs": [],
   "source": [
    "[[1, 3], [2, 3], [1, 3, 4, 5], [1, 2, 4], [2, 3, 5], [2]]\n",
    "\n"
   ]
  },
  {
   "cell_type": "markdown",
   "id": "c184506d",
   "metadata": {},
   "source": [
    "<p>Now get the adjacency matrix. For row <code>i</code> and column <code>j</code> this gives has <span>$A_{i,j} = w$</span>, where <code>w</code> is the weight of the edge between <code>i</code> and <code>j</code>. If there is no such edge the value is set to infinity.</p>"
   ]
  },
  {
   "cell_type": "code",
   "execution_count": null,
   "id": "5d918066",
   "metadata": {},
   "outputs": [],
   "source": [
    "def adjacency_matrix(G):\n",
    "    \"\"\"\n",
    "    Get the adjacency list of a graph from the dictionary.\n",
    "    \n",
    "    Parameters\n",
    "    ----------\n",
    "    G : dictionary\n",
    "        Describes the graph as edge-weight pair.\n",
    "    \n",
    "    Returns\n",
    "    -------\n",
    "    adjacency_matrix : array\n",
    "        The matrix as described\n",
    "    \"\"\"\n",
    "    V = get_nodes(G)\n",
    "    n = len(V)\n",
    "    adjacency_matrix = np.zeros((n, n))\n",
    "    for i, v in enumerate(V):\n",
    "        for j, w in enumerate(V):\n",
    "            if (v, w) in G:\n",
    "                adjacency_matrix[i, j] = G[(v, w)]\n",
    "            else:\n",
    "                adjacency_matrix[i, j] = np.inf\n",
    "    return adjacency_matrix"
   ]
  },
  {
   "cell_type": "code",
   "execution_count": null,
   "id": "e50ac05e",
   "metadata": {},
   "outputs": [],
   "source": [
    "adjacency_matrix(G)"
   ]
  },
  {
   "cell_type": "code",
   "execution_count": null,
   "id": "f9c8793b",
   "metadata": {},
   "outputs": [],
   "source": [
    "array([[inf,  2., inf,  3., inf, inf],\n",
    "       [inf, inf,  7.,  4., inf, inf],\n",
    "       [inf,  4., inf,  2.,  2.,  1.],\n",
    "       [inf,  7.,  1., inf,  8., inf],\n",
    "       [inf, inf,  7.,  6., inf,  2.],\n",
    "       [inf, inf,  8., inf, inf, inf]])\n",
    "\n"
   ]
  },
  {
   "cell_type": "markdown",
   "id": "6c8eb4b0",
   "metadata": {},
   "source": [
    "<section class=\"section2\"><h2>The slow version</h2>\n",
    "<p>This is the <span>$\\mathcal{O}(n^3)$</span> version.</p>\n",
    "</section>"
   ]
  },
  {
   "cell_type": "code",
   "execution_count": null,
   "id": "49e962e9",
   "metadata": {},
   "outputs": [],
   "source": [
    "def dijkstra_n3(G, s):\n",
    "    \"\"\"\n",
    "    Dijkstra's algorithm finding the shortest paths from s on graph G.\n",
    "    \n",
    "    Parameters\n",
    "    ----------\n",
    "    G : dictionary\n",
    "        Describes the graph as edge-weight pair.\n",
    "    s : integer\n",
    "        The starting node\n",
    "    \n",
    "    Returns\n",
    "    -------\n",
    "    Y : list\n",
    "        The cost to reach each node starting from s\n",
    "    P : list\n",
    "        The predecessor on the shortest path\n",
    "    \"\"\"\n",
    "    V = get_nodes(G)\n",
    "    L = adjacency_list(G)\n",
    "    Ml = adjacency_matrix(G)\n",
    "    \n",
    "    n = len(V)\n",
    "    P = np.zeros((n,))\n",
    "    Y = np.zeros((n,))\n",
    "    for i in range(n):\n",
    "        Y[i] = np.inf\n",
    "    \n",
    "    # Start from s.\n",
    "    S = [s]\n",
    "    Y[s] = 0\n",
    "    while len(S) < n:\n",
    "        smallest_seen = np.inf\n",
    "        v, w = -1, -1\n",
    "        # Find shortest total path out of S\n",
    "        for i in S:\n",
    "            for j in L[i]:\n",
    "                if j in S:\n",
    "                    continue\n",
    "                if smallest_seen > Y[i] + Ml[i][j]:\n",
    "                    smallest_seen = Y[i] + Ml[i][j]\n",
    "                    v, w = i, j\n",
    "        # Update path out of S, add node.\n",
    "        Y[w] = Y[v] + Ml[v][w]\n",
    "        P[w] = v\n",
    "        S.append(w)\n",
    "    \n",
    "    return Y, P"
   ]
  },
  {
   "cell_type": "code",
   "execution_count": null,
   "id": "b0d34689",
   "metadata": {},
   "outputs": [],
   "source": [
    "dijkstra_n3(G, 0)"
   ]
  },
  {
   "cell_type": "code",
   "execution_count": null,
   "id": "4f25567e",
   "metadata": {},
   "outputs": [],
   "source": [
    "(array([0., 2., 4., 3., 6., 5.]), array([0., 0., 3., 0., 2., 2.]))\n",
    "\n"
   ]
  },
  {
   "cell_type": "markdown",
   "id": "c20415ad",
   "metadata": {},
   "source": [
    "<section class=\"section3\"><h3>Cross-check using <code>networkx</code></h3>\n",
    "</section>"
   ]
  },
  {
   "cell_type": "code",
   "execution_count": null,
   "id": "3b786148",
   "metadata": {},
   "outputs": [],
   "source": [
    "G_nx = networkx.DiGraph()\n",
    "G_nx.add_weighted_edges_from([(s, e, w) for (s, e), w in G.items()])"
   ]
  },
  {
   "cell_type": "code",
   "execution_count": null,
   "id": "b59819a6",
   "metadata": {},
   "outputs": [],
   "source": [
    "for target in range(1, 6):\n",
    "    print(target, networkx.dijkstra_path_length(G_nx, 0, target), networkx.dijkstra_path(G_nx, 0, target)[-2])"
   ]
  },
  {
   "cell_type": "code",
   "execution_count": null,
   "id": "6142742c",
   "metadata": {},
   "outputs": [],
   "source": [
    "1 2 0\n",
    "2 4 3\n",
    "3 3 0\n",
    "4 6 2\n",
    "5 5 2\n"
   ]
  },
  {
   "cell_type": "markdown",
   "id": "874eae44",
   "metadata": {},
   "source": [
    "<section class=\"section2\"><h2>The fast version</h2>\n",
    "<p>This is the <span>$\\mathcal{O}(n^2)$</span> version.</p>\n",
    "</section>"
   ]
  },
  {
   "cell_type": "code",
   "execution_count": null,
   "id": "5de94b0a",
   "metadata": {},
   "outputs": [],
   "source": [
    "def dijkstra_n2(G, s):\n",
    "    \"\"\"\n",
    "    Dijkstra's algorithm finding the shortest paths from s on graph G.\n",
    "    \n",
    "    Parameters\n",
    "    ----------\n",
    "    G : dictionary\n",
    "        Describes the graph as edge-weight pair.\n",
    "    s : integer\n",
    "        The starting node\n",
    "    \n",
    "    Returns\n",
    "    -------\n",
    "    Y : list\n",
    "        The cost to reach each node starting from s\n",
    "    P : list\n",
    "        The predecessor on the shortest path\n",
    "    \"\"\"\n",
    "    V = get_nodes(G)\n",
    "    L = adjacency_list(G)\n",
    "    Ml = adjacency_matrix(G)\n",
    "    \n",
    "    n = len(V)\n",
    "    P = np.zeros((n,))\n",
    "    Y = np.zeros((n,))\n",
    "    for i in range(n):\n",
    "        Y[i] = Ml[s][i]\n",
    "    \n",
    "    # Start from s.\n",
    "    S = [s]\n",
    "    Y[s] = 0\n",
    "    while len(S) < n:\n",
    "        smallest_seen = np.inf\n",
    "        w = -1\n",
    "        # Update all paths out of S\n",
    "        for j in V:\n",
    "            if j in S:\n",
    "                continue\n",
    "            if smallest_seen > Y[j]:\n",
    "                smallest_seen = Y[j]\n",
    "                w = j\n",
    "        S.append(w)\n",
    "        for h in L[w]:\n",
    "            if Y[h] > Y[w] + Ml[w][h]:\n",
    "                Y[h] = Y[w] + Ml[w][h]\n",
    "                P[h] = w\n",
    "    \n",
    "    return Y, P"
   ]
  },
  {
   "cell_type": "code",
   "execution_count": null,
   "id": "94933c3b",
   "metadata": {},
   "outputs": [],
   "source": [
    "dijkstra_n2(G, 0)"
   ]
  },
  {
   "cell_type": "code",
   "execution_count": null,
   "id": "917e8c76",
   "metadata": {},
   "outputs": [],
   "source": [
    "(array([0., 2., 4., 3., 6., 5.]), array([0., 0., 3., 0., 2., 2.]))\n"
   ]
  }
 ],
 "metadata": {},
 "nbformat": 4,
 "nbformat_minor": 5
}
