{
 "cells": [
  {
   "cell_type": "markdown",
   "id": "ea74f571",
   "metadata": {},
   "source": [
    "<section class=\"section1\"><h1>Sorting algorithms as in lectures</h1>\n",
    "<section class=\"section2\"><h2>Key helper function</h2>\n",
    "</section></section>"
   ]
  },
  {
   "cell_type": "code",
   "execution_count": null,
   "id": "6ad77e15",
   "metadata": {},
   "outputs": [],
   "source": [
    "def swap(unsorted, i, j):\n",
    "    \"\"\"\n",
    "    Swap the i and j entries of the list unsorted.\n",
    "    \n",
    "    Parameters\n",
    "    ----------\n",
    "    unsorted : list or array\n",
    "        List whose entries are to be swapped\n",
    "    i, j : integer\n",
    "        Indexes of entries to be swapped\n",
    "    \n",
    "    Returns\n",
    "    -------\n",
    "    sorted : list or array\n",
    "        List with entries swapped\n",
    "    \"\"\"\n",
    "    unsorted[i], unsorted[j] = unsorted[j], unsorted[i]\n",
    "    return unsorted"
   ]
  },
  {
   "cell_type": "markdown",
   "id": "380533ab",
   "metadata": {},
   "source": [
    "<section class=\"section2\"><h2>Selection sort</h2>\n",
    "</section>"
   ]
  },
  {
   "cell_type": "code",
   "execution_count": null,
   "id": "1a2c4b7c",
   "metadata": {},
   "outputs": [],
   "source": [
    "def selection_sort(unsorted):\n",
    "    \"\"\"\n",
    "    Selection sort, sorting in non-decreasing order.\n",
    "    \n",
    "    Parameters\n",
    "    ----------\n",
    "    unsorted: list or array\n",
    "        List to be sorted\n",
    "        \n",
    "    Returns\n",
    "    -------\n",
    "    sorted : list or array\n",
    "        Sorted (in place) list\n",
    "    \"\"\"\n",
    "    n = len(unsorted)\n",
    "    for i in range(n-1):\n",
    "        j = i\n",
    "        for k in range(i+1, n):\n",
    "            if unsorted[k] < unsorted[j]:\n",
    "                j = k\n",
    "        if unsorted[j] < unsorted[i]:\n",
    "            unsorted = swap(unsorted, i, j)\n",
    "    return unsorted"
   ]
  },
  {
   "cell_type": "code",
   "execution_count": null,
   "id": "1cb73f81",
   "metadata": {},
   "outputs": [],
   "source": [
    "print(selection_sort([7, 2, 2, 6, 4]))"
   ]
  },
  {
   "cell_type": "code",
   "execution_count": null,
   "id": "242cb9aa",
   "metadata": {},
   "outputs": [],
   "source": [
    "[2, 2, 4, 6, 7]\n"
   ]
  },
  {
   "cell_type": "markdown",
   "id": "08352c25",
   "metadata": {},
   "source": [
    "<section class=\"section2\"><h2>Insertion sort</h2>\n",
    "</section>"
   ]
  },
  {
   "cell_type": "code",
   "execution_count": null,
   "id": "0f6e5ba8",
   "metadata": {},
   "outputs": [],
   "source": [
    "def insertion_sort(unsorted):\n",
    "    \"\"\"\n",
    "    Insertion sort, sorting in non-decreasing order.\n",
    "    \n",
    "    Parameters\n",
    "    ----------\n",
    "    unsorted: list or array\n",
    "        List to be sorted\n",
    "        \n",
    "    Returns\n",
    "    -------\n",
    "    sorted : list or array\n",
    "        Sorted (in place) list\n",
    "    \"\"\"\n",
    "    n = len(unsorted)\n",
    "    for i in range(1, n):\n",
    "        for j in range(i, 0, -1):\n",
    "            if unsorted[j-1] > unsorted[j]:\n",
    "                unsorted = swap(unsorted, j-1, j)\n",
    "            else:\n",
    "                break\n",
    "    return unsorted"
   ]
  },
  {
   "cell_type": "code",
   "execution_count": null,
   "id": "865a4ab6",
   "metadata": {},
   "outputs": [],
   "source": [
    "print(insertion_sort([7, 2, 2, 6, 4]))"
   ]
  },
  {
   "cell_type": "code",
   "execution_count": null,
   "id": "4dd3edd9",
   "metadata": {},
   "outputs": [],
   "source": [
    "[2, 2, 4, 6, 7]\n"
   ]
  },
  {
   "cell_type": "markdown",
   "id": "268bbb3c",
   "metadata": {},
   "source": [
    "<section class=\"section1\"><h1>Timing</h1>\n",
    "</section>"
   ]
  },
  {
   "cell_type": "code",
   "execution_count": null,
   "id": "c89d272c",
   "metadata": {},
   "outputs": [],
   "source": [
    "import numpy as np\n",
    "from copy import deepcopy\n",
    "import timeit\n",
    "import matplotlib.pyplot as plt\n",
    "import tqdm"
   ]
  },
  {
   "cell_type": "code",
   "execution_count": null,
   "id": "8db611bf",
   "metadata": {},
   "outputs": [],
   "source": [
    "ns = 2**np.arange(4, 12)\n",
    "times_ave_ss = np.zeros(len(ns))\n",
    "times_ave_is = np.zeros(len(ns))\n",
    "times_max_ss = np.zeros(len(ns))\n",
    "times_max_is = np.zeros(len(ns))\n",
    "for i, n in enumerate(tqdm.tqdm(ns)):\n",
    "    n_times_ss = np.zeros(100, dtype=np.float64)\n",
    "    n_times_is = np.zeros(100, dtype=np.float64)\n",
    "    for j in range(len(n_times_ss)):\n",
    "        np.random.seed(j+100)\n",
    "        n_times_ss[j] = timeit.timeit(\"selection_sort(unsorted)\",\n",
    "                                   setup=f\"unsorted = np.random.randint(0, {2*n}, size={n})\",\n",
    "                                   globals=globals(),\n",
    "                                   number=5)\n",
    "        np.random.seed(j+100)\n",
    "        n_times_is[j] = timeit.timeit(\"insertion_sort(unsorted)\",\n",
    "                                   setup=f\"unsorted = np.random.randint(0, {2*n}, size={n})\",\n",
    "                                   globals=globals(),\n",
    "                                   number=5)\n",
    "    times_ave_ss[i] = n_times_ss.mean()\n",
    "    times_ave_is[i] = n_times_is.mean()\n",
    "    times_max_ss[i] = n_times_ss.max()\n",
    "    times_max_is[i] = n_times_is.max()"
   ]
  },
  {
   "cell_type": "code",
   "execution_count": null,
   "id": "add13142",
   "metadata": {},
   "outputs": [],
   "source": [
    "100%|████████████████████████████████████████████████████████████████████████████████████████████| 8/8 [04:36<00:00, 34.56s/it]\n",
    "\n"
   ]
  },
  {
   "cell_type": "code",
   "execution_count": null,
   "id": "7e882bd6",
   "metadata": {},
   "outputs": [],
   "source": [
    "p_ave_ss = np.polyfit(np.log(ns), np.log(times_ave_ss), 1)\n",
    "p_ave_is = np.polyfit(np.log(ns), np.log(times_ave_is), 1)\n",
    "p_max_ss = np.polyfit(np.log(ns), np.log(times_max_ss), 1)\n",
    "p_max_is = np.polyfit(np.log(ns), np.log(times_max_is), 1)"
   ]
  },
  {
   "cell_type": "code",
   "execution_count": null,
   "id": "9284ad35",
   "metadata": {},
   "outputs": [],
   "source": [
    "textsize=20\n",
    "fig, axes = plt.subplots(1, 2, figsize=(12, 6))\n",
    "axes[0].loglog(ns, times_ave_ss, 'kx', label=\"Average\")\n",
    "axes[0].loglog(ns, np.exp(p_ave_ss[1])*ns**p_ave_ss[0], 'b--', label=rf\"$n^{{{p_ave_ss[0]:.2f}}}$\")\n",
    "axes[0].loglog(ns, times_max_ss, 'r+', label=\"Worst\")\n",
    "axes[0].loglog(ns, np.exp(p_max_ss[1])*ns**p_max_ss[0], 'g--', label=rf\"$n^{{{p_max_ss[0]:.2f}}}$\")\n",
    "axes[0].set_title(\"Selection sort\", size=textsize)\n",
    "axes[1].loglog(ns, times_ave_is, 'kx', label=\"Average\")\n",
    "axes[1].loglog(ns, np.exp(p_ave_is[1])*ns**p_ave_is[0], 'b--', label=rf\"$n^{{{p_ave_is[0]:.2f}}}$\")\n",
    "axes[1].loglog(ns, times_max_is, 'r+', label=\"Worst\")\n",
    "axes[1].loglog(ns, np.exp(p_max_is[1])*ns**p_max_is[0], 'g--', label=rf\"$n^{{{p_max_is[0]:.2f}}}$\")\n",
    "axes[1].set_title(\"Insertion sort\", size=textsize)\n",
    "for ax in axes:\n",
    "    ax.legend(prop={'size': textsize})\n",
    "    ax.set_xlabel(r\"$n$\", size=textsize)\n",
    "    ax.set_ylabel(\"Time (s)\", size=textsize)\n",
    "fig.tight_layout()"
   ]
  },
  {
   "cell_type": "code",
   "execution_count": null,
   "id": "64234499",
   "metadata": {},
   "outputs": [],
   "source": [
    "\n",
    "![png](Sorting_files/Sorting_13_0.png)\n",
    "\n"
   ]
  },
  {
   "cell_type": "markdown",
   "id": "fd0d8e28",
   "metadata": {},
   "source": [
    "<p>We see that insertion sort is absolutely faster (the times at fixed <span>$n$</span> are lower than selection sort) and more efficient (the growth rate with <span>$n$</span> as measured by the best fit lines is smaller).</p>"
   ]
  }
 ],
 "metadata": {},
 "nbformat": 4,
 "nbformat_minor": 5
}
