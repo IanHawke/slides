{
 "cells": [
  {
   "cell_type": "markdown",
   "id": "8934fde5",
   "metadata": {},
   "source": [
    "<section class=\"section1\"><h1>Lab week 6</h1>\n",
    "<p>We have seen lists and <code>numpy</code> arrays. However, we can best describe things like graphs by using other types of structure.</p>\n",
    "<section class=\"section2\"><h2>Script</h2>\n",
    "<p>We have seen two types of <em>container</em>, a thing that holds multiple objects. The <code>list</code> behaves a bit like a mathematical set; a <code>numpy</code> <code>array</code> behaves like a linear algebra vector, or matrix.</p>\n",
    "<p>There are other containers that Python includes that are useful in particular contexts.</p>\n",
    "<section class=\"section3\"><h3>Tuples</h3>\n",
    "<p>A tuple is <em>technically</em> a list which can't be changed. It is defined using round brackets:</p>\n",
    "</section></section></section>"
   ]
  },
  {
   "cell_type": "code",
   "execution_count": null,
   "id": "a77e9647",
   "metadata": {},
   "outputs": [],
   "source": [
    "tuple_1 = (1, 2, 3, 4, 5)\n",
    "print(tuple_1)"
   ]
  },
  {
   "cell_type": "code",
   "execution_count": null,
   "id": "42630348",
   "metadata": {},
   "outputs": [],
   "source": [
    "(1, 2, 3, 4, 5)\n"
   ]
  },
  {
   "cell_type": "markdown",
   "id": "b763d1ad",
   "metadata": {},
   "source": [
    "<p>It is accessed the same way as a list:</p>"
   ]
  },
  {
   "cell_type": "code",
   "execution_count": null,
   "id": "df683d61",
   "metadata": {},
   "outputs": [],
   "source": [
    "print(tuple_1[1])\n",
    "print(tuple_1[2:4])"
   ]
  },
  {
   "cell_type": "code",
   "execution_count": null,
   "id": "1922d614",
   "metadata": {},
   "outputs": [],
   "source": [
    "2\n",
    "(3, 4)\n"
   ]
  },
  {
   "cell_type": "markdown",
   "id": "061398a3",
   "metadata": {},
   "source": [
    "<p>But none of its values can be modified, and its size cannot be changed:</p>"
   ]
  },
  {
   "cell_type": "code",
   "execution_count": null,
   "id": "83e61de8",
   "metadata": {},
   "outputs": [],
   "source": [
    "tuple_1[0] = 0"
   ]
  },
  {
   "cell_type": "code",
   "execution_count": null,
   "id": "8ee28ede",
   "metadata": {},
   "outputs": [],
   "source": [
    "---------------------------------------------------------------------------\n",
    "\n",
    "TypeError                                 Traceback (most recent call last)\n",
    "\n",
    "<ipython-input-3-187e83546d31> in <module>()\n",
    "----> 1 tuple_1[0] = 0\n",
    "\n",
    "\n",
    "TypeError: 'tuple' object does not support item assignment\n"
   ]
  },
  {
   "cell_type": "markdown",
   "id": "ade68561",
   "metadata": {},
   "source": [
    "<p>The <em>cultural</em> difference is more subtle (sidenote for demonstrators or people with more expertise: see <a href=\"https://nedbatchelder.com/blog/201608/lists_vs_tuples.html\">this description by Batchelder</a>). A tuple should be used when you know</p>\n",
    "<ul>\n",
    "<li>exactly how many entries you need, and</li>\n",
    "<li>what the difference in <em>meaning</em> between the entries is.</li>\n",
    "</ul>\n",
    "<p>For example, if you had a polynomial of order <span>$3$</span> with coefficients <span>$a_n$</span>, you would store the coefficients in a tuple.</p>\n",
    "<p>We have already seen tuples. When returning multiple values from a function Python uses a tuple:</p>"
   ]
  },
  {
   "cell_type": "code",
   "execution_count": null,
   "id": "96d27c35",
   "metadata": {},
   "outputs": [],
   "source": [
    "def swap(a, b):\n",
    "    return b, a\n",
    "\n",
    "values = swap(1, 2)\n",
    "print(values[0])\n",
    "values[0] = 3"
   ]
  },
  {
   "cell_type": "code",
   "execution_count": null,
   "id": "17f7adef",
   "metadata": {},
   "outputs": [],
   "source": [
    "2\n",
    "\n",
    "\n",
    "\n",
    "---------------------------------------------------------------------------\n",
    "\n",
    "TypeError                                 Traceback (most recent call last)\n",
    "\n",
    "<ipython-input-4-0cdd07c720d2> in <module>()\n",
    "      4 values = swap(1, 2)\n",
    "      5 print(values[0])\n",
    "----> 6 values[0] = 3\n",
    "\n",
    "\n",
    "TypeError: 'tuple' object does not support item assignment\n"
   ]
  },
  {
   "cell_type": "markdown",
   "id": "bb27f9b7",
   "metadata": {},
   "source": [
    "<p>Tuples should not be used just to stop somebody changing something, as it's easy to convert between lists and tuples:</p>"
   ]
  },
  {
   "cell_type": "code",
   "execution_count": null,
   "id": "acbd37b5",
   "metadata": {},
   "outputs": [],
   "source": [
    "list_1 = list(tuple_1)\n",
    "list_1[0] = 3\n",
    "tuple_2 = tuple(list_1)\n",
    "print(tuple_2)"
   ]
  },
  {
   "cell_type": "code",
   "execution_count": null,
   "id": "7b5816f0",
   "metadata": {},
   "outputs": [],
   "source": [
    "(3, 2, 3, 4, 5)\n"
   ]
  },
  {
   "cell_type": "markdown",
   "id": "5bd5b0a3",
   "metadata": {},
   "source": [
    "<section class=\"section5\"><h5>Exercise</h5>\n",
    "<p>Write a function that takes two tuples of the same length and adds the entries together, as if they were <code>numpy</code> <code>array</code>s, returning a tuple. You may want to use <code>numpy</code> <code>array</code>s for this.</p>\n",
    "</section><section class=\"section3\"><h3>Dictionaries</h3>\n",
    "<p>All our containers so far have been <em>ordered</em>: we access them using a number starting from zero. However, it doesn't always make sense for the container to be ordered. Instead we may want the entries, for example, to be named.</p>\n",
    "<p>This is where the dictionary, or <code>dict</code>, comes in. It contains many objects (usually referred to as <em>values</em>), but links each with a unique <em>key</em>. The key can be anything that doesn't change, but is usually a string, or a number.</p>\n",
    "<p>Consider the following group of functions:</p>\n",
    "</section>"
   ]
  },
  {
   "cell_type": "code",
   "execution_count": null,
   "id": "826c584d",
   "metadata": {},
   "outputs": [],
   "source": [
    "import numpy\n",
    "\n",
    "dict_1 = {\"sin\" : numpy.sin,\n",
    "          \"cos\" : numpy.cos,\n",
    "          \"log\" : numpy.log,\n",
    "          \"exp\" : numpy.exp}\n",
    "\n",
    "print(dict_1)"
   ]
  },
  {
   "cell_type": "code",
   "execution_count": null,
   "id": "da9967e9",
   "metadata": {},
   "outputs": [],
   "source": [
    "{'log': <ufunc 'log'>, 'exp': <ufunc 'exp'>, 'cos': <ufunc 'cos'>, 'sin': <ufunc 'sin'>}\n"
   ]
  },
  {
   "cell_type": "markdown",
   "id": "c39bb4e4",
   "metadata": {},
   "source": [
    "<p>The key is the string. The value is the function. We have used this example in the lab where we introduced lists, but there was no logic to the order. In this case the dictionary is not ordered: when you print the dictionary the order may be different each time, and different on different machines.</p>\n",
    "<p>To access a dictionary we use square brackets, but index using the key:</p>"
   ]
  },
  {
   "cell_type": "code",
   "execution_count": null,
   "id": "69b35048",
   "metadata": {},
   "outputs": [],
   "source": [
    "print(dict_1[\"sin\"])"
   ]
  },
  {
   "cell_type": "code",
   "execution_count": null,
   "id": "8cad0a67",
   "metadata": {},
   "outputs": [],
   "source": [
    "<ufunc 'sin'>\n"
   ]
  },
  {
   "cell_type": "markdown",
   "id": "38c2f99d",
   "metadata": {},
   "source": [
    "<p>To loop over a dictionary, we typically want to know both the key and the value. The <code>items()</code> method gives us both, and we use multiple unpacking:</p>"
   ]
  },
  {
   "cell_type": "code",
   "execution_count": null,
   "id": "346456d0",
   "metadata": {},
   "outputs": [],
   "source": [
    "for key, value in dict_1.items():\n",
    "    print(\"Key:\", key, \". Value:\", value)"
   ]
  },
  {
   "cell_type": "code",
   "execution_count": null,
   "id": "a4b8a4e0",
   "metadata": {},
   "outputs": [],
   "source": [
    "Key: log . Value: <ufunc 'log'>\n",
    "Key: exp . Value: <ufunc 'exp'>\n",
    "Key: cos . Value: <ufunc 'cos'>\n",
    "Key: sin . Value: <ufunc 'sin'>\n"
   ]
  },
  {
   "cell_type": "markdown",
   "id": "baf93f10",
   "metadata": {},
   "source": [
    "<p>We can then use this more descriptively:</p>"
   ]
  },
  {
   "cell_type": "code",
   "execution_count": null,
   "id": "89c17e8a",
   "metadata": {},
   "outputs": [],
   "source": [
    "for name, f in dict_1.items():\n",
    "    print(\"The\", name, \"function evaluated at 1 is\", f(1))"
   ]
  },
  {
   "cell_type": "code",
   "execution_count": null,
   "id": "2f80a2f5",
   "metadata": {},
   "outputs": [],
   "source": [
    "The log function evaluated at 1 is 0.0\n",
    "The exp function evaluated at 1 is 2.71828182846\n",
    "The cos function evaluated at 1 is 0.540302305868\n",
    "The sin function evaluated at 1 is 0.841470984808\n"
   ]
  },
  {
   "cell_type": "markdown",
   "id": "1e901da8",
   "metadata": {},
   "source": [
    "<p>Dictionaries are extremely useful when ascribing meaning or structure to your code. You can directly associate names or meanings to values instead of keeping two lists. Consider the use of dictionaries when describing a network, or a graph.</p>\n",
    "<section class=\"section5\"><h5>Exercise</h5>\n",
    "<p>A graph can be represented by the nodes, indexed by integers <span>$0, \\dots$</span>, and the weight (or cost) of the edge. In code we will represent this by a dictionary whose keys are the nodes connected by the edge and are values are the weights of the edge. So</p>\n",
    "</section>"
   ]
  },
  {
   "cell_type": "code",
   "execution_count": null,
   "id": "0b19617a",
   "metadata": {},
   "outputs": [],
   "source": [
    "g1 = {(0, 1) : 1, (1, 0) : 2}"
   ]
  },
  {
   "cell_type": "markdown",
   "id": "46cd4232",
   "metadata": {},
   "source": [
    "<p>is a graph with two nodes, <code>0</code> and <code>1</code>, with weight <code>1</code> going from <code>0</code> to <code>1</code> and weight <code>2</code> going from <code>1</code> to <code>0</code>.</p>\n",
    "<p>Write a function that takes the dictionary graph <code>graph</code> and a path <code>path</code>, a list of nodes visited in order, and returns the total weight or cost of the path.</p>\n",
    "<section class=\"section3\"><h3>Sets</h3>\n",
    "<p>Python has another useful container: the <em>set</em>. This is closer to the mathematical ideal of a set than a <code>list</code> is, as</p>\n",
    "<ul>\n",
    "<li>it is unordered, like a dictionary;</li>\n",
    "<li>all its entries are <em>unique</em>.</li>\n",
    "</ul>\n",
    "<p>A set is defined using curly brackets like a dictionary, but no key is given.</p>\n",
    "</section>"
   ]
  },
  {
   "cell_type": "code",
   "execution_count": null,
   "id": "f9d70340",
   "metadata": {},
   "outputs": [],
   "source": [
    "set_1 = {1, 2, 3, 1, 2, 4}\n",
    "print(set_1)"
   ]
  },
  {
   "cell_type": "code",
   "execution_count": null,
   "id": "c9a729d5",
   "metadata": {},
   "outputs": [],
   "source": [
    "{1, 2, 3, 4}\n"
   ]
  },
  {
   "cell_type": "markdown",
   "id": "5bbe66dd",
   "metadata": {},
   "source": [
    "<p>You can rapidly convert a list or a tuple to a set:</p>"
   ]
  },
  {
   "cell_type": "code",
   "execution_count": null,
   "id": "48d328ad",
   "metadata": {},
   "outputs": [],
   "source": [
    "set_2 = set(tuple_2)\n",
    "print(set_2)"
   ]
  },
  {
   "cell_type": "code",
   "execution_count": null,
   "id": "4dd0c5fa",
   "metadata": {},
   "outputs": [],
   "source": [
    "{2, 3, 4, 5}\n"
   ]
  },
  {
   "cell_type": "markdown",
   "id": "4b6fa8ae",
   "metadata": {},
   "source": [
    "<p>This removes all the duplicate entries, allowing you to rapidly count the number of unique entries of a container (using <code>len(set(...))</code>).</p>\n",
    "<p>The other advantage of sets is that it is <em>extremely</em> fast to check if an entry appears in the list. We check if an entry appears in a container using <code>in</code>:</p>"
   ]
  },
  {
   "cell_type": "code",
   "execution_count": null,
   "id": "411986fb",
   "metadata": {},
   "outputs": [],
   "source": [
    "print(1 in list_1)\n",
    "print(1 in tuple_1)\n",
    "print(1 in set_1)"
   ]
  },
  {
   "cell_type": "code",
   "execution_count": null,
   "id": "686dba5f",
   "metadata": {},
   "outputs": [],
   "source": [
    "False\n",
    "True\n",
    "True\n"
   ]
  },
  {
   "cell_type": "markdown",
   "id": "c9792359",
   "metadata": {},
   "source": [
    "<p>Whilst all work, this is much faster in the case of a <code>set</code> than for a <code>list</code> or a <code>tuple</code>.</p>\n",
    "<section class=\"section3\"><h3>Further looping with lists</h3>\n",
    "<p>We have seen two ways of looping over containers. If we just want the values in the container, we use <code>in</code> to pull those values out:</p>\n",
    "</section>"
   ]
  },
  {
   "cell_type": "code",
   "execution_count": null,
   "id": "ab3b6cbf",
   "metadata": {},
   "outputs": [],
   "source": [
    "for number in list_1:\n",
    "    print(number)"
   ]
  },
  {
   "cell_type": "code",
   "execution_count": null,
   "id": "88ecd8ad",
   "metadata": {},
   "outputs": [],
   "source": [
    "3\n",
    "2\n",
    "3\n",
    "4\n",
    "5\n"
   ]
  },
  {
   "cell_type": "markdown",
   "id": "fe9e0e44",
   "metadata": {},
   "source": [
    "<p>If we needed to use the ordering of the container, we can use the index. For this we've seen the <code>range</code> function:</p>"
   ]
  },
  {
   "cell_type": "code",
   "execution_count": null,
   "id": "fba2a774",
   "metadata": {},
   "outputs": [],
   "source": [
    "for i in range(len(tuple_1)):\n",
    "    print(tuple_1[i])"
   ]
  },
  {
   "cell_type": "code",
   "execution_count": null,
   "id": "17eaaf3f",
   "metadata": {},
   "outputs": [],
   "source": [
    "1\n",
    "2\n",
    "3\n",
    "4\n",
    "5\n"
   ]
  },
  {
   "cell_type": "markdown",
   "id": "67187360",
   "metadata": {},
   "source": [
    "<p>We can combine the safety and simplicity of getting the values with the ability to use the ordering via the index. This is particularly important if we have two lists (or similar) with the same length, and we want to set one using the other. To do this use <code>enumerate</code>:</p>"
   ]
  },
  {
   "cell_type": "code",
   "execution_count": null,
   "id": "39597631",
   "metadata": {},
   "outputs": [],
   "source": [
    "for i, number in enumerate(tuple_1):\n",
    "    list_1[i] = number\n",
    "print(list_1)"
   ]
  },
  {
   "cell_type": "code",
   "execution_count": null,
   "id": "59c8d9cf",
   "metadata": {},
   "outputs": [],
   "source": [
    "[1, 2, 3, 4, 5]\n"
   ]
  },
  {
   "cell_type": "markdown",
   "id": "78fa1f07",
   "metadata": {},
   "source": [
    "<p>The <code>enumerate</code> function returns the index into the container, <em>and also</em> the value of the element.</p>\n",
    "<p>Alternatively, if you have multiple lists (or other containers) which you want to loop through, but don't explicitly need the index, you can get the values from multiple lists using <code>zip</code>:</p>"
   ]
  },
  {
   "cell_type": "code",
   "execution_count": null,
   "id": "9e400fc1",
   "metadata": {},
   "outputs": [],
   "source": [
    "for number1, number2 in zip(tuple_1, tuple_2):\n",
    "    print(number1, number2)"
   ]
  },
  {
   "cell_type": "code",
   "execution_count": null,
   "id": "1711eaee",
   "metadata": {},
   "outputs": [],
   "source": [
    "1 3\n",
    "2 2\n",
    "3 3\n",
    "4 4\n",
    "5 5\n"
   ]
  },
  {
   "cell_type": "markdown",
   "id": "ef93a31c",
   "metadata": {},
   "source": [
    "<p>When looping over lists using more complex data structures, the <code>enumerate</code> command is particularly useful.</p>\n",
    "<section class=\"section5\"><h5>Exercise</h5>\n",
    "<p>Take two lists <code>list_1</code> and <code>list_2</code>. Using both <code>zip</code> and <code>enumerate</code> together, print <code>(index, result)</code> where <code>index</code> should count the entry into <code>list_1</code> and <code>result = list_1[index] + index * list_2[index]</code>.</p>\n",
    "</section>"
   ]
  }
 ],
 "metadata": {},
 "nbformat": 4,
 "nbformat_minor": 5
}
