{
 "cells": [
  {
   "cell_type": "markdown",
   "id": "f48ef4dd",
   "metadata": {},
   "source": [
    "<section class=\"section1\"><h1>Python lab, lecture 2</h1>\n",
    "<p>Last week we introduced the basics of doing calculations in Python, using Python packages such as <code>numpy</code> via the <code>import</code> command, and defining our own functions. This allows us to do a single calculation using the computer. In particular, we covered:\n",
    "* <code>spyder</code> basics\n",
    "* variables\n",
    "* <code>import</code>\n",
    "* the very basics of defining functions</p>\n",
    "<p>However, the power of using a computer is its ability to do many calculations rapidly (without getting bored). We need to be able to work with lots of things in one go in order to make Python do these many operations.</p>\n",
    "<section class=\"section3\"><h3>Lists</h3>\n",
    "<p>To start with, we need an object that holds many things. Mathematically, there are many such objects: sets, groups, vectors, matrices are some examples. Each of these <em>contains</em> a number of other things. For example, the simple vector <span>${\\bf v} = (0, 1, 2, 3)$</span> contains the four numbers <span>$0, 1, 2, 3$</span>.</p>\n",
    "<p>The first Python object that we'll encounter that allows us to hold many things is a <em>list</em>. Define it as:</p>\n",
    "</section></section>"
   ]
  },
  {
   "cell_type": "code",
   "execution_count": null,
   "id": "24aa919a",
   "metadata": {},
   "outputs": [],
   "source": [
    "v = [0, 1, 2, 3]\n",
    "print(v)"
   ]
  },
  {
   "cell_type": "code",
   "execution_count": null,
   "id": "07c4c60d",
   "metadata": {},
   "outputs": [],
   "source": [
    "[0, 1, 2, 3]\n"
   ]
  },
  {
   "cell_type": "markdown",
   "id": "d8f49f1b",
   "metadata": {},
   "source": [
    "<p>The square brackets <code>[]</code> say that what follows will be a list: a collection of objects. The commas separate the different objects contained within the list.</p>\n",
    "<p>In Python, a list can hold <em>anything</em>: it is like a mathematical set (but one which allows repetitions and which is ordered). For example:</p>"
   ]
  },
  {
   "cell_type": "code",
   "execution_count": null,
   "id": "46a846b5",
   "metadata": {},
   "outputs": [],
   "source": [
    "w = [0, 1.2, \"hello\", [3, 4]]\n",
    "print(w)"
   ]
  },
  {
   "cell_type": "code",
   "execution_count": null,
   "id": "6fa6cba3",
   "metadata": {},
   "outputs": [],
   "source": [
    "[0, 1.2, 'hello', [3, 4]]\n"
   ]
  },
  {
   "cell_type": "markdown",
   "id": "5af10fa0",
   "metadata": {},
   "source": [
    "<p>This list holds an integer, a real number (or at least a floating point number), a string, and another list.</p>\n",
    "<p>We can find the length of a list using <code>len</code>:</p>"
   ]
  },
  {
   "cell_type": "code",
   "execution_count": null,
   "id": "2cc3184f",
   "metadata": {},
   "outputs": [],
   "source": [
    "print(len(v))"
   ]
  },
  {
   "cell_type": "code",
   "execution_count": null,
   "id": "c41fa0e3",
   "metadata": {},
   "outputs": [],
   "source": [
    "4\n"
   ]
  },
  {
   "cell_type": "markdown",
   "id": "59ed0334",
   "metadata": {},
   "source": [
    "<p>To access individual elements of a list, use square brackets again. The elements are ordered left-to-right, <strong>and the first element has number (or index) <code>0</code>(in Python we count starting from 0!)</strong>:</p>"
   ]
  },
  {
   "cell_type": "code",
   "execution_count": null,
   "id": "e95e1e64",
   "metadata": {},
   "outputs": [],
   "source": [
    "print(v[0])\n",
    "print(v[3])\n",
    "print(w[1])\n",
    "print(w[3])"
   ]
  },
  {
   "cell_type": "code",
   "execution_count": null,
   "id": "a84cbb9a",
   "metadata": {},
   "outputs": [],
   "source": [
    "0\n",
    "3\n",
    "1.2\n",
    "[3, 4]\n"
   ]
  },
  {
   "cell_type": "markdown",
   "id": "5919806e",
   "metadata": {},
   "source": [
    "<p>If we try to access an element that isn't in the list we get an error:</p>"
   ]
  },
  {
   "cell_type": "code",
   "execution_count": null,
   "id": "56574185",
   "metadata": {},
   "outputs": [],
   "source": [
    "print(v[4])"
   ]
  },
  {
   "cell_type": "code",
   "execution_count": null,
   "id": "5261d4e1",
   "metadata": {},
   "outputs": [],
   "source": [
    "---------------------------------------------------------------------------\n",
    "\n",
    "IndexError                                Traceback (most recent call last)\n",
    "\n",
    "<ipython-input-5-6f9feae2ef3a> in <module>\n",
    "----> 1 print(v[4])\n",
    "\n",
    "\n",
    "IndexError: list index out of range\n"
   ]
  },
  {
   "cell_type": "markdown",
   "id": "31810a5f",
   "metadata": {},
   "source": [
    "<p>Notice that <code>v[4]</code> asks for the element in position 4 <code>v</code> (which would be the 5th if we counted from 1). <code>v</code> only contains <code>len(v)</code> = 4 items though.</p>\n",
    "<p>We can assign the value of elements of a list in the same way as any variable:</p>"
   ]
  },
  {
   "cell_type": "code",
   "execution_count": null,
   "id": "b3d11131",
   "metadata": {},
   "outputs": [],
   "source": [
    "v[1] = 10\n",
    "print(v)"
   ]
  },
  {
   "cell_type": "code",
   "execution_count": null,
   "id": "aaafaabc",
   "metadata": {},
   "outputs": [],
   "source": [
    "[0, 10, 2, 3]\n"
   ]
  },
  {
   "cell_type": "markdown",
   "id": "296fcb71",
   "metadata": {},
   "source": [
    "<p>We can work with multiple elements of a list at once using the <em>slicing</em> notation:</p>"
   ]
  },
  {
   "cell_type": "code",
   "execution_count": null,
   "id": "6c62e277",
   "metadata": {},
   "outputs": [],
   "source": [
    "print(v[0:2])\n",
    "print(v[:2])\n",
    "print(v[1:])\n",
    "print(v[0:4:2])\n",
    "print(v[::2])"
   ]
  },
  {
   "cell_type": "code",
   "execution_count": null,
   "id": "41bb6ad5",
   "metadata": {},
   "outputs": [],
   "source": [
    "[0, 10]\n",
    "[0, 10]\n",
    "[10, 2, 3]\n",
    "[0, 2]\n",
    "[0, 2]\n"
   ]
  },
  {
   "cell_type": "markdown",
   "id": "f6db6c31",
   "metadata": {},
   "source": [
    "<p>The notation <code>[start:end:step]</code> means to return the entries from the <code>start</code>, up to <strong>but not including</strong> the <code>end</code>, in steps of length <code>step</code>. If the <code>start</code> is not included (e.g. <code>[:2]</code>) it defaults to the start, i.e. <code>0</code>. If the <code>end</code> is not included (e.g. <code>[1:]</code>) it defaults to the end (i.e., <code>len(...)</code>). If the <code>step</code> is not included it defaults to <code>1</code>.</p>\n",
    "<p>Finally, we can use negative numbers to count from the end of the list:</p>"
   ]
  },
  {
   "cell_type": "code",
   "execution_count": null,
   "id": "dfa04e84",
   "metadata": {},
   "outputs": [],
   "source": [
    "print(v[-1])\n",
    "print(v[-2])\n",
    "print(v[-1:0:-1])"
   ]
  },
  {
   "cell_type": "code",
   "execution_count": null,
   "id": "a9683754",
   "metadata": {},
   "outputs": [],
   "source": [
    "3\n",
    "2\n",
    "[3, 2, 10]\n"
   ]
  },
  {
   "cell_type": "markdown",
   "id": "545fdf03",
   "metadata": {},
   "source": [
    "<p>We can access strings (i.e. sequences of characters) in the same way:</p>"
   ]
  },
  {
   "cell_type": "code",
   "execution_count": null,
   "id": "7b79bf69",
   "metadata": {},
   "outputs": [],
   "source": [
    "s = \"hello\"\n",
    "print(s[2:5])"
   ]
  },
  {
   "cell_type": "code",
   "execution_count": null,
   "id": "f75e728a",
   "metadata": {},
   "outputs": [],
   "source": [
    "llo\n"
   ]
  },
  {
   "cell_type": "markdown",
   "id": "2a58a00d",
   "metadata": {},
   "source": [
    "<section class=\"section5\"><h5>Exercise (not for the lab)</h5>\n",
    "<p>Write a function that takes a single string <code>s</code> as input and returns its characters in reverse order, except for the first.</p>\n",
    "</section><section class=\"section3\"><h3>Loops</h3>\n",
    "<p>We now have an object that collects lots of things together. Now we want to perform a calculation on each object in the list.</p>\n",
    "<p>Suppose we want to know <span>$x^2 \\sin(x)$</span> for every integer <span>$x$</span> from <span>$1$</span> to <span>$5$</span>.</p>\n",
    "<p>We start by <code>import</code>ing the <code>numpy</code> library to get the <span>$\\sin$</span> function:</p>\n",
    "</section>"
   ]
  },
  {
   "cell_type": "code",
   "execution_count": null,
   "id": "f0e5d0f6",
   "metadata": {},
   "outputs": [],
   "source": [
    "import numpy"
   ]
  },
  {
   "cell_type": "markdown",
   "id": "e77ef77b",
   "metadata": {},
   "source": [
    "<p>Then we would create a list representing the numbers <span>$x$</span>:</p>"
   ]
  },
  {
   "cell_type": "code",
   "execution_count": null,
   "id": "9f0db57f",
   "metadata": {},
   "outputs": [],
   "source": [
    "numbers = [1, 2, 3, 4]"
   ]
  },
  {
   "cell_type": "markdown",
   "id": "dc751de1",
   "metadata": {},
   "source": [
    "<p>Then, <strong>for each</strong> number <strong>in</strong> our list of <code>numbers</code>, we want to perform the calculation. The Python syntax for this <em>loop</em> is:</p>"
   ]
  },
  {
   "cell_type": "code",
   "execution_count": null,
   "id": "3f0d9d14",
   "metadata": {},
   "outputs": [],
   "source": [
    "for number in numbers:\n",
    "    result = number**2 * numpy.sin(number)\n",
    "    print(number, result)\n",
    "print(\"Outside the loop\")"
   ]
  },
  {
   "cell_type": "code",
   "execution_count": null,
   "id": "cc2fe5d5",
   "metadata": {},
   "outputs": [],
   "source": [
    "1 0.8414709848078965\n",
    "2 3.637189707302727\n",
    "3 1.2700800725388048\n",
    "4 -12.108839924926851\n",
    "Outside the loop\n"
   ]
  },
  {
   "cell_type": "markdown",
   "id": "1d74abbf",
   "metadata": {},
   "source": [
    "<p>The Python code says to take the list <code>numbers</code> and, one at a time, set the variable <code>number</code> equal to each element within <code>numbers</code> in order. The keyword <code>for</code> says to do it in order; the keyword <code>in</code> says to take the values from within the list.</p>\n",
    "<p>The colon <code>:</code> means that the lines that follow are to be executed every time the code goes through the loop. This is exactly the syntax as was used when defining functions.</p>\n",
    "<p>The lines to be executed are indented by four spaces. We can have many lines to be executed within the loop, as above: all must be indented. To exit the loop, stop indenting the code (as with the final <code>print</code> statement above).</p>\n",
    "<p>We can also <em>nest</em> loops. That is, we can have loops inside loops.</p>"
   ]
  },
  {
   "cell_type": "code",
   "execution_count": null,
   "id": "a585776c",
   "metadata": {},
   "outputs": [],
   "source": [
    "exponents = [2, 3, 5]\n",
    "for number in numbers:\n",
    "    print(\"Within first loop\")\n",
    "    for exponent in exponents:\n",
    "        print(number, \"to the power of\", exponent, \"is\", number**exponent)\n",
    "    print(\"Finished inner loop\")\n",
    "print(\"Finished all loops\")"
   ]
  },
  {
   "cell_type": "code",
   "execution_count": null,
   "id": "326ab534",
   "metadata": {},
   "outputs": [],
   "source": [
    "Within first loop\n",
    "1 to the power of 2 is 1\n",
    "1 to the power of 3 is 1\n",
    "1 to the power of 5 is 1\n",
    "Finished inner loop\n",
    "Within first loop\n",
    "2 to the power of 2 is 4\n",
    "2 to the power of 3 is 8\n",
    "2 to the power of 5 is 32\n",
    "Finished inner loop\n",
    "Within first loop\n",
    "3 to the power of 2 is 9\n",
    "3 to the power of 3 is 27\n",
    "3 to the power of 5 is 243\n",
    "Finished inner loop\n",
    "Within first loop\n",
    "4 to the power of 2 is 16\n",
    "4 to the power of 3 is 64\n",
    "4 to the power of 5 is 1024\n",
    "Finished inner loop\n",
    "Finished all loops\n"
   ]
  },
  {
   "cell_type": "markdown",
   "id": "9b3b32b0",
   "metadata": {},
   "source": [
    "<p>In the above we have often created a list of consecutive integers and looped over that. We can use the <code>range</code> function for this. When used within a loop, <code>range(start, end, step)</code> produces integers that run from <code>start</code> up to, <strong>but not including</strong>, the <code>end</code>, with steps of <code>step</code>. For example</p>"
   ]
  },
  {
   "cell_type": "code",
   "execution_count": null,
   "id": "06f8d7a4",
   "metadata": {},
   "outputs": [],
   "source": [
    "for number in range(1, 10, 2):\n",
    "    print(number)"
   ]
  },
  {
   "cell_type": "code",
   "execution_count": null,
   "id": "bd5332e2",
   "metadata": {},
   "outputs": [],
   "source": [
    "1\n",
    "3\n",
    "5\n",
    "7\n",
    "9\n"
   ]
  },
  {
   "cell_type": "markdown",
   "id": "936082ed",
   "metadata": {},
   "source": [
    "<section class=\"section5\"><h5>Exercise</h5>\n",
    "<p>Using nested loops, compute\n",
    "<span>$\n",
    "\\sum_{n=1}^{1000} n^{-p}\n",
    "$</span>\n",
    "for <span>$p=2, 3, 4, 5$</span>.</p>\n",
    "</section><section class=\"section3\"><h3>Conditional statements</h3>\n",
    "<p>At some point in our code, we may want to do a certain operation only if our variables satisfy a certain condition. This is done with the <code>if</code> statement. The syntax is similar to that for functions (which used the <code>def</code> keyword) and loops (which used the <code>for</code> keyword).</p>\n",
    "<p>Given a list of numbers, let us use <code>if</code> to count the occurrences of the number <code>6</code>.</p>\n",
    "</section>"
   ]
  },
  {
   "cell_type": "code",
   "execution_count": null,
   "id": "80d0e5bb",
   "metadata": {},
   "outputs": [],
   "source": [
    "list = [1, 6, 7, 2, 4, 6, 6, 7]\n",
    "counter = 0\n",
    "for number in list:\n",
    "    if number == 6:\n",
    "        counter = counter + 1\n",
    "print(\"Found\", counter, \"occurrences of the number 6\")"
   ]
  },
  {
   "cell_type": "code",
   "execution_count": null,
   "id": "8dbdf297",
   "metadata": {},
   "outputs": [],
   "source": [
    "Found 3 occurrences of the number 6\n"
   ]
  },
  {
   "cell_type": "markdown",
   "id": "3518cf11",
   "metadata": {},
   "source": [
    "<p>The instruction <code>counter = counter + 1</code> is executed only if the condition <code>v == 6</code> is satisfied. The syntax is to use the <code>if</code> keyword followed by some logical (Boolean, true of false) statement. After the condition a colon <code>:</code> is used to indicate the lines that should be executed. The lines to be executed are then indented by four spaces. Again, this follows the syntax for functions and loops. In the condition we used the <code>==</code> operator. This is different from <code>=</code>,as <code>==</code> compares two objects whereas <code>=</code> assings the value of one object to another one.</p>\n",
    "<section class=\"section5\"><h5>Exercise</h5>\n",
    "<p>Write a function <code>find_min</code> that takes a list <code>list</code> as input and returns the smallest number it contains.</p>\n",
    "</section>"
   ]
  }
 ],
 "metadata": {},
 "nbformat": 4,
 "nbformat_minor": 5
}
