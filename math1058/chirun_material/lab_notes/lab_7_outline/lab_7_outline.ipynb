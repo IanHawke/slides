{
 "cells": [
  {
   "cell_type": "markdown",
   "id": "f4e3943a",
   "metadata": {},
   "source": [
    "<section class=\"section1\"><h1>Week 7</h1>\n",
    "<p>We have introduced Python. Now we need to discuss Excel.</p>\n",
    "<section class=\"section2\"><h2>Script</h2>\n",
    "<section class=\"section3\"><h3><code>Excel</code></h3>\n",
    "<p>Excel, and spreadsheets in general, are a widely used and understood tool. Its strength is that nearly everyone has it available, and it is fast to do basic tasks with.  It's very useful for</p>\n",
    "<ul>\n",
    "<li>Distributing data</li>\n",
    "<li>Performing quick analysis</li>\n",
    "<li>Communicating general results rapidly to a broad audience</li>\n",
    "</ul>\n",
    "<p>However, there are major issues with using spreadsheets. One weakness is that it is easy to make mistakes with spreadsheets and particularly with Excel. Amongst the many examples, the <a href=\"https://en.wikipedia.org/wiki/Growth_in_a_Time_of_Debt\">Reinhart-Rogoff</a> paper on sovereign debt <a href=\"https://www.bloomberg.com/news/articles/2013-04-18/faq-reinhart-rogoff-and-the-excel-error-that-changed-history\">accidentally excluded five rows</a> from a calculation of an average, which qualitatively changed their results. It has been claimed that political austerity measures were strongly motivated by this paper, which in part relies on a spreadsheet error.</p>\n",
    "<p>We need to talk about reliable methods for getting data into, and out of, spreadsheets. We also need to talk about data organization principles: how to make it easy for others to re-use your data. Finally, we need to look at the standard Excel mathematical functions for data analysis.</p>\n",
    "<p>One advantage of Python over Excel is that, as a full-featured programming language, it can be more easily used for long and complex tasks. The disadvantage is that many people may be interested in the results, but not interested in (or have the knowledge of) the programming details required to follow the Python code. To communicate the results whilst still showing those interested the full data, it's useful to <em>programmatically</em> take results from Python into a spreadsheet.</p>\n",
    "<p>For now we will use toy data. As an example,</p>\n",
    "</section></section></section>"
   ]
  },
  {
   "cell_type": "code",
   "execution_count": null,
   "id": "371956e5",
   "metadata": {},
   "outputs": [],
   "source": [
    "import numpy as np\n",
    "x = np.linspace(1, 3)\n",
    "s = np.sin(x)"
   ]
  },
  {
   "cell_type": "markdown",
   "id": "be44d8a8",
   "metadata": {},
   "source": [
    "<p>We now want to create an Excel spreadsheet that contains this data. Working with larger datasets will follow similarly. For this we will use the <code>openpyxl</code> library.</p>"
   ]
  },
  {
   "cell_type": "code",
   "execution_count": null,
   "id": "27dec6bf",
   "metadata": {},
   "outputs": [],
   "source": [
    "import openpyxl"
   ]
  },
  {
   "cell_type": "markdown",
   "id": "9e01dc89",
   "metadata": {},
   "source": [
    "<p>We first create an Excel workbook, purely within Python.</p>"
   ]
  },
  {
   "cell_type": "code",
   "execution_count": null,
   "id": "2ee2559f",
   "metadata": {},
   "outputs": [],
   "source": [
    "wb = openpyxl.Workbook()"
   ]
  },
  {
   "cell_type": "markdown",
   "id": "432a1732",
   "metadata": {},
   "source": [
    "<p>We will then create a worksheet within the workbook. One already exists, but we will create a new worksheet with a name.</p>"
   ]
  },
  {
   "cell_type": "code",
   "execution_count": null,
   "id": "48086807",
   "metadata": {},
   "outputs": [],
   "source": [
    "ws = wb.create_sheet(\"Data\")"
   ]
  },
  {
   "cell_type": "markdown",
   "id": "8067d947",
   "metadata": {},
   "source": [
    "<p>We will then add titles in the first row, indicating what the data is going to be. These will be strings.</p>"
   ]
  },
  {
   "cell_type": "code",
   "execution_count": null,
   "id": "287e1f2f",
   "metadata": {},
   "outputs": [],
   "source": [
    "ws.cell(row=1, column=1, value=\"x\")\n",
    "ws.cell(row=1, column=2, value=\"sin(x)\")"
   ]
  },
  {
   "cell_type": "markdown",
   "id": "8d7cf58e",
   "metadata": {},
   "source": [
    "<p>We will now add the actual data. Think carefully about how the loop indexes work here.</p>"
   ]
  },
  {
   "cell_type": "code",
   "execution_count": null,
   "id": "72c8e567",
   "metadata": {},
   "outputs": [],
   "source": [
    "for i in range(len(x)):\n",
    "   ws.cell(row=2+i, column=1, value=x[i])\n",
    "   ws.cell(row=2+i, column=2, value=s[i])"
   ]
  },
  {
   "cell_type": "markdown",
   "id": "fcb8162d",
   "metadata": {},
   "source": [
    "<p>Finally, we will save the workbook.</p>"
   ]
  },
  {
   "cell_type": "code",
   "execution_count": null,
   "id": "e0f98516",
   "metadata": {},
   "outputs": [],
   "source": [
    "wb.save(filename='example.xlsx')"
   ]
  },
  {
   "cell_type": "markdown",
   "id": "bbbe6bb6",
   "metadata": {},
   "source": [
    "<p>We can now open this workbook and check. You should see two sheets within the workbook. The first is blank; the second contains the data from Python.</p>\n",
    "<section class=\"section4\"><h4>Exercise</h4>\n",
    "<p>Add more columns to the workbook, plotting different functions such as <span>$\\cos^2(x)$</span> or <span>$\\exp(-x)$</span>. Ensure there are suitable headers. How could you use dictionaries to make this more efficient?</p>\n",
    "</section><section class=\"section2\"><h2>Plotting in Excel</h2>\n",
    "<p>In the worksheet, highlight all the data including the header row. From the <code>Insert</code> menu, choose <code>Chart &gt; X Y (Scatter)</code>. You should see a chart with different coloured lines, and a legend at the bottom corresponding to the header row. However, there are no axis labels and no title.</p>\n",
    "<p>Select the chart by clicking on it. In the ribbon bar, left edge, select <code>Add Chart Element</code> and then <code>Axis Titles</code>. Use this to add axis labels.</p>\n",
    "<p>Try modifying the axes to be logarithmic using <code>Add Chart Element</code>, <code>Axes</code>, select one axis, and go through the options until it shows the logarithmic options. Once done, convert back to linear axes.</p>\n",
    "<p>By using <code>Ctrl</code> plus clicking (or right-clicking) on the chart, save it as a <code>png</code> file and a <code>pdf</code> file. We will need this to embed in reports.</p>\n",
    "<p>Now try modifying the data range so that only the first half of the points are plotted. By <code>Ctrl</code> clicking again, choose <code>Select Data...</code> and modify the range. Note that the <code>$</code> symbols fix the range: this will be important when talking about formulas later.</p>\n",
    "<p>Finally, some of our data sets now look roughly like straight lines. We want to add a trend line to measure their slope. In the ribbon menu, go to <code>Chart Design</code> and select <code>Add Chart Element, Trendline, Linear</code>. This should add the best fit line. Can you extract its slope? Can you annotate the plot with the slope?</p>\n",
    "</section>"
   ]
  }
 ],
 "metadata": {},
 "nbformat": 4,
 "nbformat_minor": 5
}
