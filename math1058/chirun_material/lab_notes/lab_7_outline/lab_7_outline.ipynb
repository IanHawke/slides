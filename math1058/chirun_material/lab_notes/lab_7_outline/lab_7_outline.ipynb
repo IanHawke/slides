{
 "cells": [
  {
   "cell_type": "markdown",
   "id": "6b36f9ba",
   "metadata": {},
   "source": [
    "<section class=\"section1\"><h1>Week 7</h1>\n",
    "<p>In previous weeks we have dealt with most of the structures we need. Now we should do some more advanced plotting.</p>\n",
    "<section class=\"section2\"><h2>Script</h2>\n",
    "<section class=\"section3\"><h3><code>networkX</code></h3>\n",
    "<p>We have seen that algorithms on graphs, such as the shortest path analysis, are important parts of Operational Research. It's useful to visualize these.</p>\n",
    "<p>First we want to consider what data structures we need in order to describe a graph. A graph is described by the set of nodes and the edges joining them. Let's consider a simple graph with three nodes <span>$1, 2, 3$</span> and two edges joining <span>$1 \\to 2$</span> and <span>$1 \\to 3$</span>:</p>\n",
    "</section></section></section>"
   ]
  },
  {
   "cell_type": "code",
   "execution_count": null,
   "id": "de59c3f7",
   "metadata": {},
   "outputs": [],
   "source": [
    "nodes = (1, 2, 3)\n",
    "edge1 = (1, 2)\n",
    "edge2 = (1, 3)\n",
    "edges = (edge1, edge2)"
   ]
  },
  {
   "cell_type": "markdown",
   "id": "2e34c8d9",
   "metadata": {},
   "source": [
    "<p>For now this is just a set of conventions: the container <code>nodes</code> contains the identifiers of the nodes, and the container <code>edges</code> contains pairs of nodes, identifying which nodes are connected by each edge.</p>\n",
    "<p>The <code>networkX</code> library allow us to combine the conventions in a single object:</p>"
   ]
  },
  {
   "cell_type": "code",
   "execution_count": null,
   "id": "41c923df",
   "metadata": {},
   "outputs": [],
   "source": [
    "import networkx"
   ]
  },
  {
   "cell_type": "code",
   "execution_count": null,
   "id": "a9672af5",
   "metadata": {},
   "outputs": [],
   "source": [
    "G = networkx.Graph()\n",
    "G.add_nodes_from(nodes)\n",
    "G.add_edges_from(edges)"
   ]
  },
  {
   "cell_type": "markdown",
   "id": "5b2f3461",
   "metadata": {},
   "source": [
    "<p>We can then plot the graph object. To do this, <code>networkX</code> uses <code>matplotlib</code> in the background, so many of the commands will be linked to <code>matplotlib</code> commands:</p>"
   ]
  },
  {
   "cell_type": "code",
   "execution_count": null,
   "id": "d65925b2",
   "metadata": {},
   "outputs": [],
   "source": [
    "%matplotlib inline"
   ]
  },
  {
   "cell_type": "code",
   "execution_count": null,
   "id": "7b8a9605",
   "metadata": {},
   "outputs": [],
   "source": [
    "from matplotlib import pyplot\n",
    "\n",
    "pyplot.figure()\n",
    "networkx.draw(G)\n",
    "pyplot.show()"
   ]
  },
  {
   "cell_type": "markdown",
   "id": "45a204ea",
   "metadata": {},
   "source": [
    "<figure class=\"figure1\" data-title=\"png\"><img alt=\"png\" src=\"data:data/png;base64,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\"/></figure><p>This isn't very helpful. We need to add the node labels:</p>"
   ]
  },
  {
   "cell_type": "code",
   "execution_count": null,
   "id": "07dd96cd",
   "metadata": {},
   "outputs": [],
   "source": [
    "pyplot.figure()\n",
    "networkx.draw(G, with_labels=True)\n",
    "pyplot.show()"
   ]
  },
  {
   "cell_type": "markdown",
   "id": "8046f815",
   "metadata": {},
   "source": [
    "<figure class=\"figure1\" data-title=\"png\"><img alt=\"png\" src=\"data:data/png;base64,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\"/></figure><p>This is more understandable. Note that the drawing order makes no use of the label information!</p>\n",
    "<p>We will often want to add additional information to the edges. For example, we may want to add a cost to move along an edge. <code>networkX</code> allows us to add general additional information to an edge, or node, using dictionaries.</p>\n",
    "<p>Let us create a new graph and add one node at a time:</p>"
   ]
  },
  {
   "cell_type": "code",
   "execution_count": null,
   "id": "d0624f80",
   "metadata": {},
   "outputs": [],
   "source": [
    "H = networkx.Graph()\n",
    "H.add_node(1, city='London')\n",
    "H.add_node(2, city='Southampton')\n",
    "H.add_node(3, city='Reading')"
   ]
  },
  {
   "cell_type": "markdown",
   "id": "98926fd9",
   "metadata": {},
   "source": [
    "<p>We can now check individual nodes and see how the additional information is stored:</p>"
   ]
  },
  {
   "cell_type": "code",
   "execution_count": null,
   "id": "a4fce627",
   "metadata": {},
   "outputs": [],
   "source": [
    "print(H.nodes)\n",
    "print(H.nodes[1])\n",
    "print(H.nodes[2]['city'])"
   ]
  },
  {
   "cell_type": "code",
   "execution_count": null,
   "id": "e9d10f83",
   "metadata": {},
   "outputs": [],
   "source": [
    "[1, 2, 3]\n",
    "{'city': 'London'}\n",
    "Southampton\n"
   ]
  },
  {
   "cell_type": "markdown",
   "id": "2ba08ee5",
   "metadata": {},
   "source": [
    "<p>The obejct <code>H.nodes</code> acts like a dictionary. Each label (here a number) is a key, giving access to additional individual node information. This information is itself a dictionary. The <code>city</code> attribute acts as a key to this dictionary in this case.</p>\n",
    "<p>We can do similar things with edges:</p>"
   ]
  },
  {
   "cell_type": "code",
   "execution_count": null,
   "id": "ce8363e3",
   "metadata": {},
   "outputs": [],
   "source": [
    "H.add_edge(1, 2, distance=79)\n",
    "H.add_edge(1, 3, distance=49)"
   ]
  },
  {
   "cell_type": "markdown",
   "id": "aaa065ca",
   "metadata": {},
   "source": [
    "<p>Now when we plot the graph, we can add in the additional information. First we need to decide on a layout; the default is <code>spring_layout</code>. That gives us the positions of the nodes, which we use when adding the labels:</p>"
   ]
  },
  {
   "cell_type": "code",
   "execution_count": null,
   "id": "d0b1ae90",
   "metadata": {},
   "outputs": [],
   "source": [
    "pyplot.figure()\n",
    "positions = networkx.spring_layout(H)\n",
    "networkx.draw(H, pos=positions, with_labels=True)\n",
    "edge_labels = networkx.get_edge_attributes(H, 'distance')\n",
    "networkx.draw_networkx_edge_labels(H, positions, edge_labels=edge_labels)\n",
    "pyplot.show()"
   ]
  },
  {
   "cell_type": "markdown",
   "id": "b5bd25e0",
   "metadata": {},
   "source": [
    "<figure class=\"figure1\" data-title=\"png\"><img alt=\"png\" src=\"data:data/png;base64,iVBORw0KGgoAAAANSUhEUgAAAb4AAAEuCAYAAADx63eqAAAAOXRFWHRTb2Z0d2FyZQBNYXRwbG90bGliIHZlcnNpb24zLjMuMiwgaHR0cHM6Ly9tYXRwbG90bGliLm9yZy8vihELAAAACXBIWXMAAAsTAAALEwEAmpwYAAAUKElEQVR4nO3df2yVhX7H8c9z+tRz2kt/ICDthFFmLbUoJPa6dP4CJBbTaLJlsLgrYEKkd1KD0WLcKLubczJMdEOD7GYN/zAdktQMd69sVH7+cRGj5YK4S2kaZWsN7VruhUNLT+npOfujUk85/X2e55zzPM/7lRgj5+njN1H8+n6ec85jRKPRqAAA8AhfqgcAACCZWHwAAE9h8QEAPIXFBwDwFBYfAMBTWHwAAE9h8QEAPIXFBwDwFBYfAMBTWHwAAE8x7f4bdPf0q6GpXc0dQQVDYeUGTJUW5GpN+TzNmuG3+28PAMAIhl3f1Xm27YreO96qEy1dkqT+cGT4tYDpU1TS8kVztGlZsZbOz7djBAAA4tiy+N4/dVFvHGxWKDyo8c5uGFLAzFBdVanWVhRZPQYAAHEsv9Q5tPTOq28gMuGx0ajUNzCoNw6elySWHwDAdpYW39m2K3q6/pT6BgZH/Hr3L95S6OJZRQZCyvjRTOVW/Klylq4acUxWZob2V1doybx8q8YBACCOpYuv+l+/1KfnO+Mub97o+h9lzvw9GWamBi63qePf/kp3rPlb+QuKfxjEkFaVzdXP1/7YqnEAAIhj2ccZunv6daKla9R7erfNWSDDzPz+rwwZMhT+3aURx0Sj0rELXbrc02/VSAAAxLHsHl9DU/u4r18+tFu9544oGu7XbXPvUtZd8WVnSGo43a6fPnqXVWMBADCCZYuvuSM44iMLt5q1apNuf/yn6v+uWaH/PScjIzPumFA4ouZL16waCQCAOJZd6gyGwhMeY/gyFJi/WIPXunXt1wfHOM+AVSMBABDHssWXG5hCPEYicff4fjhPfAkCAGAVyxZfaUGu/Gb86QZ7r6j3NycUudGnaGRQfd80qff8CQUWLI07NmD6VFqYY9VIAADEsewe3+ryefqnwy3xLxiGrv36P3X50G4pGpGZd4dmrtyo7JKKuEOjklbfP8+qkQAAiGPZ4ps9w69lJXPiPseXkZ2ngmd2THyCaEQP/8EsvrgaAGArSx9LVLO8WAEzY5qDRHT43VfU2Nho5UgAAIxg6eJbOj9fdVWlysqc2mmzMn36uz9eqvo3/1obN25UdXW1gsGglaMBACDJhgfRrq0oUl3VPcrKzJBhjH+sYQx9R2dd1T1aW1GkyspKffXVV4pGo7rvvvuoPwCA5Wx7Ht9X7Ve0+3irjl3okqGhD6ffdPN5fCsWzdGm5cWjfjF1Y2OjNm7cqFWrVumtt95Sbm6uHWMCADzGtsV30+WefjWcblfzpWsKhgaUG8hUaWGOVt8/8RPYr169qi1btqixsVH19fWqrKy0c1QAgAfYvvisQP0BAKxi+T0+O3DvDwBgFUcUXyzqDwCQCEcUXyzqDwCQCMcVXyzqDwAwVY4rvljUHwBgqhxdfLGoPwDAZDi6+GJRfwCAyXBN8cWi/gAAY3FN8cWi/gAAY3Fl8cWi/gAAsVxZfLGoPwBALNcXXyzqDwDg+uKLRf0BADxVfLGoPwDwJk8VXyzqDwC8ybPFF4v6AwDv8GzxxaL+AMA7KL5bUH8A4G4U3y2oPwBwN4pvHNQfALgPxTcO6g8A3IfimyTqDwDcgeKbJOoPANyB4psG6g8AnIvimwbqDwCci+JLEPUHAM5C8SWI+gMAZ6H4LET9AUD6o/gsRP0BQPqj+GxC/QFAeqL4bEL9AUB6oviSgPoDgPRB8SUB9QcA6YPiSzLqDwBSi+JLMuoPAFKL4ksh6g8Ako/iSyHqDwCSj+JLE9QfACQHxZcmqD8ASA6KLw1RfwBgH4ovDVF/AGAfii/NUX8AYC2KL81RfwBgLYrPQag/AEgcxecg1B8AJI7icyjqDwCmh+JzKOoPAKaH4nMB6g8AJo/ic4HY+lu3bp0GBwdHPS4SiSR5MgBIPxSfy/T19SkrK2vM13t7e7V792499dRTKi0tTeJkAJAezFQPAGuNtfRaWlq0b98+dXd366OPPtKXX36pDz74QKbJvwIAvIX/6rlca2urDhw4oNbWVpWUlOiRRx7Rt99+q9dff119fX364osvVFBQoLKyslSPCgBJweJzsYGBAW3fvl1ff/21Tp48KUl66aWXtHLlSgUCAZWXl6uyslJHjhzRc889p9ra2hRPDAD24x6fy3V2dmrDhg3q6enRQw89pPb2du3du1ePPfaYVq5cqbq6OrW0tGjr1q3au3evsrOzUz0yANiKd3W62ODgoObOnatPPvlEDzzwgHbu3KkZM2ZIku68806tW7dOkrRgwQIVFhaqs7MzleMCQFKw+FwsIyNDkUhEbW1t6u3tVU1NjZYsWSJJmjVrlmpra3XmzBm9/PLLOnv2rBYuXJjiiQHAftzjczmfz6ecnBzNnDlT27dv17Vr1yRJO3fu1K5du7Rv3z7t2bNHhw8fljT0WT+fj/8fAuBe3OPzkJ6eHtXW1mrx4sXavHmzLl68qBdffFHFxcV6++23WXoAPIHF5zEXLlzQ+vXrlZeXp4KCApWUlGjbtm2SpGg0KsMwUjwhANiLxedRTU1NKisrk9/vl8/nG156fX192rlzp2pqavjOTwCuxHUtjyovL1dWVtZw4d38s8/n0zfffMMTHwC4FsWHUfHEBwBuRfFhVDzvD4BbUXyYEPUHwE0oPkyI+gPgJhQfpoT6A+B0FB+mhPoD4HQUH6aN+gPgRBQfpo36A+BEFB8sQf0BcAqKD5ag/gA4BcUHy1F/ANIZxQfLUX8A0hnFB1tRfwDSDcUHW1F/ANINxYekof4ApAOKD0lD/QFIBxQfUoL6A5AqFB9SgvoDkCoUH1KO+gOQTBQfUo76A5BMFB/SCvUHwG4UH9IK9QfAbhQf0hb1B8AOFB/SFvUHwA4UHxyB+gNgFYoPjkD9AbAKxQfHof4AJILig+NQfwASQfHB0ag/AFNF8cHRqD8AU0XxwTWoPwCTQfHBNag/AJNB8cGVqD8AY6H44ErUH4CxUHxwPeoPQCyKD65H/QGIRfHBU6g/ABQfPIX6A0DxwbOoP8CbKD54FvUHeBPFB4j6A7yE4gNE/QFeQvEBt6D+AHej+IBbUH+Au1F8wDioP8B9KD5gHNQf4D4UHzBJ1B/gDhQfMEnUH+AOFB8wDdQf4FwUHzAN1B/gXBQfkKCp1F93T78amtrV3BFUMBRWbsBUaUGu1pTP06wZ/iRODXgXiw+wwNWrV7VlyxY1Njaqvr5elZWVI14/23ZF7x1v1YmWLklSfzgy/FrA9CkqafmiOdq0rFhL5+cncXLAe1h8gIVGq7/3T13UGwebFQoParzfbYYhBcwM1VWVam1FUdJmBryGxQdYLLb+nvmbn+vfL0p9A0OFF2z6hXrPHdGNrov60T3LNPvJl+J+PivTp7qqe1h+gE1YfIBN/qXhv/TG59dlmD/cu7t+4aRkGOr79rSiAzdGXXySlJWZof3VFVoyLz9J0wLewbs6AZt82TdbPnPkG1ayFz2o7JI/ki9r/I8/hMKD2n281c7xAM9i8QE26O7p14mWLk33cko0Kh270KXLPf2WzgWAxQfYoqGpPeFzGJIaTid+HgAjsfgAGzR3BEd8ZGE6QuGImi9ds2giADex+AAbBENhi84zYMl5APzATPUAgBvlBkb/rRWNDEo3/4hGFA3fkHwZMnwZY5wn084xAU9i8QE2KC3Ild/siLvcefVXH+rqr/YN/3Xvfx9T3kN/rvxHnok7R8D0qbQwx/ZZAa/hc3yADbp7+vXQm0cTus/nN306+epjfIcnYDHu8QE2mD3Dr2Ulc2QY0/v5aCSisvwoSw+wAYsPsEnN8mIFzNHv3U3Eb/p0+v1/UHV1tYLBoMWTAd7G4gNssnR+vuqqSpWVObXfZlmZPv3sqcU6d+ITSeJ5f4DFuMcH2CzRpzPwtHfAWhQfYLO1FUXaX12hVWVz5Td9Cpgjf9sFTJ/8pk+ryuZqf3VF3FMZKisrde7cOUnUH2AFig9Ioss9/Wo43a7mS9cUDA0oN5Cp0sIcrb5/ck9gp/6AxLH4AIcJBoPasmWLDh06NOrT3gGMj8UHOBT1B0wP9/gAh+LeHzA9FB/gAtQfMHkUH+AC1B8weRQf4DLUHzA+ig9wGeoPGB/FB7gY9QfEo/gAF6P+gHgUH+AR1B8whOIDPIL6A4ZQfIAHUX/wMooP8CDqD15G8QEeR/3Bayg+wOOoP3gNxQdgGPUHL6D4AAyj/uAFFB+AUVF/cCuKD8CoqD+4FcUHYELUH9yE4gMwIeoPbkLxAZgS6g9OR/EBmBLqD05H8QGYNuoPTkTxAZg26g9ORPEBsAT1B6eg+ABYgvqDU1B8ACxH/SGdUXwALEf9IZ1RfABsRf0h3VB8AGxF/SHdUHwAkob6Qzqg+AAkDfWHdEDxAUgJ6g+pQvEBSAnqD6lC8QFIOeoPyUTxAUg56g/JRPEBSCvUH+xG8QFIK9Qf7EbxAUhb1B/sQPEBSFvUH+xA8QFwBOoPVqH4ADgC9QerUHwAHIf6QyIoPgCOQ/0hERQfAEej/jBVFB8AR6P+MFUUHwDXoP4wGRQfANeYav0NDAwkYyykGYoPgCs1NjZq8+bNOnXqlPLz8+Nej0aj2rFjh0KhkF577bXkD4iUYfEBcK3+/n5Jkt/vH/X1jo4OvfDCCwqFQtqxY4fuvffeZI6HFOFSJwDX8vv9Yy69cDisgoICNTQ0qKysTA8++KCOHDmS5AmRCmaqBwCAZBscHJRpmgoGgzpz5oyOHj2q7du3KxKJ6PPPP1dOTo7KyspSPSZswqVOAJ71/PPPq6enR48++qiqqqq0YsUKPfHEE8PvDq2trU31iLABxQfAc5qamrRv3z599tlnOnDggIqKirRixQo9++yzqqurU0tLi7Zu3arr168rOzs71ePCYtzjA+ApH374oV555RWZpqmPP/5YRUVFun79uoqKirRu3TpJ0oIFC1RYWKjOzs4UTws7UHwAPKWrq0sbNmzQmjVr5Pf7FYlElJ2drby8PNXW1qqurk719fU6d+6cFi5cmOpxYQPu8QHwtLa2Ns2fP1+StGvXLrW1temdd97R4cOH9fDDDysSicjn4+KYm/BPE4BndXd3a8eOHXr33XclSU8++aSam5tVU1PD0nMxig+Ap124cEHr169XXl6eCgoKVFJSom3btkka+nYXSTIMI5UjwmIsPgDQ0Ds9y8rK5Pf75fP5FI1GdePGDe3Zs0fFxcWqrKxM9YiwCA0PAJLKy8uVlZU1XHeGYcjv9+vuu+/Wxo0bVV1drWAwmOIpYQUWHwDEuPWy5uOPP87z/lyGS50AMEk8788dKD4AmCSe9u4OFB8ATAP151wUHwBMA/XnXBQfACSI+nMWig8AEkT9OQvFBwAWov7SH8UHABai/tIfxQcANqH+0hPFBwA2of7SE8UHAElA/aUPig8AkoD6Sx8UHwAkGfWXWhQfACQZ9ZdaFB8ApBD1l3wUHwCkEPWXfBQfAKQJ6i85KD4ASBPUX3JQfACQhqg/+1B8AJCGqD/7UHwAkOaoP2tRfACQ5qg/a1F8AOAg1F/iKD4AcBDqL3EUHwA4FPU3PRQfADgU9Tc9FB8AuAD1N3kUHwC4APU3eRQfALgM9Tc+ig8AXIb6Gx/FBwAuRv3Fo/gAwMWov3gUHwB4BPU3hOIDAI+g/oZQfADgQV6uP4oPADzIy/VH8QGAx3mt/ig+APA4r9UfxQcAGOaF+qP4AADDvFB/FB8AYFRurT+KDwAwKrfWH8UHAJiQm+qP4gMATMhN9UfxAQCmxOn1R/EBAKbE6fVH8QEAps2J9UfxAQCmzYn1R/EBACzhlPpj8QEALBMMBrVlyxYdOnRI9fX1qqysHPf47p5+NTS1q7kjqGAorNyAqdKCXK0pn6dZM/y2zMjiAwBYbqL6O9t2Re8db9WJli5JUn84MvxawPQpKmn5ojnatKxYS+fnWzob9/gAAJYb797f+6cu6un6U/r0fKf6w5ERS0+SQt//WuNvOvV0/Sm9f+qipbNRfAAAW8XW3wM/qdU/Hv1GfQORiX/we1mZPtVV3aO1FUWWzMPiAwDYLhgMauOrf69TMypkmD/cu4uGB3S5cbdCF88oEuqRmV+omcvWK+uuH4/4+azMDO2vrtCSefkJz8KlTgCA7XJzc5X34J/JZ458w0o0MigzZ7YKfrJD81/ar/xH16rr4zcVvtI54rhQeFC7j7daMguLDwBgu+6efp1o6dKtlxh9twWU/8gzMvPnyjB8yi7+Q5l5c9XfMXLJRaPSsQtdutzTn/AsLD4AgO0amtonddxg7+808NvvdNuc3497zZDUcHpy5xkPiw8AYLvmjmDcuzdvFR0Mq/s/3tKM+1Yqc9b8uNdD4YiaL11LeBYWHwDAdsFQeNzXo9GIun/5tpRh6vbH/2Kc8wwkPAuLDwBgu9yAOeZr0WhUlw++q8HeK5rzJ1tlZIx9bG4gM+FZWHwAANuVFuTKb46+cn576D0NXG7THat/Jl/m2F9TFjB9Ki3MSXgWPscHALBdd0+/HnrzaNx9vvDV/9N3/7xBysiU4csY/vXbn6jRjMUrRhzrN306+epjCX+H59g9CQCARWbP8GtZyRx9er5Tsbll5t2hBX/5ywl/3jCkFYvmWPLF1VzqBAAkRc3yYgXMjIkPHEXAzNCm5cWWzMHiAwAkxdL5+aqrKlVW5tRWz9B3dZZa8nVlEpc6AQBJdPOLpt842KxQeFDjvcvEMIZKr66q1LIvqJZ4cwsAIAW+ar+i3cdbdexClwwNfTj9ppvP41uxaI42LS+2rPRuYvEBAFLmck+/Gk63q/nSNQVDA8oNZKq0MEer7+cJ7AAAWII3twAAPIXFBwDwFBYfAMBTWHwAAE9h8QEAPIXFBwDwFBYfAMBTWHwAAE9h8QEAPOX/Aa1hpVsiHv0iAAAAAElFTkSuQmCC\"/></figure><p>We can use similar commands to label the nodes as well as the edges:</p>"
   ]
  },
  {
   "cell_type": "code",
   "execution_count": null,
   "id": "ccc91c46",
   "metadata": {},
   "outputs": [],
   "source": [
    "pyplot.figure()\n",
    "positions = networkx.spring_layout(H)\n",
    "networkx.draw(H, pos=positions, with_labels=False)\n",
    "node_labels = networkx.get_node_attributes(H, 'city')\n",
    "edge_labels = networkx.get_edge_attributes(H, 'distance')\n",
    "networkx.draw_networkx_labels(H, positions, labels=node_labels)\n",
    "networkx.draw_networkx_edge_labels(H, positions, edge_labels=edge_labels)\n",
    "pyplot.show()"
   ]
  },
  {
   "cell_type": "markdown",
   "id": "f713d210",
   "metadata": {},
   "source": [
    "<figure class=\"figure1\" data-title=\"png\"><img alt=\"png\" src=\"data:data/png;base64,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\"/></figure><section class=\"section5\"><h5>Exercise</h5>\n",
    "<p>The distances from Southampton to various UK locations, in miles, are (see, e.g, <a href=\"http://www.driving-distances.com/uk-route-planner-mileage.php\">http://www.driving-distances.com/uk-route-planner-mileage.php</a>)</p>\n",
    "<table>\n",
    "<thead>\n",
    "<tr>\n",
    "<th>Location</th>\n",
    "<th>Miles</th>\n",
    "</tr>\n",
    "</thead>\n",
    "<tbody>\n",
    "<tr>\n",
    "<td>London</td>\n",
    "<td>79</td>\n",
    "</tr>\n",
    "<tr>\n",
    "<td>Reading</td>\n",
    "<td>47</td>\n",
    "</tr>\n",
    "<tr>\n",
    "<td>Brighton</td>\n",
    "<td>69</td>\n",
    "</tr>\n",
    "<tr>\n",
    "<td>Exeter</td>\n",
    "<td>110</td>\n",
    "</tr>\n",
    "<tr>\n",
    "<td>Salisbury</td>\n",
    "<td>23</td>\n",
    "</tr>\n",
    "<tr>\n",
    "<td>Bath</td>\n",
    "<td>64</td>\n",
    "</tr>\n",
    "</tbody>\n",
    "</table>\n",
    "<p>Construct the resulting graph.</p>\n",
    "</section>"
   ]
  }
 ],
 "metadata": {},
 "nbformat": 4,
 "nbformat_minor": 5
}
