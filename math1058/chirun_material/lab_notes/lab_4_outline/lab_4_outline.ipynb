{
 "cells": [
  {
   "cell_type": "markdown",
   "id": "1605579d",
   "metadata": {},
   "source": [
    "<section class=\"section1\"><h1>Lab Week 4</h1>\n",
    "<p>In weeks 2 and 3 we did</p>\n",
    "<ul>\n",
    "<li>lists: definition, slicing;</li>\n",
    "<li><code>for</code> loops;</li>\n",
    "<li><code>numpy</code> arrays;</li>\n",
    "<li><code>numpy</code> linear algebra operations.</li>\n",
    "</ul>\n",
    "<section class=\"section2\"><h2>Script</h2>\n",
    "<p>In previous weeks we introduced containers such as lists and <code>numpy</code> arrays. These can be used for one essential operation in Mathematics, and particularly Operational Research: ordering and sorting things.</p>\n",
    "<p>For example, let us take an <em>un-ordered</em> list:</p>\n",
    "</section></section>"
   ]
  },
  {
   "cell_type": "code",
   "execution_count": null,
   "id": "112656fc",
   "metadata": {},
   "outputs": [],
   "source": [
    "list_1 = [3, 2, 5, 1, 4]"
   ]
  },
  {
   "cell_type": "markdown",
   "id": "4de6fa33",
   "metadata": {},
   "source": [
    "<p>There are two ways that we can sort this. There is the <code>sorted</code> function:</p>"
   ]
  },
  {
   "cell_type": "code",
   "execution_count": null,
   "id": "e8cced7a",
   "metadata": {},
   "outputs": [],
   "source": [
    "print(sorted(list_1))"
   ]
  },
  {
   "cell_type": "code",
   "execution_count": null,
   "id": "a7bf57a9",
   "metadata": {},
   "outputs": [],
   "source": [
    "[1, 2, 3, 4, 5]\n"
   ]
  },
  {
   "cell_type": "markdown",
   "id": "a0e6a3ed",
   "metadata": {},
   "source": [
    "<p>This function returns a <em>new list</em>. We can check that the original list is unchanged:</p>"
   ]
  },
  {
   "cell_type": "code",
   "execution_count": null,
   "id": "4cca631b",
   "metadata": {},
   "outputs": [],
   "source": [
    "print(list_1)"
   ]
  },
  {
   "cell_type": "code",
   "execution_count": null,
   "id": "4553a343",
   "metadata": {},
   "outputs": [],
   "source": [
    "[3, 2, 5, 1, 4]\n"
   ]
  },
  {
   "cell_type": "markdown",
   "id": "e2ebe0ac",
   "metadata": {},
   "source": [
    "<p>There is also the <code>sort</code> <em>method</em>:</p>"
   ]
  },
  {
   "cell_type": "code",
   "execution_count": null,
   "id": "7c490512",
   "metadata": {},
   "outputs": [],
   "source": [
    "list_1.sort()\n",
    "print(list_1)"
   ]
  },
  {
   "cell_type": "code",
   "execution_count": null,
   "id": "c6ebd04b",
   "metadata": {},
   "outputs": [],
   "source": [
    "[1, 2, 3, 4, 5]\n"
   ]
  },
  {
   "cell_type": "markdown",
   "id": "0a4bd275",
   "metadata": {},
   "source": [
    "<p>This changes the values of the original list. It's usually slightly faster, but also usually not what we want to do.</p>\n",
    "<p>If using a <code>numpy</code> array, there are similar functions and methods:</p>"
   ]
  },
  {
   "cell_type": "code",
   "execution_count": null,
   "id": "98e21c0b",
   "metadata": {},
   "outputs": [],
   "source": [
    "import numpy"
   ]
  },
  {
   "cell_type": "code",
   "execution_count": null,
   "id": "7c439334",
   "metadata": {},
   "outputs": [],
   "source": [
    "array_1 = numpy.array([3, 2, 5, 1, 4])\n",
    "print(numpy.sort(array_1))\n",
    "print(array_1)\n",
    "array_1.sort()\n",
    "print(array_1)"
   ]
  },
  {
   "cell_type": "code",
   "execution_count": null,
   "id": "854ffaa3",
   "metadata": {},
   "outputs": [],
   "source": [
    "[1 2 3 4 5]\n",
    "[3 2 5 1 4]\n",
    "[1 2 3 4 5]\n"
   ]
  },
  {
   "cell_type": "markdown",
   "id": "ea512cf9",
   "metadata": {},
   "source": [
    "<p>The in-built functions are efficient and useful. What we want to do is to implement our own sorting algorithms to show how this can be done.</p>\n",
    "<section class=\"section3\"><h3>Unpacking and multiple assignment</h3>\n",
    "<p>We will start with a small, two-element list:</p>\n",
    "</section>"
   ]
  },
  {
   "cell_type": "code",
   "execution_count": null,
   "id": "b7428766",
   "metadata": {},
   "outputs": [],
   "source": [
    "list_1 = [2, 1]"
   ]
  },
  {
   "cell_type": "markdown",
   "id": "20fccfc2",
   "metadata": {},
   "source": [
    "<p>We want to sort it in ascending order. We see that to do this we need to switch the first (<code>0</code>) and second (<code>1</code>) entries.</p>\n",
    "<p>How would you do this?</p>\n",
    "<p>If you tried:</p>"
   ]
  },
  {
   "cell_type": "code",
   "execution_count": null,
   "id": "0ba8adbd",
   "metadata": {},
   "outputs": [],
   "source": [
    "list_1[0] = list_1[1]\n",
    "list_1[1] = list_1[0]"
   ]
  },
  {
   "cell_type": "markdown",
   "id": "4149f49a",
   "metadata": {},
   "source": [
    "<p>then it will fail:</p>"
   ]
  },
  {
   "cell_type": "code",
   "execution_count": null,
   "id": "954fadd0",
   "metadata": {},
   "outputs": [],
   "source": [
    "print(list_1)"
   ]
  },
  {
   "cell_type": "code",
   "execution_count": null,
   "id": "0dbc180e",
   "metadata": {},
   "outputs": [],
   "source": [
    "[1, 1]\n"
   ]
  },
  {
   "cell_type": "markdown",
   "id": "96e663b2",
   "metadata": {},
   "source": [
    "<p>The first assignment throws away the entry <code>2</code>, and it can't be recovered.</p>\n",
    "<p>We could use a temporary variable:</p>"
   ]
  },
  {
   "cell_type": "code",
   "execution_count": null,
   "id": "3bf82b1f",
   "metadata": {},
   "outputs": [],
   "source": [
    "list_1 = [2, 1]\n",
    "\n",
    "tmp = list_1[0]\n",
    "list_1[0] = list_1[1]\n",
    "list_1[1] = tmp\n",
    "\n",
    "print(list_1)"
   ]
  },
  {
   "cell_type": "code",
   "execution_count": null,
   "id": "f36448ff",
   "metadata": {},
   "outputs": [],
   "source": [
    "[1, 2]\n"
   ]
  },
  {
   "cell_type": "markdown",
   "id": "817cd5dc",
   "metadata": {},
   "source": [
    "<p>This works, but involves more lines of code than we would like.</p>\n",
    "<p>We can take advantage of some Python features with multiple variables. If you have multiple variables, or a container (like a list) containing multiple objects, on one side of the assignment (<code>=</code>), then Python will expand each individually.</p>\n",
    "<p>For example, we can assign to multiple variables using unpacking:</p>"
   ]
  },
  {
   "cell_type": "code",
   "execution_count": null,
   "id": "3f6b163c",
   "metadata": {},
   "outputs": [],
   "source": [
    "list_1 = [2, 1]\n",
    "\n",
    "a, b = list_1\n",
    "print(a)\n",
    "print(b)"
   ]
  },
  {
   "cell_type": "code",
   "execution_count": null,
   "id": "57aec993",
   "metadata": {},
   "outputs": [],
   "source": [
    "2\n",
    "1\n"
   ]
  },
  {
   "cell_type": "markdown",
   "id": "744cdcd5",
   "metadata": {},
   "source": [
    "<p>We can use the same variable on both sides, and Python will \"do the right thing\":</p>"
   ]
  },
  {
   "cell_type": "code",
   "execution_count": null,
   "id": "474af494",
   "metadata": {},
   "outputs": [],
   "source": [
    "b, a = a, b\n",
    "print(a)\n",
    "print(b)"
   ]
  },
  {
   "cell_type": "code",
   "execution_count": null,
   "id": "dc5aea8a",
   "metadata": {},
   "outputs": [],
   "source": [
    "1\n",
    "2\n"
   ]
  },
  {
   "cell_type": "markdown",
   "id": "3d91086d",
   "metadata": {},
   "source": [
    "<p>So we can use this to flip the entries of <code>list_1</code> as needed:</p>"
   ]
  },
  {
   "cell_type": "code",
   "execution_count": null,
   "id": "7eaeab77",
   "metadata": {},
   "outputs": [],
   "source": [
    "list_1[1], list_1[0] = list_1[0], list_1[1]\n",
    "print(list_1)"
   ]
  },
  {
   "cell_type": "code",
   "execution_count": null,
   "id": "68e8566c",
   "metadata": {},
   "outputs": [],
   "source": [
    "[1, 2]\n"
   ]
  },
  {
   "cell_type": "markdown",
   "id": "63c5516b",
   "metadata": {},
   "source": [
    "<section class=\"section5\"><h5>Exercise</h5>\n",
    "<p>Write a function <code>swap</code> that takes a list, <code>unswapped</code>, and two integers <code>i, j</code>. It should swap the <code>i</code>th and <code>j</code>th entries of the list and return the swapped list.</p>\n",
    "</section><section class=\"section3\"><h3>Conditional statements</h3>\n",
    "<p>We still need to get the computer to check when it should swap the entries in a list. That is, how do we make it do the swap <em>only if</em> a certain condition holds?</p>\n",
    "<p>This is the Python <code>if</code> statement. The syntax is similar to that for functions (which used the <code>def</code> keyword) and loops (which used the <code>for</code> keyword):</p>\n",
    "</section>"
   ]
  },
  {
   "cell_type": "code",
   "execution_count": null,
   "id": "9dada704",
   "metadata": {},
   "outputs": [],
   "source": [
    "list_1 = [2, 1]\n",
    "list_2 = [3, 4]\n",
    "\n",
    "if list_1[1] < list_1[0]:\n",
    "    print(\"Swapping entries in list 1\")\n",
    "    list_1[1], list_1[0] = list_1[0], list_1[1]\n",
    "\n",
    "if list_2[1] < list_2[0]:\n",
    "    print(\"Swapping entries in list 2\")\n",
    "    list_2[1], list_2[0] = list_2[0], list_2[1]\n",
    "\n",
    "print(list_1)\n",
    "print(list_2)"
   ]
  },
  {
   "cell_type": "code",
   "execution_count": null,
   "id": "9a113042",
   "metadata": {},
   "outputs": [],
   "source": [
    "Swapping entries in list 1\n",
    "[1, 2]\n",
    "[3, 4]\n"
   ]
  },
  {
   "cell_type": "markdown",
   "id": "8f6f4d31",
   "metadata": {},
   "source": [
    "<p>We see that <em>only the indented code</em> for <code>list_1</code> was executed. The syntax is to use the <code>if</code> keyword followed by some logical (Boolean, true of false) statement. After the condition a colon <code>:</code> is used to indicate the lines that should be executed. The lines to be executed are then indented by four spaces. Again, this follows the syntax for functions and loops.</p>\n",
    "<section class=\"section5\"><h5>Exercise</h5>\n",
    "<p>Write a function <code>max_swap</code> that takes the unswapped list, <code>unswapped</code>, and two integers <code>n</code> and <code>nmax</code>. It should compute two integers <code>child1 = 2*n+1</code> and <code>child2 = 2*(n+1)</code>, find which is the largest entry <code>unswapped[i]</code>, where <code>i</code> can be <code>n</code> or <code>child1</code> or <code>child2</code>. If the largest entry is not <code>unswapped[n]</code>, the <code>swap</code> function should be used to make it the largest. The <code>child*</code> entries should only be used if <code>child*</code> is less than <code>nmax</code>.</p>\n",
    "</section><section class=\"section5\"><h5>Exercise</h5>\n",
    "<p>The function <code>max_swap</code> is part of setting up a <em>heap</em>, as required for the <em>heap sort</em> algorithm seen in lectures. Two modifications are needed to create the heap. First, it should be called on all the entries. Second, if it swaps entries, it must call itself again, to check if any of the new children of the current maximum are larger. So write a function <code>heapify</code> that adds this one line to <code>max_swap</code>.</p>\n",
    "<p>In a heap sort, we first construct the heap. We start from the <em>middle</em> of our list, work backwards, and ensure that the children of all points in the first half of the list are smaller than their parents. With our <code>heapify</code> function, we can do that with a loop:</p>\n",
    "</section>"
   ]
  },
  {
   "cell_type": "code",
   "execution_count": null,
   "id": "613774e0",
   "metadata": {},
   "outputs": [],
   "source": [
    "list_1 = [3, 2, 5, 1, 4]\n",
    "for i in range(len(list_1)//2 - 1, -1, -1):\n",
    "    list_1 = heapify(list_1, i, len(list_1))\n",
    "print(list_1)"
   ]
  },
  {
   "cell_type": "code",
   "execution_count": null,
   "id": "a1b199fc",
   "metadata": {},
   "outputs": [],
   "source": [
    "[5, 4, 3, 1, 2]\n"
   ]
  },
  {
   "cell_type": "markdown",
   "id": "33f6b3eb",
   "metadata": {},
   "source": [
    "<p>Let us check that we have a heap. The first entry (<code>0</code>) is the largest, as required. Its children (entries <code>2 n + 1 = 1</code>, with value <code>4</code> and <code>2 (n + 1) = 2</code> with value <code>3</code>) are both smaller than it, as required. The first child has children (entries <code>2 n + 1 = 3</code>, with value <code>1</code>, and <code>2 (n + 1) = 4</code>, with value <code>2</code>) that are both smaller than it, as required. The second child has no children within the list (both <code>2 n + 1 = 5</code> and <code>2 (n + 1) = 6</code> are too large).</p>\n",
    "<p>As soon as we have a heap we can work from the end of the list to the beginning, swapping the entries as we go. We then recreate the heap, but only for the entries that haven't been swapped: that is, for the start of the array.</p>"
   ]
  },
  {
   "cell_type": "code",
   "execution_count": null,
   "id": "0dc788fb",
   "metadata": {},
   "outputs": [],
   "source": [
    "for i in range(len(list_1)-1, 0, -1):\n",
    "    list_1 = swap(list_1, i, 0)\n",
    "    list_1 = heapify(list_1, 0, i)\n",
    "print(list_1)"
   ]
  },
  {
   "cell_type": "code",
   "execution_count": null,
   "id": "69479f43",
   "metadata": {},
   "outputs": [],
   "source": [
    "[1, 2, 3, 4, 5]\n"
   ]
  },
  {
   "cell_type": "markdown",
   "id": "7771fa10",
   "metadata": {},
   "source": [
    "<section class=\"section5\"><h5>Exercise</h5>\n",
    "<p>Convert this into a <code>heap_sort</code> function that sorts a list in place.</p>\n",
    "</section><section class=\"section3\"><h3>Functions and documentation</h3>\n",
    "<p>When we defined the functions above we gave them minimal documentation. We can see this documentation on the screen using the <code>help</code> function:</p>\n",
    "</section>"
   ]
  },
  {
   "cell_type": "code",
   "execution_count": null,
   "id": "b124a738",
   "metadata": {},
   "outputs": [],
   "source": [
    "help(heap_sort)"
   ]
  },
  {
   "cell_type": "code",
   "execution_count": null,
   "id": "317d7788",
   "metadata": {},
   "outputs": [],
   "source": [
    "Help on function heap_sort in module __main__:\n",
    "\n",
    "heap_sort(unsorted)\n",
    "    The heap sort algorithm\n",
    "\n"
   ]
  },
  {
   "cell_type": "markdown",
   "id": "34c06e79",
   "metadata": {},
   "source": [
    "<p>Alternatively, in <code>spyder</code>, go to the \"Help\" pane in the top right and type <code>bubble_sort</code> into the box. The help text should appear.</p>\n",
    "<p>The documentation is needed to explain to the next person to use the function</p>\n",
    "<ul>\n",
    "<li>what it does</li>\n",
    "<li>how it does it</li>\n",
    "<li>how it should be used</li>\n",
    "<li>what values it returns.</li>\n",
    "</ul>\n",
    "<p>A function without documentation is <strong>fundamentally broken</strong>, as the next person to use it will not (easily) be able to understand it. As this person is most likely to be you, the person that wrote it, then you are helping yourself by writing proper documentation.</p>\n",
    "<p>There are various conventions for how to document functions in Python. We recommend the \"numpydoc\" convention, which is used within <code>numpy</code>. We will now improve the documentation for the <code>bubble_sort</code> function to illustrate:</p>"
   ]
  },
  {
   "cell_type": "code",
   "execution_count": null,
   "id": "ed7974de",
   "metadata": {},
   "outputs": [],
   "source": [
    "def heap_sort(unsorted):\n",
    "    \"\"\"\n",
    "    The heap sort algorithm\n",
    "\n",
    "    Parameters\n",
    "    ----------\n",
    "\n",
    "    unsorted: list of float\n",
    "        The unsorted list\n",
    "\n",
    "    Returns\n",
    "    -------\n",
    "\n",
    "    sorted: list of float\n",
    "        The sorted list (which is unsorted, sorted in place)\n",
    "\n",
    "    Notes\n",
    "    -----\n",
    "\n",
    "    This algorithm sorts the list in place, replacing the original entries.\n",
    "    The worst case speed is O(n log(n)).\n",
    "    \"\"\"\n",
    "    # Create the heap\n",
    "    for i in range(len(unsorted)//2 - 1, -1, -1):\n",
    "        unsorted = heapify(unsorted, i, len(unsorted))\n",
    "    # Flatten the heap\n",
    "    for i in range(len(unsorted)-1, 0, -1):\n",
    "        unsorted = swap(unsorted, i, 0)\n",
    "        unsorted = heapify(unsorted, 0, i)\n",
    "    return unsorted"
   ]
  },
  {
   "cell_type": "markdown",
   "id": "a288dee9",
   "metadata": {},
   "source": [
    "<p>The documentation starts with a brief description of the algorithm. There is then a section describing the input arguments, or parameters, to the function. The name of each is given, along with its expected type, and what it means. Next is a section on the variables returned from the function, using the same conventions. Finally, a notes section allows us to add more details of the algorithm, when there may be problems, references to the literature, or examples of how to use it.</p>\n",
    "<p>Check how this documentation appears using the <code>help</code> function, and also when using <code>spyder</code>'s help facility.</p>\n",
    "<section class=\"section5\"><h5>Exercise</h5>\n",
    "<p>Think of documentation like a contract. The documentation guarantees that <em>if</em> the input follows the specified form, <em>then</em> the function will return correct output in the specified form.</p>\n",
    "<p>For the <code>heap_sort</code> function, what input causes the function to fail? Test various inputs (empty lists, single values, strings, lists of lists, etc) and see what happens. How would you tighten and/or improve the documentation to make this clear?</p>\n",
    "</section>"
   ]
  }
 ],
 "metadata": {},
 "nbformat": 4,
 "nbformat_minor": 5
}
