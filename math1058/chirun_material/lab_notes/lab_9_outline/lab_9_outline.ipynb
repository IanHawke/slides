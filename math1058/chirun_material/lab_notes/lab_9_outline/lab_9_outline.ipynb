{
 "cells": [
  {
   "cell_type": "markdown",
   "id": "0211034c",
   "metadata": {},
   "source": [
    "<section class=\"section1\"><h1>Lab week 9</h1>\n",
    "<p>This builds directly on week 8.</p>\n",
    "<section class=\"section2\"><h2>Building robust functions</h2>\n",
    "<p>Constructing any mathematical algorithm is both an end in itself and a tool for future use. Being able to solve one linear programming problem using the Simplex method is good. Being able to solve any (suitable) linear programming problem using a function implementing the Simplex method allows us to ask more complicated questions. For example, how sensitive is the optimal solution to different constraints? This may be hard to answer analytically, but by calling our Simplex method function with slightly different inputs we can explore this question numerically.</p>\n",
    "<p>However, this <em>only</em> works if the function we are calling is robust. We know that Simplex \"fails\" on certain inputs (for example, when the problem is unbounded). If we accidentally pass in incorrect input (an unbounded problem, for example), or nonsense (the right inputs, but in the wrong order, for example), then we need our function to catch this error and inform us. If we don't, we might use nonsense output from the Simplex function as \"true\" results for our more complex questions.</p>\n",
    "</section><section class=\"section2\"><h2>Documentation as contract</h2>\n",
    "</section></section>"
   ]
  },
  {
   "cell_type": "code",
   "execution_count": null,
   "id": "8f74a99c",
   "metadata": {},
   "outputs": [],
   "source": [
    "import numpy as np"
   ]
  },
  {
   "cell_type": "code",
   "execution_count": null,
   "id": "62bf72a5",
   "metadata": {},
   "outputs": [],
   "source": [
    "def simplex_method(cost_coeffs, rhs_coeffs, lp_coeffs):\n",
    "    \"\"\"\n",
    "    Simplex method\n",
    "\n",
    "    Parameters\n",
    "    ----------\n",
    "    cost_coeffs : vector of float\n",
    "        Cost coefficients (appear in objective function), length nvars\n",
    "    rhs_coeffs : vector of float\n",
    "        Coefficients on RHS of inequalities, length nvars\n",
    "    lp_coeffs : array of float\n",
    "        Coefficients on LHS of inequalities, size nvars x nvars\n",
    "\n",
    "    Returns\n",
    "    -------\n",
    "    status : str\n",
    "        \"optimal\" or \"unbounded\" depending on problem.\n",
    "    z : float\n",
    "        Minimized objective function.\n",
    "    x : vector of float\n",
    "        Optimized coefficients.\n",
    "    \"\"\"\n",
    "    nvars = len(rhs_coeffs)\n",
    "    tableau = np.zeros((1+nvars, 1+2*nvars))\n",
    "    tableau[1:, 0] = rhs_coeffs\n",
    "    tableau[0, 1:nvars+1] = cost_coeffs\n",
    "    tableau[1:, 1:nvars+1] = lp_coeffs\n",
    "    tableau[1:, nvars+1:] = np.identity(nvars)\n",
    "    # Find negative cost coefficients\n",
    "    negative_cost_idx = np.nonzero(tableau[0, 1:] < 0)[0]\n",
    "    if len(negative_cost_idx) == 0:\n",
    "        return \"unbounded\", np.inf, np.zeros(nvars)\n",
    "    while len(negative_cost_idx) > 0:\n",
    "        column = negative_cost_idx[0] + 1\n",
    "        # Bland's algorithm\n",
    "        positive_tableau_idx =  np.nonzero(tableau[1:, column] > 0)[0]\n",
    "        if len(positive_tableau_idx) == 0:\n",
    "            return \"unbounded\", np.inf, np.zeros(nvars)\n",
    "        ratio = tableau[1:, 0] / tableau[1:, column]\n",
    "        row = positive_tableau_idx[np.argmin(ratio[positive_tableau_idx])] + 1\n",
    "        # Pivot\n",
    "        tableau[row, :] = tableau[row, :] / tableau[row, column]\n",
    "        for work_row in range(0, nvars+1):\n",
    "            if row == work_row:\n",
    "                continue\n",
    "            scale = tableau[work_row, column] / tableau[row, column]\n",
    "            tableau[work_row, :] = tableau[work_row, :] - scale * tableau[row, :]\n",
    "        negative_cost_idx = np.nonzero(tableau[0, 1:] < 0)[0]\n",
    "    # Check\n",
    "    negative_cost_idx = np.nonzero(tableau[0, 1:] < 0)[0]\n",
    "    z = -tableau[0, 0]\n",
    "    x =  tableau[1:, 0]\n",
    "    return \"optimal\", z, x"
   ]
  },
  {
   "cell_type": "markdown",
   "id": "cf1e3a8e",
   "metadata": {},
   "source": [
    "<p>Above is an implementation of the simplex method. For now, concentrate on the documentation. In particular, note that the inputs are <em>required</em> to be arrays, that the arrays are <em>required</em> to be floating point (real) numbers, and that the sizes of the arrays are <em>required</em> to match.</p>\n",
    "<p>What happens if we don't match the requirements? Possibly nothing bad:</p>"
   ]
  },
  {
   "cell_type": "code",
   "execution_count": null,
   "id": "5c6dc99e",
   "metadata": {},
   "outputs": [],
   "source": [
    "cost_coeffs = np.array([-1, -1])\n",
    "rhs_coeffs = np.array([4, 3])\n",
    "lp_coeffs = np.array([[2, -1], [1, 2]])\n",
    "\n",
    "print(simplex_method(cost_coeffs, rhs_coeffs, lp_coeffs))"
   ]
  },
  {
   "cell_type": "code",
   "execution_count": null,
   "id": "b400f036",
   "metadata": {},
   "outputs": [],
   "source": [
    "('optimal', -2.6, array([2.2, 0.4]))\n"
   ]
  },
  {
   "cell_type": "markdown",
   "id": "e2847c7f",
   "metadata": {},
   "source": [
    "<p>This looks like we did nothing wrong, but check the types of the numbers we passed in:</p>"
   ]
  },
  {
   "cell_type": "code",
   "execution_count": null,
   "id": "e09ca0c8",
   "metadata": {},
   "outputs": [],
   "source": [
    "print(cost_coeffs.dtype)\n",
    "print(rhs_coeffs.dtype)\n",
    "print(lp_coeffs.dtype)"
   ]
  },
  {
   "cell_type": "code",
   "execution_count": null,
   "id": "0a84aa27",
   "metadata": {},
   "outputs": [],
   "source": [
    "int64\n",
    "int64\n",
    "int64\n"
   ]
  },
  {
   "cell_type": "markdown",
   "id": "59f247a8",
   "metadata": {},
   "source": [
    "<p>We actually passed in integers rather than floats. In many (but not all!) cases this doesn't make a difference, and so failing to perfectly match the requirement is not a problem.</p>\n",
    "<p>However, in other cases it can really matter:</p>"
   ]
  },
  {
   "cell_type": "code",
   "execution_count": null,
   "id": "0eb1fab0",
   "metadata": {},
   "outputs": [],
   "source": [
    "costs_too_long = np.array([1.0, 2.0, 3.0])\n",
    "print(simplex_method(costs_too_long, rhs_coeffs, lp_coeffs))"
   ]
  },
  {
   "cell_type": "code",
   "execution_count": null,
   "id": "ad6015c1",
   "metadata": {},
   "outputs": [],
   "source": [
    "---------------------------------------------------------------------------\n",
    "\n",
    "ValueError                                Traceback (most recent call last)\n",
    "\n",
    "<ipython-input-5-fd1557774531> in <module>\n",
    "      1 costs_too_long = np.array([1.0, 2.0, 3.0])\n",
    "----> 2 print(simplex_method(costs_too_long, rhs_coeffs, lp_coeffs))\n",
    "\n",
    "\n",
    "<ipython-input-2-99868ecd8a46> in simplex_method(cost_coeffs, rhs_coeffs, lp_coeffs)\n",
    "     24     tableau = np.zeros((1+nvars, 1+2*nvars))\n",
    "     25     tableau[1:, 0] = rhs_coeffs\n",
    "---> 26     tableau[0, 1:nvars+1] = cost_coeffs\n",
    "     27     tableau[1:, 1:nvars+1] = lp_coeffs\n",
    "     28     tableau[1:, nvars+1:] = np.identity(nvars)\n",
    "\n",
    "\n",
    "ValueError: could not broadcast input array from shape (3) into shape (2)\n"
   ]
  },
  {
   "cell_type": "markdown",
   "id": "50920372",
   "metadata": {},
   "source": [
    "<p>The sizes were inconsistent, compared to the assumptions that we made within the algorithm. This leads to an error.</p>\n",
    "<p>The interpretation of this within Python is that <em>documentation is a contract</em>. The docstring of a function promises that <em>if</em> the inputs match the requirements, <em>then</em> the output will match the specifications. If the input doesn't meet requirements, then the function may <em>try</em> to produce sensible output, but may produce errors (or worse: it may produce output that looks plausible, but is wrong).</p>\n",
    "<p>Not all programming languages are as permissive as Python. Some will insist that the input matches very specific requirements and refuse to even try to compute an answer if not.</p>\n",
    "<p>Python uses what is called \"duck-typing\": if the input looks like a duck and quacks like a duck, it will be treated as a duck. In the first case above, integers (in this case) behave the same way as floats, and so can be treated as floats.</p>\n",
    "<section class=\"section1\"><h1>Trying and failing</h1>\n",
    "<p>The flip side of duck typing and the permissive Python approach is that when errors occur, as in the second case above, they can be difficult to link to the problem that caused them, and the error message can be hard to interpret.</p>\n",
    "<p>We can improve our function by <em>adding in our own error messages</em> to explicitly catch, and explain, the error when calling the function.</p>\n",
    "<p>Let's extract the key part of the function, using the \"incorrect\" inputs:</p>\n",
    "</section>"
   ]
  },
  {
   "cell_type": "code",
   "execution_count": null,
   "id": "eab980a9",
   "metadata": {},
   "outputs": [],
   "source": [
    "cost_coeffs = np.array([1.0, 2.0, 3.0])\n",
    "rhs_coeffs = np.array([4, 3])\n",
    "lp_coeffs = np.array([[2, -1], [1, 2]])\n",
    "\n",
    "nvars = len(rhs_coeffs)\n",
    "tableau = np.zeros((1+nvars, 1+2*nvars))\n",
    "tableau[1:, 0] = rhs_coeffs\n",
    "tableau[0, 1:nvars+1] = cost_coeffs"
   ]
  },
  {
   "cell_type": "code",
   "execution_count": null,
   "id": "8843a0fb",
   "metadata": {},
   "outputs": [],
   "source": [
    "---------------------------------------------------------------------------\n",
    "\n",
    "ValueError                                Traceback (most recent call last)\n",
    "\n",
    "<ipython-input-6-413a3e940c5b> in <module>\n",
    "      6 tableau = np.zeros((1+nvars, 1+2*nvars))\n",
    "      7 tableau[1:, 0] = rhs_coeffs\n",
    "----> 8 tableau[0, 1:nvars+1] = cost_coeffs\n",
    "\n",
    "\n",
    "ValueError: could not broadcast input array from shape (3) into shape (2)\n"
   ]
  },
  {
   "cell_type": "markdown",
   "id": "31d08612",
   "metadata": {},
   "source": [
    "<p>We see that we are programmatically setting up the tableau to have a specific size based on the number of equations, which is given by the number of RHS coefficients, which is given by the length of <code>rhs_coeffs</code>. However, we have <em>assumed</em> that this size, <code>nvars</code>, matches the number of variables, and hence the number of cost coefficients. We have documented this in the docstring - it is an underlying assumption in this (limited) implementation - but have not checked that it is true. When it is not true, as with this input, we get the error as the three entries in <code>cost_coeffs</code> cannot be stuffed into the two entries in that column of the <code>tableau</code>.</p>\n",
    "<p>This is, indeed, an error in the inputs: they do not match our contract. It is an error in the values of the variable <code>cost_coeffs</code>, so calling it a <code>ValueError</code> makes sense. However, the message - however correct it may be - does not immediately help us fix the problem. Now that we know what the problem is and where it comes from, we can do better, by <em>raising the error ourselves</em>.</p>\n",
    "<p>Modify the code to <em>check the inputs match the contract</em>:</p>"
   ]
  },
  {
   "cell_type": "code",
   "execution_count": null,
   "id": "fa1c96fe",
   "metadata": {},
   "outputs": [],
   "source": [
    "nvars = len(rhs_coeffs)\n",
    "tableau = np.zeros((1+nvars, 1+2*nvars))\n",
    "tableau[1:, 0] = rhs_coeffs\n",
    "if len(cost_coeffs) != nvars:\n",
    "    raise ValueError(\"The length of cost_coeffs must match the length of rhs_coeffs.\")\n",
    "tableau[0, 1:nvars+1] = cost_coeffs"
   ]
  },
  {
   "cell_type": "code",
   "execution_count": null,
   "id": "6c2c8b13",
   "metadata": {},
   "outputs": [],
   "source": [
    "---------------------------------------------------------------------------\n",
    "\n",
    "ValueError                                Traceback (most recent call last)\n",
    "\n",
    "<ipython-input-7-fc3a19c2e27b> in <module>\n",
    "      3 tableau[1:, 0] = rhs_coeffs\n",
    "      4 if len(cost_coeffs) != nvars:\n",
    "----> 5     raise ValueError(\"The length of cost_coeffs must match the length of rhs_coeffs.\")\n",
    "      6 tableau[0, 1:nvars+1] = cost_coeffs\n",
    "\n",
    "\n",
    "ValueError: The length of cost_coeffs must match the length of rhs_coeffs.\n"
   ]
  },
  {
   "cell_type": "markdown",
   "id": "5642c009",
   "metadata": {},
   "source": [
    "<p>This produces the exact same error as before, but now the error message tells the user calling the function exactly what needs to be fixed.</p>\n",
    "<p>We can use this to make our original function more robust. We can even modify the code so that we remove the need for a <code>status</code> flag. We can raise an exception if the problem is unbounded.</p>"
   ]
  },
  {
   "cell_type": "code",
   "execution_count": null,
   "id": "8982ea06",
   "metadata": {},
   "outputs": [],
   "source": [
    "def simplex_method(cost_coeffs, rhs_coeffs, lp_coeffs):\n",
    "    \"\"\"\n",
    "    Simplex method\n",
    "\n",
    "    Parameters\n",
    "    ----------\n",
    "    cost_coeffs : vector of float\n",
    "        Cost coefficients (appear in objective function), length nvars\n",
    "    rhs_coeffs : vector of float\n",
    "        Coefficients on RHS of inequalities, length nvars\n",
    "    lp_coeffs : array of float\n",
    "        Coefficients on LHS of inequalities, size nvars x nvars\n",
    "\n",
    "    Returns\n",
    "    -------\n",
    "    z : float\n",
    "        Minimized objective function.\n",
    "    x : vector of float\n",
    "        Optimized coefficients.\n",
    "    \"\"\"\n",
    "    nvars = len(rhs_coeffs)\n",
    "    tableau = np.zeros((1+nvars, 1+2*nvars))\n",
    "    tableau[1:, 0] = rhs_coeffs\n",
    "    if len(cost_coeffs) != nvars:\n",
    "        raise ValueError(\"The length of cost_coeffs must match the length of rhs_coeffs.\")\n",
    "    tableau[0, 1:nvars+1] = cost_coeffs\n",
    "    if lp_coeffs.shape != (nvars, nvars):\n",
    "        raise ValueError(\"The shape of lp_coeffs must be (n, n) to match the length (n) of rhs_coeffs.\")\n",
    "    tableau[1:, 1:nvars+1] = lp_coeffs\n",
    "    tableau[1:, nvars+1:] = np.identity(nvars)\n",
    "    # Find negative cost coefficients\n",
    "    negative_cost_idx = np.nonzero(tableau[0, 1:] < 0)[0]\n",
    "    if len(negative_cost_idx) == 0:\n",
    "        raise ValueError(\"The problem is unbounded\")\n",
    "    while len(negative_cost_idx) > 0:\n",
    "        column = negative_cost_idx[0] + 1\n",
    "        # Bland's algorithm\n",
    "        positive_tableau_idx =  np.nonzero(tableau[1:, column] > 0)[0]\n",
    "        if len(positive_tableau_idx) == 0:\n",
    "            raise ValueError(\"The problem is unbounded\")\n",
    "        ratio = tableau[1:, 0] / tableau[1:, column]\n",
    "        row = positive_tableau_idx[np.argmin(ratio[positive_tableau_idx])] + 1\n",
    "        # Pivot\n",
    "        tableau[row, :] = tableau[row, :] / tableau[row, column]\n",
    "        for work_row in range(0, nvars+1):\n",
    "            if row == work_row:\n",
    "                continue\n",
    "            scale = tableau[work_row, column] / tableau[row, column]\n",
    "            tableau[work_row, :] = tableau[work_row, :] - scale * tableau[row, :]\n",
    "        negative_cost_idx = np.nonzero(tableau[0, 1:] < 0)[0]\n",
    "    # Check\n",
    "    negative_cost_idx = np.nonzero(tableau[0, 1:] < 0)[0]\n",
    "    z = -tableau[0, 0]\n",
    "    x =  tableau[1:, 0]\n",
    "    return z, x"
   ]
  },
  {
   "cell_type": "markdown",
   "id": "9e374226",
   "metadata": {},
   "source": [
    "<p>We can check that this behaves as expected by putting in an unbounded problem:</p>"
   ]
  },
  {
   "cell_type": "code",
   "execution_count": null,
   "id": "5b09c78a",
   "metadata": {},
   "outputs": [],
   "source": [
    "cost_coeffs = np.array([-1, -1])\n",
    "rhs_coeffs = np.array([-1, -2])\n",
    "lp_coeffs = np.array([[-1, 1], [-1, -1]])\n",
    "simplex_method(cost_coeffs, rhs_coeffs, lp_coeffs)"
   ]
  },
  {
   "cell_type": "code",
   "execution_count": null,
   "id": "6f6dcfce",
   "metadata": {},
   "outputs": [],
   "source": [
    "---------------------------------------------------------------------------\n",
    "\n",
    "ValueError                                Traceback (most recent call last)\n",
    "\n",
    "<ipython-input-9-4ff0d23ee693> in <module>\n",
    "      2 rhs_coeffs = np.array([-1, -2])\n",
    "      3 lp_coeffs = np.array([[-1, 1], [-1, -1]])\n",
    "----> 4 simplex_method(cost_coeffs, rhs_coeffs, lp_coeffs)\n",
    "\n",
    "\n",
    "<ipython-input-8-432b99016f91> in simplex_method(cost_coeffs, rhs_coeffs, lp_coeffs)\n",
    "     38         positive_tableau_idx =  np.nonzero(tableau[1:, column] > 0)[0]\n",
    "     39         if len(positive_tableau_idx) == 0:\n",
    "---> 40             raise ValueError(\"The problem is unbounded\")\n",
    "     41         ratio = tableau[1:, 0] / tableau[1:, column]\n",
    "     42         row = positive_tableau_idx[np.argmin(ratio[positive_tableau_idx])] + 1\n",
    "\n",
    "\n",
    "ValueError: The problem is unbounded\n"
   ]
  },
  {
   "cell_type": "markdown",
   "id": "35ea0a06",
   "metadata": {},
   "source": [
    "<p>We now run into the issue with making better error messages: it blocks exploration. If we wanted to call the simplex method on lots of inputs, and find which was the \"best\" result, we would be stopped by the error message as soon as any case went wrong. We can see this when trying to varying the first cost coefficient in the unbounded problem:</p>"
   ]
  },
  {
   "cell_type": "code",
   "execution_count": null,
   "id": "c84b4e47",
   "metadata": {},
   "outputs": [],
   "source": [
    "costs = np.linspace(2, 0, 10)\n",
    "for cost in costs:\n",
    "    cost_coeffs = np.array([cost, -1])\n",
    "    print(simplex_method(cost_coeffs, rhs_coeffs, lp_coeffs))"
   ]
  },
  {
   "cell_type": "code",
   "execution_count": null,
   "id": "cdf14df1",
   "metadata": {},
   "outputs": [],
   "source": [
    "(1.0, array([-1., -3.]))\n",
    "(1.0, array([-1., -3.]))\n",
    "(1.0, array([-1., -3.]))\n",
    "(1.0, array([-1., -3.]))\n",
    "(1.0, array([-1., -3.]))\n",
    "\n",
    "\n",
    "\n",
    "---------------------------------------------------------------------------\n",
    "\n",
    "ValueError                                Traceback (most recent call last)\n",
    "\n",
    "<ipython-input-10-8bc09ddd2faf> in <module>\n",
    "      2 for cost in costs:\n",
    "      3     cost_coeffs = np.array([cost, -1])\n",
    "----> 4     print(simplex_method(cost_coeffs, rhs_coeffs, lp_coeffs))\n",
    "\n",
    "\n",
    "<ipython-input-8-432b99016f91> in simplex_method(cost_coeffs, rhs_coeffs, lp_coeffs)\n",
    "     38         positive_tableau_idx =  np.nonzero(tableau[1:, column] > 0)[0]\n",
    "     39         if len(positive_tableau_idx) == 0:\n",
    "---> 40             raise ValueError(\"The problem is unbounded\")\n",
    "     41         ratio = tableau[1:, 0] / tableau[1:, column]\n",
    "     42         row = positive_tableau_idx[np.argmin(ratio[positive_tableau_idx])] + 1\n",
    "\n",
    "\n",
    "ValueError: The problem is unbounded\n"
   ]
  },
  {
   "cell_type": "markdown",
   "id": "fdb99116",
   "metadata": {},
   "source": [
    "<p>However, we can get around this problem programmatically. The idea is to <em>try</em> and do a calculation. If it works, good. If not, we can decide what to do, based on the error. The Python syntax looks very much like <code>if</code>/<code>else</code> statements:</p>"
   ]
  },
  {
   "cell_type": "code",
   "execution_count": null,
   "id": "4a1431d6",
   "metadata": {},
   "outputs": [],
   "source": [
    "cost_coeffs = np.array([-1, -1])\n",
    "try:\n",
    "    simplex_method(cost_coeffs, rhs_coeffs, lp_coeffs)\n",
    "except ValueError:\n",
    "    print(\"That input does not work\")"
   ]
  },
  {
   "cell_type": "code",
   "execution_count": null,
   "id": "8a1cc0cd",
   "metadata": {},
   "outputs": [],
   "source": [
    "That input does not work\n"
   ]
  },
  {
   "cell_type": "markdown",
   "id": "c355b1f9",
   "metadata": {},
   "source": [
    "<p>This means we can complete the loop by ignoring cases where the algorithm is unbounded:</p>"
   ]
  },
  {
   "cell_type": "code",
   "execution_count": null,
   "id": "f6af07d3",
   "metadata": {},
   "outputs": [],
   "source": [
    "costs = np.linspace(2, 0, 10)\n",
    "for cost in costs:\n",
    "    cost_coeffs = np.array([cost, -1])\n",
    "    try:\n",
    "        print(cost, simplex_method(cost_coeffs, rhs_coeffs, lp_coeffs))\n",
    "    except ValueError:\n",
    "        print(\"cost\", cost, \"leads to unbounded problem\")"
   ]
  },
  {
   "cell_type": "code",
   "execution_count": null,
   "id": "d8edb4ad",
   "metadata": {},
   "outputs": [],
   "source": [
    "2.0 (1.0, array([-1., -3.]))\n",
    "1.7777777777777777 (1.0, array([-1., -3.]))\n",
    "1.5555555555555556 (1.0, array([-1., -3.]))\n",
    "1.3333333333333335 (1.0, array([-1., -3.]))\n",
    "1.1111111111111112 (1.0, array([-1., -3.]))\n",
    "cost 0.8888888888888888 leads to unbounded problem\n",
    "cost 0.6666666666666667 leads to unbounded problem\n",
    "cost 0.44444444444444464 leads to unbounded problem\n",
    "cost 0.22222222222222232 leads to unbounded problem\n",
    "cost 0.0 leads to unbounded problem\n"
   ]
  },
  {
   "cell_type": "markdown",
   "id": "0bbd638b",
   "metadata": {},
   "source": [
    "<p>There are many additional error types that can be caught and checked: one that often comes up in mathematical calculations is zero division:</p>"
   ]
  },
  {
   "cell_type": "code",
   "execution_count": null,
   "id": "a7f1ef72",
   "metadata": {},
   "outputs": [],
   "source": [
    "1/0"
   ]
  },
  {
   "cell_type": "code",
   "execution_count": null,
   "id": "d2204ac8",
   "metadata": {},
   "outputs": [],
   "source": [
    "---------------------------------------------------------------------------\n",
    "\n",
    "ZeroDivisionError                         Traceback (most recent call last)\n",
    "\n",
    "<ipython-input-13-9e1622b385b6> in <module>\n",
    "----> 1 1/0\n",
    "\n",
    "\n",
    "ZeroDivisionError: division by zero\n"
   ]
  },
  {
   "cell_type": "markdown",
   "id": "1dc7b5d4",
   "metadata": {},
   "source": [
    "<p>Exactly the same steps can be used for that case:</p>"
   ]
  },
  {
   "cell_type": "code",
   "execution_count": null,
   "id": "f4100105",
   "metadata": {},
   "outputs": [],
   "source": [
    "xs = [2, 0, -3]\n",
    "for x in xs:\n",
    "    try:\n",
    "        print(\"10 divide\", x, \"is\", 10/x)\n",
    "    except ZeroDivisionError:\n",
    "        print(\"Cannot divide by zero\")"
   ]
  },
  {
   "cell_type": "code",
   "execution_count": null,
   "id": "a75dbbad",
   "metadata": {},
   "outputs": [],
   "source": [
    "10 divide 2 is 5.0\n",
    "Cannot divide by zero\n",
    "10 divide -3 is -3.3333333333333335\n"
   ]
  },
  {
   "cell_type": "markdown",
   "id": "e5eeccff",
   "metadata": {},
   "source": [
    "<section class=\"section1\"><h1>Testing</h1>\n",
    "<p>We can make our code more robust but we need to trust that it is correct. To do this we want to test against simple cases where we know the solution and check that it is right.</p>\n",
    "<p>Note that we do not want to do this once. We have already modified our function a few times. Each time we change something we may be introducing errors. So each time we change something we want to re-run our tests to check we have not introduced a problem when trying to fix another. That means we want to make the tests as easy to run as possible.</p>\n",
    "<p>Let us first look at a \"solved\" problem, where the LP coefficients are in the form of the identity matrix, so the optimal values of the coefficients match the RHS coefficients:</p>\n",
    "</section>"
   ]
  },
  {
   "cell_type": "code",
   "execution_count": null,
   "id": "22516c1f",
   "metadata": {},
   "outputs": [],
   "source": [
    "cost_coeffs = np.array([-1, -1])\n",
    "rhs_coeffs = np.array([1, 1])\n",
    "lp_coeffs = np.array([[1, 0], [0, 1]])\n",
    "print(simplex_method(cost_coeffs, rhs_coeffs, lp_coeffs))"
   ]
  },
  {
   "cell_type": "code",
   "execution_count": null,
   "id": "c70d1d5a",
   "metadata": {},
   "outputs": [],
   "source": [
    "(-2.0, array([1., 1.]))\n",
    "\n",
    "\n",
    "<ipython-input-8-432b99016f91>:41: RuntimeWarning: divide by zero encountered in true_divide\n",
    "  ratio = tableau[1:, 0] / tableau[1:, column]\n"
   ]
  },
  {
   "cell_type": "markdown",
   "id": "8c81121b",
   "metadata": {},
   "source": [
    "<p>We knew in advance that we should have <span>${\\bf x} = (1, 1)$</span> and so <span>$z = -2$</span>. So we could check for that:</p>"
   ]
  },
  {
   "cell_type": "code",
   "execution_count": null,
   "id": "dd351af5",
   "metadata": {},
   "outputs": [],
   "source": [
    "correct_z = -2\n",
    "correct_xs = np.array([1, 1])\n",
    "z, xs = simplex_method(cost_coeffs, rhs_coeffs, lp_coeffs)\n",
    "print(\"z correct?\", z == correct_z)\n",
    "print(\"xs correct?\", xs == correct_xs)"
   ]
  },
  {
   "cell_type": "code",
   "execution_count": null,
   "id": "a55ff940",
   "metadata": {},
   "outputs": [],
   "source": [
    "z correct? True\n",
    "xs correct? [ True  True]\n",
    "\n",
    "\n",
    "<ipython-input-8-432b99016f91>:41: RuntimeWarning: divide by zero encountered in true_divide\n",
    "  ratio = tableau[1:, 0] / tableau[1:, column]\n"
   ]
  },
  {
   "cell_type": "markdown",
   "id": "65b272f3",
   "metadata": {},
   "source": [
    "<p>For the coefficient case, we do not want to look at each coefficient: we want to know that they're all correct. <code>numpy</code> allows us to check this:</p>"
   ]
  },
  {
   "cell_type": "code",
   "execution_count": null,
   "id": "e22a9c71",
   "metadata": {},
   "outputs": [],
   "source": [
    "print(\"xs correct\", np.all(xs == correct_xs))"
   ]
  },
  {
   "cell_type": "code",
   "execution_count": null,
   "id": "7c13ad72",
   "metadata": {},
   "outputs": [],
   "source": [
    "xs correct True\n"
   ]
  },
  {
   "cell_type": "markdown",
   "id": "17948f8c",
   "metadata": {},
   "source": [
    "<p>We want to turn this test into a function, so that every time we change our <code>simplex_method</code> function we can test it with one line of code. In Python, there are standard conventions for this:</p>\n",
    "<ol>\n",
    "<li>The testing function has a name starting <code>test_</code>, and typically takes no arguments;</li>\n",
    "<li>The testing function uses <code>assert</code> to check that it is giving correct results.</li>\n",
    "</ol>\n",
    "<p>Explicitly, the test above would be:</p>"
   ]
  },
  {
   "cell_type": "code",
   "execution_count": null,
   "id": "082d078d",
   "metadata": {},
   "outputs": [],
   "source": [
    "def test_simple():\n",
    "    cost_coeffs = np.array([-1, -1])\n",
    "    rhs_coeffs = np.array([1, 1])\n",
    "    lp_coeffs = np.array([[1, 0], [0, 1]])\n",
    "    correct_z = -2\n",
    "    correct_xs = np.array([1, 1])\n",
    "    z, xs = simplex_method(cost_coeffs, rhs_coeffs, lp_coeffs)\n",
    "    assert z == correct_z, \"Objective function should be -2\"\n",
    "    assert np.all(xs == correct_xs), \"Coefficients should match RHS\""
   ]
  },
  {
   "cell_type": "code",
   "execution_count": null,
   "id": "595911ba",
   "metadata": {},
   "outputs": [],
   "source": [
    "test_simple()"
   ]
  },
  {
   "cell_type": "code",
   "execution_count": null,
   "id": "5c6bc668",
   "metadata": {},
   "outputs": [],
   "source": [
    "<ipython-input-8-432b99016f91>:41: RuntimeWarning: divide by zero encountered in true_divide\n",
    "  ratio = tableau[1:, 0] / tableau[1:, column]\n"
   ]
  },
  {
   "cell_type": "markdown",
   "id": "639e67fd",
   "metadata": {},
   "source": [
    "<p>This produces no output! This is what we want: if the tests pass everything is fine and we continue. If the tests fail, we want to see that. We can check that by writing a function specifically designed to fail:</p>"
   ]
  },
  {
   "cell_type": "code",
   "execution_count": null,
   "id": "313b9589",
   "metadata": {},
   "outputs": [],
   "source": [
    "def test_simple_fails():\n",
    "    cost_coeffs = np.array([-1, -1])\n",
    "    rhs_coeffs = np.array([1, 1])\n",
    "    lp_coeffs = np.array([[1, 0], [0, 1]])\n",
    "    correct_z = -1\n",
    "    correct_xs = np.array([1, 1])\n",
    "    z, xs = simplex_method(cost_coeffs, rhs_coeffs, lp_coeffs)\n",
    "    assert z == correct_z, \"Objective function should be -2, but we are comparing to -1\"\n",
    "    assert np.all(xs == correct_xs), \"Coefficients should match RHS\"\n",
    "\n",
    "test_simple_fails()"
   ]
  },
  {
   "cell_type": "code",
   "execution_count": null,
   "id": "e8211cb1",
   "metadata": {},
   "outputs": [],
   "source": [
    "<ipython-input-8-432b99016f91>:41: RuntimeWarning: divide by zero encountered in true_divide\n",
    "  ratio = tableau[1:, 0] / tableau[1:, column]\n",
    "\n",
    "\n",
    "\n",
    "---------------------------------------------------------------------------\n",
    "\n",
    "AssertionError                            Traceback (most recent call last)\n",
    "\n",
    "<ipython-input-20-512710b47034> in <module>\n",
    "      9     assert np.all(xs == correct_xs), \"Coefficients should match RHS\"\n",
    "     10 \n",
    "---> 11 test_simple_fails()\n",
    "\n",
    "\n",
    "<ipython-input-20-512710b47034> in test_simple_fails()\n",
    "      6     correct_xs = np.array([1, 1])\n",
    "      7     z, xs = simplex_method(cost_coeffs, rhs_coeffs, lp_coeffs)\n",
    "----> 8     assert z == correct_z, \"Objective function should be -2, but we are comparing to -1\"\n",
    "      9     assert np.all(xs == correct_xs), \"Coefficients should match RHS\"\n",
    "     10 \n",
    "\n",
    "\n",
    "AssertionError: Objective function should be -2, but we are comparing to -1\n"
   ]
  },
  {
   "cell_type": "markdown",
   "id": "d23c02b6",
   "metadata": {},
   "source": [
    "<p>We can write as many tests as we like, but each should add something new: that way, if a test fails, it tells us something specific has changed in the function we are testing. Here is an example:</p>"
   ]
  },
  {
   "cell_type": "code",
   "execution_count": null,
   "id": "6c6b6948",
   "metadata": {},
   "outputs": [],
   "source": [
    "cost_coeffs = np.array([-1, -1])\n",
    "rhs_coeffs = np.array([5, -2])\n",
    "lp_coeffs = np.array([[7, -5], [5, 3]])\n",
    "\n",
    "print(simplex_method(cost_coeffs, rhs_coeffs, lp_coeffs))"
   ]
  },
  {
   "cell_type": "code",
   "execution_count": null,
   "id": "46502904",
   "metadata": {},
   "outputs": [],
   "source": [
    "(0.6666666666666667, array([ 1.66666667, -0.66666667]))\n"
   ]
  },
  {
   "cell_type": "markdown",
   "id": "4a99d30b",
   "metadata": {},
   "source": [
    "<p>We see that the results are floats, not integers, with long decimal expansions (probably representing e.g. <span>$2/3$</span> and similar). Testing these with direct equalities is dangerous:</p>"
   ]
  },
  {
   "cell_type": "code",
   "execution_count": null,
   "id": "bdb6ad39",
   "metadata": {},
   "outputs": [],
   "source": [
    "z, xs = simplex_method(cost_coeffs, rhs_coeffs, lp_coeffs)\n",
    "print(z == 2/3)\n",
    "print(xs == np.array([5/3, -2/3]))"
   ]
  },
  {
   "cell_type": "code",
   "execution_count": null,
   "id": "7c16b264",
   "metadata": {},
   "outputs": [],
   "source": [
    "False\n",
    "[False False]\n"
   ]
  },
  {
   "cell_type": "markdown",
   "id": "65cc34db",
   "metadata": {},
   "source": [
    "<p>Instead, we want to check that the results are <em>close</em> to the expected solution.</p>"
   ]
  },
  {
   "cell_type": "code",
   "execution_count": null,
   "id": "eb225a98",
   "metadata": {},
   "outputs": [],
   "source": [
    "print(np.allclose(z, 2/3))\n",
    "print(np.allclose(xs, np.array([5/3, -2/3])))"
   ]
  },
  {
   "cell_type": "code",
   "execution_count": null,
   "id": "8ae71f5e",
   "metadata": {},
   "outputs": [],
   "source": [
    "True\n",
    "True\n"
   ]
  },
  {
   "cell_type": "markdown",
   "id": "4adf37bc",
   "metadata": {},
   "source": [
    "<p>We can then build this into a test:</p>"
   ]
  },
  {
   "cell_type": "code",
   "execution_count": null,
   "id": "3e8d8bc6",
   "metadata": {},
   "outputs": [],
   "source": [
    "def test_close():\n",
    "    cost_coeffs = np.array([-1, -1])\n",
    "    rhs_coeffs = np.array([5, -2])\n",
    "    lp_coeffs = np.array([[7, -5], [5, 3]])\n",
    "    correct_z = 2/3\n",
    "    correct_xs = np.array([5/3, -2/3])\n",
    "    z, xs = simplex_method(cost_coeffs, rhs_coeffs, lp_coeffs)\n",
    "    assert np.allclose(z, correct_z), \"Objective function should be 2/3\"\n",
    "    assert np.allclose(xs, correct_xs), \"Coefficients should be 5/3, -2/3\"\n",
    "\n",
    "test_close()"
   ]
  },
  {
   "cell_type": "markdown",
   "id": "b3b0126e",
   "metadata": {},
   "source": [
    "<p>We now have two (useful) tests. Every time we modify <code>simplex_method</code> we can now check that we have not introduced a bug by running two lines of code.</p>\n",
    "<section class=\"section4\"><h4>Exercise</h4>\n",
    "<p>Move these tests into a file along with your <code>simplex_method</code> function: call this <code>simplex.py</code>.</p>\n",
    "<p>Make sure you have <a href=\"https://docs.pytest.org/en/6.2.x/\"><code>pytest</code></a> installed (it should be part of Anaconda: in a terminal type <code>import pytest</code> to check).</p>\n",
    "<p>Then <code>pytest</code> can be used to run all the tests. In a terminal, type</p>\n",
    "</section>"
   ]
  },
  {
   "cell_type": "code",
   "execution_count": null,
   "id": "850e282c",
   "metadata": {},
   "outputs": [],
   "source": [
    "import pytest\n",
    "pytest.main(['simplex.py'])"
   ]
  },
  {
   "cell_type": "markdown",
   "id": "13fe7308",
   "metadata": {},
   "source": [
    "<p>The resulting screen output should look something like:</p>"
   ]
  },
  {
   "cell_type": "code",
   "execution_count": null,
   "id": "bc732526",
   "metadata": {},
   "outputs": [],
   "source": [
    "%%bash\n",
    "============================= test session starts ==============================\n",
    "...\n",
    "collected 3 items\n",
    "\n",
    "simplex.py .F.                                                           [100%]\n",
    "\n",
    "=================================== FAILURES ===================================\n",
    "______________________________ test_simple_fails _______________________________\n",
    "\n",
    "    def test_simple_fails():\n",
    "        cost_coeffs = np.array([-1, -1])\n",
    "        rhs_coeffs = np.array([1, 1])\n",
    "        lp_coeffs = np.array([[1, 0], [0, 1]])\n",
    "        correct_z = -1\n",
    "        correct_xs = np.array([1, 1])\n",
    "        z, xs = simplex_method(cost_coeffs, rhs_coeffs, lp_coeffs)\n",
    ">       assert z == correct_z, \"Objective function should be -2, but we are comparing to -1\"\n",
    "E       AssertionError: Objective function should be -2, but we are comparing to -1\n",
    "\n",
    "simplex.py:76: AssertionError\n",
    "=============================== warnings summary ===============================\n",
    "simplex.py::test_simple\n",
    "simplex.py::test_simple_fails\n",
    "  /Users/ih3/Desktop/MATH1058/simplex.py:43: RuntimeWarning: divide by zero encountered in true_divide\n",
    "    ratio = tableau[1:, 0] / tableau[1:, column]\n",
    "\n",
    "-- Docs: https://docs.pytest.org/en/stable/warnings.html\n",
    "=========================== short test summary info ============================\n",
    "FAILED simplex.py::test_simple_fails - AssertionError: Objective function sho...\n",
    "=================== 1 failed, 2 passed, 2 warnings in 0.16s ===================="
   ]
  },
  {
   "cell_type": "markdown",
   "id": "7e321ace",
   "metadata": {},
   "source": [
    "<p>This has run all the tests for us and summarized the results. Using a test runner like <code>pytest</code> is invaluable when working with large codes, as it means every change can be automatically checked to see it hasn't broken existing code.</p>"
   ]
  }
 ],
 "metadata": {},
 "nbformat": 4,
 "nbformat_minor": 5
}
