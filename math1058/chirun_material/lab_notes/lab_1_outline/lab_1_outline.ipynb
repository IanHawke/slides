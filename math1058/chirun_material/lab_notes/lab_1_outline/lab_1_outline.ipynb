{
 "cells": [
  {
   "cell_type": "markdown",
   "id": "4abd46a3",
   "metadata": {},
   "source": [
    "<section class=\"section1\"><h1>Python lab, lecture 1</h1>\n",
    "<p>Welcome to the labs for MATH1058, Operational Research I and Mathematical Computing. We are going to introduce Python, which will accompany you throughout the module (and in the assessments!).</p>\n",
    "<p>You will need to open <code>spyder</code>. On the bench PC, go to the Start menu, All Programs, Programming Languages, Anaconda3 (64 bit), and then choose <code>spyder</code>. You may try searching for it but there may be multiple versions installed: you need to ensure that the version you use has Python version 3, not version 2.</p>\n",
    "<p>You may use your own laptop if you want. Python is free: follow the instructions on Blackboard for how to install on your own machine. This may take 15 minutes or so, so please <em>don't</em> do it right now (although you may want to download the installer on campus - it is not small).</p>\n",
    "<section class=\"section3\"><h3>First steps</h3>\n",
    "<p>Once you have opened <code>spyder</code>, we will first look at the <em>console</em> in the bottom right part of the screen. That allows us to type in Python commands and get an <em>immediate</em> response. Let's use it like a calculator:</p>\n",
    "</section></section>"
   ]
  },
  {
   "cell_type": "code",
   "execution_count": null,
   "id": "a7f6ab23",
   "metadata": {},
   "outputs": [],
   "source": [
    "1 + 1"
   ]
  },
  {
   "cell_type": "code",
   "execution_count": null,
   "id": "0f863ae0",
   "metadata": {},
   "outputs": [],
   "source": [
    "2\n",
    "\n",
    "\n"
   ]
  },
  {
   "cell_type": "code",
   "execution_count": null,
   "id": "7030830f",
   "metadata": {},
   "outputs": [],
   "source": [
    "1 / 2"
   ]
  },
  {
   "cell_type": "code",
   "execution_count": null,
   "id": "8194e58a",
   "metadata": {},
   "outputs": [],
   "source": [
    "0.5\n",
    "\n",
    "\n"
   ]
  },
  {
   "cell_type": "code",
   "execution_count": null,
   "id": "0496393e",
   "metadata": {},
   "outputs": [],
   "source": [
    "(1 + 2.3 * 4.5) / 6.7"
   ]
  },
  {
   "cell_type": "code",
   "execution_count": null,
   "id": "c014f085",
   "metadata": {},
   "outputs": [],
   "source": [
    "1.6940298507462686\n",
    "\n",
    "\n"
   ]
  },
  {
   "cell_type": "code",
   "execution_count": null,
   "id": "4b0715b8",
   "metadata": {},
   "outputs": [],
   "source": [
    "3**2"
   ]
  },
  {
   "cell_type": "code",
   "execution_count": null,
   "id": "332659ac",
   "metadata": {},
   "outputs": [],
   "source": [
    "9\n",
    "\n",
    "\n"
   ]
  },
  {
   "cell_type": "code",
   "execution_count": null,
   "id": "66c7e4a8",
   "metadata": {},
   "outputs": [],
   "source": [
    "print(\"Hello\", 1 + 2)"
   ]
  },
  {
   "cell_type": "code",
   "execution_count": null,
   "id": "f201a72e",
   "metadata": {},
   "outputs": [],
   "source": [
    "Hello 3\n"
   ]
  },
  {
   "cell_type": "markdown",
   "id": "2ac1865d",
   "metadata": {},
   "source": [
    "<p>Things to note: the <code>**</code> command raises one number to the power of another. The <code>print</code> function displays something to the screen.</p>\n",
    "<p>Using the console is fine, but has problems. We want to keep our work for future re-use. We want to systematically build up a lot of code. Neither of these is easy within the console. Instead, we can use the <em>editor</em> on the left half of the screen. This acts like a word-processor, allowing us to type in commands that we can then use or run later.</p>\n",
    "<p>In the editor, remove any existing text and type in some of the commands you've previously used:</p>"
   ]
  },
  {
   "cell_type": "code",
   "execution_count": null,
   "id": "0a6d6749",
   "metadata": {},
   "outputs": [],
   "source": [
    "1 + 1\n",
    "1 / 2\n",
    "print(\"Hello\", 1 + 2)"
   ]
  },
  {
   "cell_type": "markdown",
   "id": "fe6c8608",
   "metadata": {},
   "source": [
    "<p>Save the file in a sensible location (your filestore, or the Desktop) under the name <code>lab1.py</code>.</p>\n",
    "<p>We then want to run the commands in the file. To do this, choose \"Run\" from the Run menu, <em>or</em> press the big green play button on the toolbar, <em>or</em> press <code>F5</code>.</p>\n",
    "<p>The output you see should look like:</p>"
   ]
  },
  {
   "cell_type": "code",
   "execution_count": null,
   "id": "0386e25b",
   "metadata": {},
   "outputs": [],
   "source": [
    "1 + 1\n",
    "1 / 2\n",
    "print(\"Hello\", 1 + 2)"
   ]
  },
  {
   "cell_type": "code",
   "execution_count": null,
   "id": "732c4646",
   "metadata": {},
   "outputs": [],
   "source": [
    "Hello 3\n"
   ]
  },
  {
   "cell_type": "markdown",
   "id": "1c11d805",
   "metadata": {},
   "source": [
    "<p>This shows one key difference between files and the console: only output that is <em>explicitly</em> <code>print</code>ed appears on the screen.</p>\n",
    "<section class=\"section5\"><h5>Exercise</h5>\n",
    "<p>Break for a quick exploration. For example, explicitly compute <span>$6! = 6 \\times 5 \\times 4 \\times 3 \\times 2 \\times 1$</span> in the console. Then do the same in the editor, printing it out with explanatory text.</p>\n",
    "</section><section class=\"section3\"><h3>Variables (and tab completion)</h3>\n",
    "<section class=\"section4\"><h4>Variables</h4>\n",
    "<p>We want to be able to store results of calculations in ways we can re-use. For this we define variables:</p>\n",
    "</section></section>"
   ]
  },
  {
   "cell_type": "code",
   "execution_count": null,
   "id": "773a64d3",
   "metadata": {},
   "outputs": [],
   "source": [
    "x = 3\n",
    "print(x)"
   ]
  },
  {
   "cell_type": "code",
   "execution_count": null,
   "id": "710630d9",
   "metadata": {},
   "outputs": [],
   "source": [
    "3\n"
   ]
  },
  {
   "cell_type": "markdown",
   "id": "0c86a641",
   "metadata": {},
   "source": [
    "<p>A variable is a <em>label</em> that's put on a thing somewhere in the computer's memory. Think of it like a post-it note with <code>x</code> written on it. The above lines locate <code>3</code> in the computer's memory and attach the label <code>x</code> to it. Then, when asked to <code>print</code> the value of <code>x</code>, it <code>print</code>s the value with that label on it.</p>\n",
    "<p>In Python we can assign \"things\" of almost any type to avariable and Python doesn't care:</p>"
   ]
  },
  {
   "cell_type": "code",
   "execution_count": null,
   "id": "77baa479",
   "metadata": {},
   "outputs": [],
   "source": [
    "x = 1.2\n",
    "print(x)\n",
    "x = \"Hello\"\n",
    "print(x)"
   ]
  },
  {
   "cell_type": "code",
   "execution_count": null,
   "id": "8d5f3f15",
   "metadata": {},
   "outputs": [],
   "source": [
    "1.2\n",
    "Hello\n"
   ]
  },
  {
   "cell_type": "markdown",
   "id": "9824ded5",
   "metadata": {},
   "source": [
    "<p>This is not true in all programming languages, so take care.</p>\n",
    "<p>There are certain rules and conventions for variable names. To keep it short:</p>\n",
    "<ul>\n",
    "<li>always start with a letter;</li>\n",
    "<li>only use lower case Latin letters, or numbers, or underscores;</li>\n",
    "<li>in particular, never use spaces or hyphens (which can be interpreted as a new variable or a minus sign respectively).</li>\n",
    "</ul>\n",
    "<section class=\"section4\"><h4>Tab completion</h4>\n",
    "<p>To save time in the console you can access previous commands by pressing the \"up\" arrow cursor key. You can then edit the command you typed. To find a previous command that started with a certain letter, first type that letter and then press the \"up\" key.</p>\n",
    "<p>To save time and reduce errors in both console and editor, particularly when using long variable names, you can use the TAB key to auto-complete variable names (and later function names etc). For example, define the variable</p>\n",
    "</section>"
   ]
  },
  {
   "cell_type": "code",
   "execution_count": null,
   "id": "27db15d5",
   "metadata": {},
   "outputs": [],
   "source": [
    "width = 2"
   ]
  },
  {
   "cell_type": "markdown",
   "id": "1b51f64d",
   "metadata": {},
   "source": [
    "<p>Then type the first two (say) letters, <code>wi</code>, and press TAB. You will <em>either</em> see it automatically complete this to show <code>width</code>, or you will see a list of options starting <code>wi</code> from which you can choose.</p>\n",
    "<section class=\"section5\"><h5>Exercise</h5>\n",
    "<p>A rectangular box has width 2, height 3, and depth 2. Create a variable for each. Compute the volume of the box, assigning that to a variable. Print the result with explanatory text.</p>\n",
    "</section><section class=\"section3\"><h3>Functions and import</h3>\n",
    "<p>We won't get very far with just basic algebraic operations. We want to compute more complicated mathematical things. Let's try computing the <span>$\\sin$</span> of some number:</p>\n",
    "</section>"
   ]
  },
  {
   "cell_type": "code",
   "execution_count": null,
   "id": "7c0ba788",
   "metadata": {},
   "outputs": [],
   "source": [
    "print(sin(1))"
   ]
  },
  {
   "cell_type": "code",
   "execution_count": null,
   "id": "8f15e02e",
   "metadata": {},
   "outputs": [],
   "source": [
    "---------------------------------------------------------------------------\n",
    "\n",
    "NameError                                 Traceback (most recent call last)\n",
    "\n",
    "<ipython-input-12-40b0bf07e290> in <module>\n",
    "----> 1 print(sin(1))\n",
    "\n",
    "\n",
    "NameError: name 'sin' is not defined\n"
   ]
  },
  {
   "cell_type": "markdown",
   "id": "ee93f96b",
   "metadata": {},
   "source": [
    "<p>Python has given us an error because it doesn't know the <span>$\\sin$</span> function. The core part of Python, in fact, knows very little.</p>\n",
    "<p>We can get access to lots of additional functions (and variables, and other things) using the <code>import</code> statement. We're going to <code>import</code> the \"numerical Python\" package <code>numpy</code> that we will use often for this course. We can then <em>use</em> the contents of this package - its variables and functions - in our own code. So try:</p>"
   ]
  },
  {
   "cell_type": "code",
   "execution_count": null,
   "id": "f3173fa7",
   "metadata": {},
   "outputs": [],
   "source": [
    "import numpy\n",
    "print(numpy.sin(1))\n",
    "print(numpy.pi)"
   ]
  },
  {
   "cell_type": "code",
   "execution_count": null,
   "id": "11303463",
   "metadata": {},
   "outputs": [],
   "source": [
    "0.8414709848078965\n",
    "3.141592653589793\n"
   ]
  },
  {
   "cell_type": "markdown",
   "id": "4c3e8671",
   "metadata": {},
   "source": [
    "<p>We see that, to use anything from within the <code>numpy</code> package, we type <code>numpy</code>, then the dot or full stop, and then the name of the function (like <code>sin</code>) or variable (like <code>pi</code>) that we want to use.</p>\n",
    "<p>To call a function, like <code>print</code> or <code>numpy.sin</code>, we pass along any arguments (the thing to <code>print</code>, or the number to <code>sin</code>) within round brackets <code>()</code>. If there are multiple arguments we separate them with commas (as in the <code>print</code> examples).</p>\n",
    "<p>We can use <code>import</code> on <em>our own</em> files: it works exactly the same as on other Python packages. For example, make sure that your file <code>lab1.py</code> has the line</p>"
   ]
  },
  {
   "cell_type": "code",
   "execution_count": null,
   "id": "fb6d19e9",
   "metadata": {},
   "outputs": [],
   "source": [
    "width = 2"
   ]
  },
  {
   "cell_type": "markdown",
   "id": "8f022d71",
   "metadata": {},
   "source": [
    "<p>somewhere within it. Then open a new file and save it as <code>lab1v2.py</code>. Make sure it's saved in the same directory as <code>lab1.py</code>. In the new file type</p>"
   ]
  },
  {
   "cell_type": "code",
   "execution_count": null,
   "id": "ffe3fa33",
   "metadata": {},
   "outputs": [],
   "source": [
    "import lab1\n",
    "\n",
    "print(\"The width from lab1 is\", lab1.width)"
   ]
  },
  {
   "cell_type": "markdown",
   "id": "fbcc7740",
   "metadata": {},
   "source": [
    "<p>The output should be <code>The width from lab1 is 2</code>.</p>\n",
    "<section class=\"section4\"><h4>Tab completion again</h4>\n",
    "<p>When you <code>import</code> packages you can usefully use TAB completion to rapidly find out about its useful functions. For example, type <code>numpy.co</code> and press TAB to see its <span>$\\cos$</span> and <span>$\\cosh$</span> functions, amongst many others.</p>\n",
    "<section class=\"section5\"><h5>Exercise</h5>\n",
    "<p>Import the <code>math</code> library. Find, using the help or TAB completion, how it computes factorials, and use that to check your calculation of <span>$6!$</span>.</p>\n",
    "</section></section><section class=\"section3\"><h3>Defining your own functions</h3>\n",
    "<p>Using other people's functions is essential, but we will also want to define our own. Let us define a simple function to start:</p>\n",
    "</section>"
   ]
  },
  {
   "cell_type": "code",
   "execution_count": null,
   "id": "e2fc0f4b",
   "metadata": {},
   "outputs": [],
   "source": [
    "def my_add(a, b):\n",
    "    \"\"\"\n",
    "    Add two numbers.\n",
    "    \"\"\"\n",
    "    return a + b"
   ]
  },
  {
   "cell_type": "markdown",
   "id": "944504ca",
   "metadata": {},
   "source": [
    "<p>The Python keyword to <em>define</em> a function is <code>def</code>. The thing that comes next is the name that we will assign to the function: in this case <code>my_add</code>. As the name is a label to something that lives within the computer's memory, this should obey the same rules as variables.</p>\n",
    "<p>The arguments to the function are then a comma-separated list between round brackets <code>()</code>. This is in the same format as calling the function, but we are inventing the variable names to refer to the input within the function. So, however the user calls the function, the first argument that is passed in will be assigned the label <code>a</code> within the function itself.</p>\n",
    "<p>Finally there is a colon <code>:</code> to end the line. That says that whatever follows is the content, or body, of the function: the lines that will be executed when the function is called. All lines within the function to be executed <strong>must</strong> then be indented by four spaces. <code>spyder</code> should start doing this automatically.</p>\n",
    "<p>Note that in most programming languages (e.g. C, C++, Java) indendations <em>do not</em> carry any semantical meaning. Keep in mind that in Python <em>they do</em>!</p>\n",
    "<p>The three quotes are <em>documentation</em> for the function: they have no effect. However, <strong>from a perspective of code usability and maintainability, any undocumented function is broken</strong>. We can see the documentation by using the <code>help</code> function:</p>"
   ]
  },
  {
   "cell_type": "code",
   "execution_count": null,
   "id": "fccd67af",
   "metadata": {},
   "outputs": [],
   "source": [
    "help(my_add)"
   ]
  },
  {
   "cell_type": "code",
   "execution_count": null,
   "id": "4dcd7569",
   "metadata": {},
   "outputs": [],
   "source": [
    "Help on function my_add in module __main__:\n",
    "\n",
    "my_add(a, b)\n",
    "    Add two numbers.\n",
    "\n"
   ]
  },
  {
   "cell_type": "markdown",
   "id": "071eaa01",
   "metadata": {},
   "source": [
    "<p>We then include all the commands with the function that we want to run each time the function is called. Once we have a result that we want to send back to the place that called the function, we <code>return</code> it: this sends back the appropriate value(s).</p>\n",
    "<p>We can now call our function:</p>"
   ]
  },
  {
   "cell_type": "code",
   "execution_count": null,
   "id": "6676af14",
   "metadata": {},
   "outputs": [],
   "source": [
    "print(my_add(1, 1))\n",
    "print(my_add(1.23, 4.56))"
   ]
  },
  {
   "cell_type": "code",
   "execution_count": null,
   "id": "656a1ea0",
   "metadata": {},
   "outputs": [],
   "source": [
    "2\n",
    "5.789999999999999\n"
   ]
  },
  {
   "cell_type": "markdown",
   "id": "00a55b3b",
   "metadata": {},
   "source": [
    "<section class=\"section5\"><h5>Exercise</h5>\n",
    "<p>Define a function that computes the volume of a rectangular box with input arguments <code>width</code>, <code>height</code>, and <code>depth</code>. Check that it works as in the exercise above.</p>\n",
    "</section><section class=\"section3\"><h3>Assessed lab exercises</h3>\n",
    "<p>For future labs and for weekly work there will be exercises set. To complete those exercises you have to write functions. These will be tested <em>automatically</em>: you will provide your functions to a software system which will automatically <code>import</code> your file and call the functions within in, checking that they <code>return</code> correct output for specified input. You will need to get used to writing functions in files and testing that they work as intended.</p>\n",
    "<p><em>When you are asked to write a function that computes something in the assignments, that function must <strong>return</strong> that something, rather than just print it on screen!</em></p>\n",
    "</section>"
   ]
  }
 ],
 "metadata": {},
 "nbformat": 4,
 "nbformat_minor": 5
}
