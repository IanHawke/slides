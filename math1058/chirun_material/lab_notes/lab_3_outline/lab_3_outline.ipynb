{
 "cells": [
  {
   "cell_type": "markdown",
   "id": "7f706030",
   "metadata": {},
   "source": [
    "<section class=\"section1\"><h1>Lab week 3</h1>\n",
    "<p>In week 2 we introduced lists and looked at <code>for</code> loops.</p>\n",
    "<section class=\"section2\"><h2>Script</h2>\n",
    "<p>Last time we saw lists. A list contains many objects. Likewise, there are many mathematical things that contain many objects.</p>\n",
    "<p>Sets are one type. If you add a set to another set you get a new set containing the objects in both sets. The new set is larger (generically) than either individual set.</p>\n",
    "<p>Vectors are another type. If you add one vector to another vector you get a new vector whose components are the sum of the individual vector components. The new vector has the same size (in terms of number of components) as the individual vectors.</p>\n",
    "<p>How does a list act?</p>\n",
    "</section></section>"
   ]
  },
  {
   "cell_type": "code",
   "execution_count": null,
   "id": "2ae8683b",
   "metadata": {},
   "outputs": [],
   "source": [
    "list_1 = [1, 2]\n",
    "list_2 = [3, 4]\n",
    "print(list_1 + list_2)"
   ]
  },
  {
   "cell_type": "code",
   "execution_count": null,
   "id": "d327d1bb",
   "metadata": {},
   "outputs": [],
   "source": [
    "[1, 2, 3, 4]\n"
   ]
  },
  {
   "cell_type": "markdown",
   "id": "6ed5f54c",
   "metadata": {},
   "source": [
    "<p>A list acts like the description of a set, not like a vector.</p>\n",
    "<p>Consider what multiplying a container by a scalar number should do for a set and a vector. Then check a list:</p>"
   ]
  },
  {
   "cell_type": "code",
   "execution_count": null,
   "id": "7c2faa4b",
   "metadata": {},
   "outputs": [],
   "source": [
    "print(2 * list_1)"
   ]
  },
  {
   "cell_type": "code",
   "execution_count": null,
   "id": "109c9a62",
   "metadata": {},
   "outputs": [],
   "source": [
    "[1, 2, 1, 2]\n"
   ]
  },
  {
   "cell_type": "markdown",
   "id": "d26d1922",
   "metadata": {},
   "source": [
    "<p>Again, lists act more like sets than vectors.</p>\n",
    "<p>This is fine when we want to work with general sets. However, we will also frequently need (as in Linear Algebra) vectors, and matrices, and so on. In Python, we can use <code>numpy</code> for this: in particular we can use its <code>array</code> object. These can be created directly from lists.</p>"
   ]
  },
  {
   "cell_type": "code",
   "execution_count": null,
   "id": "9969b94d",
   "metadata": {},
   "outputs": [],
   "source": [
    "import numpy\n",
    "vector_1 = numpy.array(list_1)\n",
    "vector_2 = numpy.array(list_2)\n",
    "print(vector_1)\n",
    "print(vector_1 + vector_2)\n",
    "print(2 * vector_1)"
   ]
  },
  {
   "cell_type": "code",
   "execution_count": null,
   "id": "59318129",
   "metadata": {},
   "outputs": [],
   "source": [
    "[1 2]\n",
    "[4 6]\n",
    "[2 4]\n"
   ]
  },
  {
   "cell_type": "markdown",
   "id": "dc0096c7",
   "metadata": {},
   "source": [
    "<p>We see that an <code>array</code> is displayed much like a list (using spaces rather than commas to separate entries). However, it acts as a vector would: addition of a pair of two-dimensional vectors produces another two-dimensional vector, as does multiplication of a two-dimensional vector by a scalar.</p>\n",
    "<p>Note that the <code>len</code> function and the indexing operations act the same as on lists:</p>"
   ]
  },
  {
   "cell_type": "code",
   "execution_count": null,
   "id": "04401a91",
   "metadata": {},
   "outputs": [],
   "source": [
    "print(len(vector_1))\n",
    "print(vector_1[0])"
   ]
  },
  {
   "cell_type": "code",
   "execution_count": null,
   "id": "e696e753",
   "metadata": {},
   "outputs": [],
   "source": [
    "2\n",
    "1\n",
    "\n"
   ]
  },
  {
   "cell_type": "code",
   "execution_count": null,
   "id": "7866fa90",
   "metadata": {},
   "outputs": [],
   "source": [
    "numbers = [1, 2, 3, 4, 5]\n",
    "vector_n = numpy.array(numbers)\n",
    "print(vector_n)\n",
    "print(vector_n[-1])\n",
    "print(vector_n[1:4])"
   ]
  },
  {
   "cell_type": "code",
   "execution_count": null,
   "id": "b6a05991",
   "metadata": {},
   "outputs": [],
   "source": [
    "[1 2 3 4 5]\n",
    "5\n",
    "[2 3 4]\n"
   ]
  },
  {
   "cell_type": "markdown",
   "id": "51f0f51d",
   "metadata": {},
   "source": [
    "<p>There are some restrictions with <code>numpy</code> arrays. They are meant to represent vectors, matrices, and similar higher dimensional objects. So if you nest lists within lists you must do so consistently:</p>"
   ]
  },
  {
   "cell_type": "code",
   "execution_count": null,
   "id": "068cdf67",
   "metadata": {},
   "outputs": [],
   "source": [
    "matrix_wrong_1 = numpy.array([1, 2, [3, 4]])"
   ]
  },
  {
   "cell_type": "code",
   "execution_count": null,
   "id": "d77d68fe",
   "metadata": {},
   "outputs": [],
   "source": [
    "---------------------------------------------------------------------------\n",
    "\n",
    "ValueError                                Traceback (most recent call last)\n",
    "\n",
    "<ipython-input-6-ce621beadb7d> in <module>()\n",
    "----> 1 matrix_wrong_1 = numpy.array([1, 2, [3, 4]])\n",
    "\n",
    "\n",
    "ValueError: setting an array element with a sequence.\n",
    "\n"
   ]
  },
  {
   "cell_type": "code",
   "execution_count": null,
   "id": "8b31ebf7",
   "metadata": {},
   "outputs": [],
   "source": [
    "matrix_right_1 = numpy.array([[1, 2], [3, 4]])\n",
    "print(matrix_right_1)"
   ]
  },
  {
   "cell_type": "code",
   "execution_count": null,
   "id": "13bee707",
   "metadata": {},
   "outputs": [],
   "source": [
    "[[1 2]\n",
    " [3 4]]\n"
   ]
  },
  {
   "cell_type": "markdown",
   "id": "197bc1b6",
   "metadata": {},
   "source": [
    "<p>You should also use only a single type of object in a <code>numpy</code> <code>array</code>: do not mix numbers with strings, for example.</p>\n",
    "<p>With higher dimensional objects like matrices you can access them in two ways. Either use the \"list of lists\" approach:</p>"
   ]
  },
  {
   "cell_type": "code",
   "execution_count": null,
   "id": "668653e7",
   "metadata": {},
   "outputs": [],
   "source": [
    "print(matrix_right_1[0][0])"
   ]
  },
  {
   "cell_type": "code",
   "execution_count": null,
   "id": "4fcde04b",
   "metadata": {},
   "outputs": [],
   "source": [
    "1\n"
   ]
  },
  {
   "cell_type": "markdown",
   "id": "87a791af",
   "metadata": {},
   "source": [
    "<p>The alternative, which is preferred, is to treat it as a single object that takes multiple indexes:</p>"
   ]
  },
  {
   "cell_type": "code",
   "execution_count": null,
   "id": "e102875b",
   "metadata": {},
   "outputs": [],
   "source": [
    "print(matrix_right_1[0, 0])"
   ]
  },
  {
   "cell_type": "code",
   "execution_count": null,
   "id": "58066214",
   "metadata": {},
   "outputs": [],
   "source": [
    "1\n"
   ]
  },
  {
   "cell_type": "markdown",
   "id": "2ff62ebd",
   "metadata": {},
   "source": [
    "<p>Slicing works with higher dimensional objects:</p>"
   ]
  },
  {
   "cell_type": "code",
   "execution_count": null,
   "id": "dda10719",
   "metadata": {},
   "outputs": [],
   "source": [
    "print(matrix_right_1[:, 0])\n",
    "print(matrix_right_1[1, :])"
   ]
  },
  {
   "cell_type": "code",
   "execution_count": null,
   "id": "1b2906fb",
   "metadata": {},
   "outputs": [],
   "source": [
    "[1 3]\n",
    "[3 4]\n"
   ]
  },
  {
   "cell_type": "markdown",
   "id": "d6c43a4f",
   "metadata": {},
   "source": [
    "<p>There are a number of utility functions for creating matrices:</p>"
   ]
  },
  {
   "cell_type": "code",
   "execution_count": null,
   "id": "e4ed45ec",
   "metadata": {},
   "outputs": [],
   "source": [
    "print(numpy.ones(3))\n",
    "print(numpy.ones([2, 2]))\n",
    "print(numpy.zeros([2, 2]))\n",
    "print(numpy.identity(3))\n",
    "print(numpy.random.rand(2, 2))"
   ]
  },
  {
   "cell_type": "code",
   "execution_count": null,
   "id": "721b32f9",
   "metadata": {},
   "outputs": [],
   "source": [
    "[ 1.  1.  1.]\n",
    "[[ 1.  1.]\n",
    " [ 1.  1.]]\n",
    "[[ 0.  0.]\n",
    " [ 0.  0.]]\n",
    "[[ 1.  0.  0.]\n",
    " [ 0.  1.  0.]\n",
    " [ 0.  0.  1.]]\n",
    "[[ 0.11645041  0.82370944]\n",
    " [ 0.69588563  0.87133502]]\n"
   ]
  },
  {
   "cell_type": "markdown",
   "id": "957dc2fa",
   "metadata": {},
   "source": [
    "<p>Note that the conventions of the functions are not always consistent.</p>\n",
    "<section class=\"section5\"><h5>Exercise</h5>\n",
    "<p>In the Gaussian Elimination algorithm a matrix (or augmented matrix) is reduced to triangular form by subtracting rows from each other. Write a function <code>row_elimination</code> that takes a matrix <code>A</code> and two row numbers <code>r1</code> and <code>r2</code>. It should return the matrix <code>A</code> with <span>$\\epsilon \\times$</span>\n",
    "<code>r1</code> subtracted from row <code>r2</code>. Here <code>epsilon</code> should make the matrix entry <span>$a_{r_2, r_1} \\to 0$</span>: that is,\n",
    "<span>$\n",
    "  \\epsilon = \\frac{a_{r_2, r_1}}{a_{r_1, r_1}}.\n",
    "$</span>\n",
    "</p>\n",
    "<p>Check on the matrix\n",
    "<span>$\n",
    "A = \\begin{pmatrix}\n",
    "1 &amp; 4 &amp; 3 \\\\\n",
    "2 &amp; -7 &amp; 5 \\\\\n",
    "1 &amp; 2 &amp; 6\n",
    "\\end{pmatrix}.\n",
    "$</span>\n",
    "Can you use or extend your function to write a function that takes <code>A</code> and returns the triangular form?</p>\n",
    "<p>The <code>numpy</code> package also contains a lot of useful Linear Algebra functions in its <code>linalg</code> subpackage. For example, matrix multiplication and dot products:</p>\n",
    "</section>"
   ]
  },
  {
   "cell_type": "code",
   "execution_count": null,
   "id": "d125a61a",
   "metadata": {},
   "outputs": [],
   "source": [
    "A = numpy.array([[1, 2, 3], [4, 5, 6], [7, 8, 0]])\n",
    "B = numpy.array([[7, 3, 1], [6, 1, 2], [3, 5, 2]])\n",
    "d = numpy.array([5, 3, 1])\n",
    "\n",
    "print(numpy.dot(A, B))\n",
    "print(numpy.dot(A, d))\n",
    "print(numpy.dot(d, d))"
   ]
  },
  {
   "cell_type": "code",
   "execution_count": null,
   "id": "1b4b2ab7",
   "metadata": {},
   "outputs": [],
   "source": [
    "[[28 20 11]\n",
    " [76 47 26]\n",
    " [97 29 23]]\n",
    "[14 41 59]\n",
    "35\n"
   ]
  },
  {
   "cell_type": "markdown",
   "id": "f5568949",
   "metadata": {},
   "source": [
    "<p>Computing determinants:</p>"
   ]
  },
  {
   "cell_type": "code",
   "execution_count": null,
   "id": "c7518e97",
   "metadata": {},
   "outputs": [],
   "source": [
    "print(numpy.linalg.det(A))"
   ]
  },
  {
   "cell_type": "code",
   "execution_count": null,
   "id": "f9701b08",
   "metadata": {},
   "outputs": [],
   "source": [
    "27.0\n"
   ]
  },
  {
   "cell_type": "markdown",
   "id": "9dc2bd04",
   "metadata": {},
   "source": [
    "<p>Solving linear systems of equations, such as <span>$A {\\bf x} = {\\bf d}$</span>:</p>"
   ]
  },
  {
   "cell_type": "code",
   "execution_count": null,
   "id": "83e9c8f7",
   "metadata": {},
   "outputs": [],
   "source": [
    "print(numpy.linalg.solve(A, d))"
   ]
  },
  {
   "cell_type": "code",
   "execution_count": null,
   "id": "2f10db5b",
   "metadata": {},
   "outputs": [],
   "source": [
    "[ -6.33333333e+00   5.66666667e+00  -1.40980702e-16]\n"
   ]
  },
  {
   "cell_type": "markdown",
   "id": "18aa3300",
   "metadata": {},
   "source": [
    "<section class=\"section5\"><h5>Exercise</h5>\n",
    "<p>Define three matrices:\n",
    "<span>$\n",
    "A = \\begin{pmatrix}\n",
    "1 &amp; 4 &amp; 3 &amp; 2 \\\\\n",
    "2 &amp; -7 &amp; 5 &amp; 1 \\\\\n",
    "1 &amp; 2 &amp; 6 &amp; 0 \\\\\n",
    "2 &amp; -10 &amp; 3 &amp; 4\n",
    "\\end{pmatrix}, \\quad\n",
    "B = \\begin{pmatrix}\n",
    "5 &amp; 2 &amp; -4 &amp; -2 \\\\\n",
    "-3 &amp; 1 &amp; 5 &amp; 1 \\\\\n",
    "4 &amp; -1 &amp; 1 &amp; 3 \\\\\n",
    "2 &amp; 1 &amp; -1 &amp; 1\n",
    "\\end{pmatrix}, \\quad\n",
    "C = \\begin{pmatrix}\n",
    "3 &amp; 0 &amp; 0 &amp; 0 \\\\\n",
    "7 &amp; -6 &amp; 0 &amp; 0 \\\\\n",
    "2 &amp; -1 &amp; -1 &amp; 0 \\\\\n",
    "-4 &amp; -2 &amp; 2 &amp; -2\n",
    "\\end{pmatrix}.\n",
    "$</span>\n",
    "Compute the ranks of all matrices. Compute the determinants of\n",
    "<span>$\n",
    "A^T B^{-1}, \\qquad B/4, \\qquad C, \\qquad 2 B + C.\n",
    "$</span>\n",
    "</p>\n",
    "</section>"
   ]
  }
 ],
 "metadata": {},
 "nbformat": 4,
 "nbformat_minor": 5
}
